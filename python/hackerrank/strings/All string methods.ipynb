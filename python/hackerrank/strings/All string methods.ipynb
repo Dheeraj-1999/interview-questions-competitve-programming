{
 "cells": [
  {
   "cell_type": "code",
   "execution_count": 9,
   "metadata": {},
   "outputs": [
    {
     "name": "stdout",
     "output_type": "stream",
     "text": [
      "qA2\n",
      "True\n",
      "Truealphabet\n",
      "True\n",
      "False\n",
      "True\n",
      "Truealphabet\n",
      "True\n",
      "False\n",
      "True\n",
      "True\n",
      "False\n"
     ]
    }
   ],
   "source": [
    "if __name__ == '__main__':\n",
    "    str = input()\n",
    "    count = 0\n",
    "    for s in str:\n",
    "        if((s.isalnum())):\n",
    "            print(True)\n",
    "            count += 1\n",
    "            if(s.isalpha()):\n",
    "                print(\"True\"+\"alphabet\")\n",
    "                count += 1\n",
    "                if(s.islower()):\n",
    "                    print(True)\n",
    "                    count += 1    \n",
    "                elif(s.isupper()):\n",
    "                    print(True)\n",
    "                    count += 1\n",
    "            elif(s.isdigit()):\n",
    "                print(True)\n",
    "                count += 1\n",
    "        if(count==5):\n",
    "            break\n",
    "        else:\n",
    "            print(False)\n",
    "            count += 1"
   ]
  },
  {
   "cell_type": "code",
   "execution_count": 14,
   "metadata": {},
   "outputs": [
    {
     "name": "stdout",
     "output_type": "stream",
     "text": [
      "qA2\n",
      "True alphanumeric\n",
      "Truealpha\n",
      "True lower\n",
      "False\n",
      "False\n"
     ]
    }
   ],
   "source": [
    "if __name__ == '__main__':\n",
    "    str = input()\n",
    "    count = True\n",
    "    for s in str:\n",
    "        if((s.isalnum())and count):\n",
    "            print(\"True alphanumeric\")\n",
    "            count = False\n",
    "            if(s.isalpha()):\n",
    "                print(\"Truealpha\")\n",
    "                # count += 1\n",
    "                if(s.islower()):\n",
    "                    print(\"True lower\")\n",
    "                    # count += 1    \n",
    "                elif(s.isupper()):\n",
    "                    print(\"True upper\")\n",
    "                    # count += 1\n",
    "            elif(s.isdigit()):\n",
    "                print(\"True numeric\")\n",
    "                # count += 1\n",
    "        \n",
    "        else:\n",
    "            print(False)\n",
    "            # count += 1"
   ]
  },
  {
   "cell_type": "code",
   "execution_count": 19,
   "metadata": {},
   "outputs": [
    {
     "name": "stdout",
     "output_type": "stream",
     "text": [
      "qA2\n",
      "True\n",
      "True\n",
      "True\n",
      "True\n",
      "True\n"
     ]
    }
   ],
   "source": [
    "string = input('')\n",
    "print(any(c.isalnum() for c in string))\n",
    "print(any(c.isalpha() for c in string))\n",
    "print(any(c.isupper() for c in string))\n",
    "print(any(c.islower() for c in string))\n",
    "print(any(c.isdigit() for c in string))"
   ]
  },
  {
   "cell_type": "code",
   "execution_count": 21,
   "metadata": {},
   "outputs": [
    {
     "name": "stdout",
     "output_type": "stream",
     "text": [
      "qA2\n",
      "True\n",
      "True\n",
      "True\n",
      "True\n",
      "True\n"
     ]
    }
   ],
   "source": [
    "s = input('')\n",
    "for test in ('isalnum', 'isalpha', 'isdigit', 'islower', 'isupper'):\n",
    "        print(any(eval(\"c.\" + test + \"()\") for c in s))"
   ]
  },
  {
   "cell_type": "code",
   "execution_count": null,
   "metadata": {},
   "outputs": [],
   "source": []
  }
 ],
 "metadata": {
  "kernelspec": {
   "display_name": "Python 3",
   "language": "python",
   "name": "python3"
  },
  "language_info": {
   "codemirror_mode": {
    "name": "ipython",
    "version": 3
   },
   "file_extension": ".py",
   "mimetype": "text/x-python",
   "name": "python",
   "nbconvert_exporter": "python",
   "pygments_lexer": "ipython3",
   "version": "3.7.5"
  }
 },
 "nbformat": 4,
 "nbformat_minor": 2
}
