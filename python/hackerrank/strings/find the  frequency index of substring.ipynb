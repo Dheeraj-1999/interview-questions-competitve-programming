{
 "cells": [
  {
   "cell_type": "code",
   "execution_count": 15,
   "metadata": {},
   "outputs": [],
   "source": [
    "string = \"AbBaAbBaAbBa\"\n",
    "sub = \"Ab\"\n",
    "# string.find(sub,7)"
   ]
  },
  {
   "cell_type": "code",
   "execution_count": 23,
   "metadata": {
    "scrolled": false
   },
   "outputs": [
    {
     "name": "stdout",
     "output_type": "stream",
     "text": [
      "4\n",
      "8\n",
      "-1\n",
      "3\n"
     ]
    }
   ],
   "source": [
    "index = 0\n",
    "count = 0\n",
    "i = True\n",
    "index = string.find(sub, 0)\n",
    "if index == 0:\n",
    "    count += 1\n",
    "index = 0\n",
    "while(i):\n",
    "    if(index>len(string) or index == -1):\n",
    "        break\n",
    "    else:\n",
    "        index = string.find(sub, index+1)\n",
    "        count += 1\n",
    "        print(index)\n",
    "        continue\n",
    "print(count-1)"
   ]
  },
  {
   "cell_type": "code",
   "execution_count": null,
   "metadata": {},
   "outputs": [],
   "source": []
  }
 ],
 "metadata": {
  "kernelspec": {
   "display_name": "Python 3",
   "language": "python",
   "name": "python3"
  },
  "language_info": {
   "codemirror_mode": {
    "name": "ipython",
    "version": 3
   },
   "file_extension": ".py",
   "mimetype": "text/x-python",
   "name": "python",
   "nbconvert_exporter": "python",
   "pygments_lexer": "ipython3",
   "version": "3.7.5"
  }
 },
 "nbformat": 4,
 "nbformat_minor": 2
}
