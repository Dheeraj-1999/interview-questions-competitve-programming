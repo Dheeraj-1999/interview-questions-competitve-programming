{
 "cells": [
  {
   "cell_type": "code",
   "execution_count": 2,
   "metadata": {},
   "outputs": [
    {
     "name": "stdout",
     "output_type": "stream",
     "text": [
      "BANANA\n",
      "straut 12\n"
     ]
    }
   ],
   "source": [
    "string = input(\"\")\n",
    "vowels = 'AEIOU'\n",
    "strsc = 0\n",
    "kevsc = 0\n",
    "for i in range(len(string)):\n",
    "    if string[i] in vowels:\n",
    "        kevsc += (len(string)- i)\n",
    "    else:\n",
    "        strsc += (len(string)- i)\n",
    "if(kevsc>strsc):\n",
    "    print(\"kelvin\", kevsc)\n",
    "elif(strsc>kevsc):\n",
    "    print(\"straut\", strsc)\n",
    "else:\n",
    "    print(\"draw\")\n"
   ]
  },
  {
   "cell_type": "code",
   "execution_count": null,
   "metadata": {},
   "outputs": [],
   "source": []
  }
 ],
 "metadata": {
  "kernelspec": {
   "display_name": "Python 3",
   "language": "python",
   "name": "python3"
  },
  "language_info": {
   "codemirror_mode": {
    "name": "ipython",
    "version": 3
   },
   "file_extension": ".py",
   "mimetype": "text/x-python",
   "name": "python",
   "nbconvert_exporter": "python",
   "pygments_lexer": "ipython3",
   "version": "3.7.5"
  }
 },
 "nbformat": 4,
 "nbformat_minor": 2
}
