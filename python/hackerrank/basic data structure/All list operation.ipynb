{
 "cells": [
  {
   "cell_type": "markdown",
   "metadata": {},
   "source": [
    "##### Consider a list (list = []). You can perform the following commands:\n",
    "\n",
    "    insert i e: Insert integer \n",
    "\n",
    "at position\n",
    ".\n",
    "print: Print the list.\n",
    "remove e: Delete the first occurrence of integer\n",
    ".\n",
    "append e: Insert integer\n",
    "\n",
    "    at the end of the list.\n",
    "    sort: Sort the list.\n",
    "    pop: Pop the last element from the list.\n",
    "    reverse: Reverse the list.\n",
    "\n",
    "Initialize your list and read in the value of\n",
    "followed by lines of commands where each command will be of the\n",
    "\n",
    "types listed above. Iterate through each command in order and perform the corresponding operation on your list.\n",
    "\n",
    "Input Format\n",
    "\n",
    "The first line contains an integer,\n",
    ", denoting the number of commands.\n",
    "Each line of the\n",
    "\n",
    "subsequent lines contains one of the commands described above.\n",
    "\n",
    "Constraints\n",
    "\n",
    "    The elements added to the list must be integers.\n",
    "\n",
    "Output Format\n",
    "\n",
    "For each command of type print, print the list on a new line.\n",
    "\n",
    "Sample Input 0\n",
    "\n",
    "12\n",
    "insert 0 5\n",
    "insert 1 10\n",
    "insert 0 6\n",
    "print\n",
    "remove 6\n",
    "append 9\n",
    "append 1\n",
    "sort\n",
    "print\n",
    "pop\n",
    "reverse\n",
    "print\n",
    "\n",
    "Sample Output 0\n",
    "\n",
    "[6, 5, 10]\n",
    "[1, 5, 9, 10]\n",
    "[9, 5, 1]\n",
    "\n"
   ]
  },
  {
   "cell_type": "code",
   "execution_count": null,
   "metadata": {},
   "outputs": [],
   "source": [
    "string, value, *index = input('').split()\n",
    "inputs = []\n",
    "input1 = [string, value, index]\n",
    "inputs.append(input1)\n",
    "index = list(map(lambda x: int(x), index))\n",
    "value = int(value)\n",
    "# input1 = [[string,value, *index] for i in input('').strip().split()]"
   ]
  },
  {
   "cell_type": "code",
   "execution_count": null,
   "metadata": {
    "scrolled": true
   },
   "outputs": [],
   "source": [
    "output = []   "
   ]
  },
  {
   "cell_type": "code",
   "execution_count": 15,
   "metadata": {},
   "outputs": [
    {
     "name": "stdout",
     "output_type": "stream",
     "text": [
      "5\n",
      "print\n",
      "[6, 5, 10]\n",
      "remove 6\n",
      "print\n",
      "[5, 10]\n",
      "print\n",
      "[5, 10]\n",
      "print\n",
      "[5, 10]\n"
     ]
    }
   ],
   "source": [
    "N = int(input())\n",
    "output = []\n",
    "while(N>0):\n",
    "    inputs = [i for i in input('').split()]\n",
    "    if(inputs[0] == \"insert\"):\n",
    "        inputs[1] = int(inputs[1])\n",
    "        inputs[2] = int(inputs[2])\n",
    "        output.insert(inputs[1], inputs[2])\n",
    "#         print(output)\n",
    "    elif(inputs[0] == \"print\"):\n",
    "        print(output)\n",
    "    elif(inputs[0] == 'append'):\n",
    "        inputs[1] = int(inputs[1])\n",
    "        output.append(inputs[1])\n",
    "    elif(inputs[0] == 'remove'):\n",
    "        inputs[1] = int(inputs[1])\n",
    "        output.remove(inputs[1])\n",
    "    elif(inputs[0] == 'pop'):\n",
    "        output.pop()\n",
    "    elif(inputs[0] == 'sort'):\n",
    "        output = sorted(output)\n",
    "    elif(inputs[0] == 'reverse'):\n",
    "        output.reverse()\n",
    "    N -=1"
   ]
  },
  {
   "cell_type": "code",
   "execution_count": 9,
   "metadata": {},
   "outputs": [],
   "source": [
    "output = [1,2,3]"
   ]
  },
  {
   "cell_type": "code",
   "execution_count": 12,
   "metadata": {},
   "outputs": [
    {
     "data": {
      "text/plain": [
       "[3, 2, 1]"
      ]
     },
     "execution_count": 12,
     "metadata": {},
     "output_type": "execute_result"
    }
   ],
   "source": [
    "output.reverse()\n",
    "output"
   ]
  },
  {
   "cell_type": "code",
   "execution_count": null,
   "metadata": {},
   "outputs": [],
   "source": []
  }
 ],
 "metadata": {
  "kernelspec": {
   "display_name": "Python 3",
   "language": "python",
   "name": "python3"
  },
  "language_info": {
   "codemirror_mode": {
    "name": "ipython",
    "version": 3
   },
   "file_extension": ".py",
   "mimetype": "text/x-python",
   "name": "python",
   "nbconvert_exporter": "python",
   "pygments_lexer": "ipython3",
   "version": "3.7.5"
  }
 },
 "nbformat": 4,
 "nbformat_minor": 2
}
