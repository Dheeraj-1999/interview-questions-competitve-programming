{
 "cells": [
  {
   "cell_type": "markdown",
   "metadata": {},
   "source": [
    "##### Given the names and grades for each student in a Physics class of\n",
    "\n",
    "students, store them in a nested list and print the name(s) of any student(s) having the second lowest grade.\n",
    "\n",
    "Note: If there are multiple students with the same grade, order their names alphabetically and print each name on a new line.\n",
    "\n",
    "Input Format\n",
    "\n",
    "The first line contains an integer,\n",
    ", the number of students.\n",
    "The subsequent lines describe each student over\n",
    "\n",
    "lines; the first line contains a student's name, and the second line contains their grade.\n",
    "\n",
    "Constraints\n",
    "\n",
    "    There will always be one or more students having the second lowest grade.\n",
    "\n",
    "Output Format\n",
    "\n",
    "Print the name(s) of any student(s) having the second lowest grade in Physics; if there are multiple students, order their names alphabetically and print each one on a new line.\n",
    "\n",
    "Sample Input 0\n",
    "\n",
    "5\n",
    "Harry\n",
    "37.21\n",
    "Berry\n",
    "37.21\n",
    "Tina\n",
    "37.2\n",
    "\n",
    "\n",
    "Akriti\n",
    "41\n",
    "Harsh\n",
    "39\n",
    "\n",
    "Sample Output 0\n",
    "\n",
    "Berry\n",
    "Harry\n",
    "\n",
    "Explanation 0\n",
    "\n",
    "There are "
   ]
  },
  {
   "cell_type": "code",
   "execution_count": 3,
   "metadata": {},
   "outputs": [
    {
     "name": "stdout",
     "output_type": "stream",
     "text": [
      "2\n",
      "man\n",
      "23\n",
      "jsad\n",
      "23\n"
     ]
    }
   ],
   "source": [
    "N = int(input())\n",
    "output = {}\n",
    "while(N>0):\n",
    "    name = [input('')]\n",
    "    marks = float(input(\"\"))\n",
    "    if marks in output:\n",
    "        output[marks].append(name)\n",
    "    else:\n",
    "        output[marks] = name\n",
    "    N -= 1\n",
    "# if (len(output[sorted(output)[0]])>1):\n",
    "#     print((output[sorted(output)[0]])[0])\n",
    "# elif(len(output[sorted(output)[1]])>1):\n",
    "#     print(((output[sorted(output)[1]])[1])[0])\n",
    "#     print((output[sorted(output)[1]])[0])\n",
    "# else:\n",
    "#     print(output[sorted(output)[0]])"
   ]
  },
  {
   "cell_type": "code",
   "execution_count": 4,
   "metadata": {},
   "outputs": [
    {
     "name": "stdout",
     "output_type": "stream",
     "text": [
      "{23.0: ['m', 'a', 'n', ['j', 's', 'a', 'd']]}\n"
     ]
    }
   ],
   "source": [
    "# output[37.21].append('harry')\n",
    "print(output)\n",
    "\n",
    "# print((output[sorted(output)[0]])[-1][0])\n",
    "# print(output[sorted(output)[-1]])"
   ]
  },
  {
   "cell_type": "code",
   "execution_count": 68,
   "metadata": {},
   "outputs": [],
   "source": [
    "di = {35.0: ['harrry', ['berry']]}\n",
    "# di[sorted(di)[1]]\n",
    "# di[sorted(di.values())[1]]"
   ]
  },
  {
   "cell_type": "code",
   "execution_count": 49,
   "metadata": {},
   "outputs": [
    {
     "data": {
      "text/plain": [
       "2"
      ]
     },
     "execution_count": 49,
     "metadata": {},
     "output_type": "execute_result"
    }
   ],
   "source": [
    "len(di[sorted(di)[0]])"
   ]
  },
  {
   "cell_type": "code",
   "execution_count": 64,
   "metadata": {},
   "outputs": [
    {
     "name": "stdout",
     "output_type": "stream",
     "text": [
      "3\n",
      "a\n",
      "2\n"
     ]
    },
    {
     "ename": "TypeError",
     "evalue": "unsupported operand type(s) for +=: 'dict' and 'list'",
     "output_type": "error",
     "traceback": [
      "\u001b[1;31m---------------------------------------------------------------------------\u001b[0m",
      "\u001b[1;31mTypeError\u001b[0m                                 Traceback (most recent call last)",
      "\u001b[1;32m<ipython-input-64-72dafa60a6b8>\u001b[0m in \u001b[0;36m<module>\u001b[1;34m\u001b[0m\n\u001b[0;32m      5\u001b[0m     \u001b[0mname\u001b[0m \u001b[1;33m=\u001b[0m \u001b[0minput\u001b[0m\u001b[1;33m(\u001b[0m\u001b[1;34m''\u001b[0m\u001b[1;33m)\u001b[0m\u001b[1;33m\u001b[0m\u001b[1;33m\u001b[0m\u001b[0m\n\u001b[0;32m      6\u001b[0m     \u001b[0mmarks\u001b[0m \u001b[1;33m=\u001b[0m \u001b[0mfloat\u001b[0m\u001b[1;33m(\u001b[0m\u001b[0minput\u001b[0m\u001b[1;33m(\u001b[0m\u001b[1;34m\"\"\u001b[0m\u001b[1;33m)\u001b[0m\u001b[1;33m)\u001b[0m\u001b[1;33m\u001b[0m\u001b[1;33m\u001b[0m\u001b[0m\n\u001b[1;32m----> 7\u001b[1;33m     \u001b[0moutput\u001b[0m \u001b[1;33m+=\u001b[0m \u001b[1;33m[\u001b[0m\u001b[1;33m[\u001b[0m\u001b[0mname\u001b[0m\u001b[1;33m,\u001b[0m\u001b[0mmarks\u001b[0m\u001b[1;33m]\u001b[0m\u001b[1;33m]\u001b[0m\u001b[1;33m\u001b[0m\u001b[1;33m\u001b[0m\u001b[0m\n\u001b[0m\u001b[0;32m      8\u001b[0m     \u001b[0mscore\u001b[0m \u001b[1;33m+=\u001b[0m \u001b[1;33m[\u001b[0m\u001b[0mmarks\u001b[0m\u001b[1;33m]\u001b[0m\u001b[1;33m\u001b[0m\u001b[1;33m\u001b[0m\u001b[0m\n\u001b[0;32m      9\u001b[0m     \u001b[0mN\u001b[0m \u001b[1;33m-=\u001b[0m \u001b[1;36m1\u001b[0m\u001b[1;33m\u001b[0m\u001b[1;33m\u001b[0m\u001b[0m\n",
      "\u001b[1;31mTypeError\u001b[0m: unsupported operand type(s) for +=: 'dict' and 'list'"
     ]
    }
   ],
   "source": [
    "N = int(input())\n",
    "output = []\n",
    "score = []\n",
    "while(N>0):\n",
    "    name = input('')\n",
    "    marks = float(input(\"\"))\n",
    "    output += [[name,marks]]\n",
    "    score += [score]\n",
    "    N -= 1"
   ]
  },
  {
   "cell_type": "code",
   "execution_count": 59,
   "metadata": {},
   "outputs": [
    {
     "name": "stdout",
     "output_type": "stream",
     "text": [
      "b\n"
     ]
    }
   ],
   "source": [
    "shighest = sorted(score)[1]\n",
    "for a, b in sorted(output):\n",
    "    if b==shighest:\n",
    "        print(a)"
   ]
  },
  {
   "cell_type": "code",
   "execution_count": 60,
   "metadata": {},
   "outputs": [
    {
     "name": "stdout",
     "output_type": "stream",
     "text": [
      "b\n"
     ]
    }
   ],
   "source": [
    "second_lowest_mark = sorted(list(dict.fromkeys(score)))[1]\n",
    "\n",
    "for name,marks in sorted(output):\n",
    "    if marks == second_lowest_mark:\n",
    "        print(name)"
   ]
  },
  {
   "cell_type": "code",
   "execution_count": 65,
   "metadata": {},
   "outputs": [
    {
     "name": "stdout",
     "output_type": "stream",
     "text": [
      "3\n",
      "a\n",
      "2\n",
      "b\n",
      "2\n",
      "c\n",
      "1\n"
     ]
    }
   ],
   "source": [
    "N = int(input())\n",
    "output = {}\n",
    "while(N>0):\n",
    "    name = [input('')]\n",
    "    marks = float(input(\"\"))\n",
    "    if marks in output:\n",
    "        output[marks].append(name)\n",
    "    else:\n",
    "        output[marks] = name\n",
    "    N -= 1"
   ]
  },
  {
   "cell_type": "code",
   "execution_count": 66,
   "metadata": {
    "scrolled": true
   },
   "outputs": [
    {
     "data": {
      "text/plain": [
       "[1.0, 2.0]"
      ]
     },
     "execution_count": 66,
     "metadata": {},
     "output_type": "execute_result"
    }
   ],
   "source": [
    "sorted(list(dict.fromkeys(output)))"
   ]
  },
  {
   "cell_type": "code",
   "execution_count": 68,
   "metadata": {},
   "outputs": [
    {
     "data": {
      "text/plain": [
       "{2.0: ['a', ['b']], 1.0: ['c']}"
      ]
     },
     "execution_count": 68,
     "metadata": {},
     "output_type": "execute_result"
    }
   ],
   "source": [
    "(output)"
   ]
  },
  {
   "cell_type": "code",
   "execution_count": 70,
   "metadata": {},
   "outputs": [
    {
     "name": "stdout",
     "output_type": "stream",
     "text": [
      "5\n",
      "harry\n",
      "37.21\n",
      "berry\n",
      "37.21\n",
      "tina\n",
      "37.2\n",
      "honey\n",
      "45\n",
      "kalu\n",
      "56\n"
     ]
    }
   ],
   "source": [
    "N = int(input())\n",
    "output = []\n",
    "score = []\n",
    "while(N>0):\n",
    "    name = input('')\n",
    "    marks = float(input(\"\"))\n",
    "    output += [[name,marks]]\n",
    "    score += [marks]\n",
    "    N -= 1\n",
    "shighest = sorted(score)[1]\n",
    "for a, b in sorted(output):\n",
    "    if b==shighest:\n",
    "        print(a)\n",
    "        print(b)"
   ]
  },
  {
   "cell_type": "code",
   "execution_count": 72,
   "metadata": {},
   "outputs": [
    {
     "name": "stdout",
     "output_type": "stream",
     "text": [
      "[['harry', 37.21], ['berry', 37.21], ['tina', 37.2], ['honey', 45.0], ['kalu', 56.0]]\n"
     ]
    }
   ],
   "source": [
    "print(output)"
   ]
  },
  {
   "cell_type": "code",
   "execution_count": null,
   "metadata": {},
   "outputs": [],
   "source": [
    "print"
   ]
  }
 ],
 "metadata": {
  "kernelspec": {
   "display_name": "Python 3",
   "language": "python",
   "name": "python3"
  },
  "language_info": {
   "codemirror_mode": {
    "name": "ipython",
    "version": 3
   },
   "file_extension": ".py",
   "mimetype": "text/x-python",
   "name": "python",
   "nbconvert_exporter": "python",
   "pygments_lexer": "ipython3",
   "version": "3.7.5"
  }
 },
 "nbformat": 4,
 "nbformat_minor": 2
}
