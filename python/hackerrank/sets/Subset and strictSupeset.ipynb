{
 "cells": [
  {
   "cell_type": "code",
   "execution_count": 2,
   "metadata": {},
   "outputs": [
    {
     "name": "stdout",
     "output_type": "stream",
     "text": [
      "1 2 3 5 6\n",
      "9 8 5 6 3 2 1 4 7\n",
      "True\n"
     ]
    }
   ],
   "source": [
    "setA = set(map(int, input().split(' ')))\n",
    "setB = set(map(int, input().split(' ')))\n",
    "print(setA.issubset(setB))"
   ]
  },
  {
   "cell_type": "code",
   "execution_count": 3,
   "metadata": {},
   "outputs": [
    {
     "name": "stdout",
     "output_type": "stream",
     "text": [
      "9 8 5 6 3 2 1 4 7\n",
      "1 2 3 5 6\n",
      "True\n"
     ]
    }
   ],
   "source": [
    "def strictSuperSet(setA, setB):\n",
    "    return(setA.issuperset(setB))"
   ]
  },
  {
   "cell_type": "code",
   "execution_count": 4,
   "metadata": {},
   "outputs": [],
   "source": [
    "def strictSuperSet(setA):\n",
    "    t = int(input())\n",
    "    while(t>0):\n",
    "        setB = set(map(int, input().split(' ')))\n",
    "        if(setA.issuperset(setB)):\n",
    "            t -= 1\n",
    "        else:\n",
    "            return(False)\n",
    "    return(True)"
   ]
  },
  {
   "cell_type": "code",
   "execution_count": 6,
   "metadata": {},
   "outputs": [
    {
     "name": "stdout",
     "output_type": "stream",
     "text": [
      "1 2 3 4 5 6 7 8 9 10 11 12 23 45 84 78\n",
      "2\n",
      "1 2 3 4 5\n",
      "10 11 12 23 45\n"
     ]
    },
    {
     "data": {
      "text/plain": [
       "True"
      ]
     },
     "execution_count": 6,
     "metadata": {},
     "output_type": "execute_result"
    }
   ],
   "source": [
    "setA = set(map(int, input().split(' ')))\n",
    "strictSuperSet(setA)"
   ]
  },
  {
   "cell_type": "code",
   "execution_count": null,
   "metadata": {},
   "outputs": [],
   "source": []
  }
 ],
 "metadata": {
  "kernelspec": {
   "display_name": "Python 3",
   "language": "python",
   "name": "python3"
  },
  "language_info": {
   "codemirror_mode": {
    "name": "ipython",
    "version": 3
   },
   "file_extension": ".py",
   "mimetype": "text/x-python",
   "name": "python",
   "nbconvert_exporter": "python",
   "pygments_lexer": "ipython3",
   "version": "3.7.5"
  }
 },
 "nbformat": 4,
 "nbformat_minor": 2
}
