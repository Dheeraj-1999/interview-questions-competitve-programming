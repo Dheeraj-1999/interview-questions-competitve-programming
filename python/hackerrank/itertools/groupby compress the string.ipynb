{
 "cells": [
  {
   "cell_type": "code",
   "execution_count": 15,
   "metadata": {},
   "outputs": [
    {
     "name": "stdout",
     "output_type": "stream",
     "text": [
      "1222311\n",
      "(1, '1') (3, '2') (1, '3') (2, '1')\n"
     ]
    }
   ],
   "source": [
    "s = input()\n",
    "count = 1\n",
    "for i in range(1, len(s)):\n",
    "    if(s[i-1] == s[i]):\n",
    "        count += 1\n",
    "    else:\n",
    "        print((count, s[i-1]), end = ' ')\n",
    "        count = 1\n",
    "print((count, s[i-1]))"
   ]
  },
  {
   "cell_type": "code",
   "execution_count": 35,
   "metadata": {},
   "outputs": [
    {
     "name": "stdout",
     "output_type": "stream",
     "text": [
      "(1, 1) (2, 3) (3, 1) (1, 2) "
     ]
    }
   ],
   "source": [
    "import itertools as it\n",
    "for i,j in it.groupby(s):\n",
    "    print((int(i),len(list(j))), end = ' ')"
   ]
  },
  {
   "cell_type": "code",
   "execution_count": null,
   "metadata": {},
   "outputs": [],
   "source": [
    "it.groupby"
   ]
  }
 ],
 "metadata": {
  "kernelspec": {
   "display_name": "Python 3",
   "language": "python",
   "name": "python3"
  },
  "language_info": {
   "codemirror_mode": {
    "name": "ipython",
    "version": 3
   },
   "file_extension": ".py",
   "mimetype": "text/x-python",
   "name": "python",
   "nbconvert_exporter": "python",
   "pygments_lexer": "ipython3",
   "version": "3.7.5"
  }
 },
 "nbformat": 4,
 "nbformat_minor": 2
}
