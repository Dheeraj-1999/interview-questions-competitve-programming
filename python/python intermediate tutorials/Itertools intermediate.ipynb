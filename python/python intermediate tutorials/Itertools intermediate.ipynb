{
 "cells": [
  {
   "cell_type": "code",
   "execution_count": 3,
   "metadata": {},
   "outputs": [],
   "source": [
    "import itertools\n"
   ]
  },
  {
   "cell_type": "markdown",
   "metadata": {},
   "source": [
    "### use of zip"
   ]
  },
  {
   "cell_type": "code",
   "execution_count": 17,
   "metadata": {},
   "outputs": [
    {
     "data": {
      "text/plain": [
       "[(0, 1), (2, 3), (4, 5), (6, 7), (8, 9)]"
      ]
     },
     "execution_count": 17,
     "metadata": {},
     "output_type": "execute_result"
    }
   ],
   "source": [
    "lists = list(range(11))\n",
    "iters = ([iter(lists)]*2)\n",
    "list(zip(*iters))\n",
    "# [id(itr)for itr in iters]"
   ]
  },
  {
   "cell_type": "code",
   "execution_count": 18,
   "metadata": {},
   "outputs": [
    {
     "data": {
      "text/plain": [
       "[0, 1, 2, 3, 4, 5, 6, 7, 8, 9, 10]"
      ]
     },
     "execution_count": 18,
     "metadata": {},
     "output_type": "execute_result"
    }
   ],
   "source": [
    "lists"
   ]
  },
  {
   "cell_type": "code",
   "execution_count": 22,
   "metadata": {},
   "outputs": [
    {
     "ename": "TypeError",
     "evalue": "zip argument #1 must support iteration",
     "output_type": "error",
     "traceback": [
      "\u001b[1;31m---------------------------------------------------------------------------\u001b[0m",
      "\u001b[1;31mTypeError\u001b[0m                                 Traceback (most recent call last)",
      "\u001b[1;32m<ipython-input-22-3daf115fbea7>\u001b[0m in \u001b[0;36m<module>\u001b[1;34m\u001b[0m\n\u001b[1;32m----> 1\u001b[1;33m \u001b[0mzip\u001b[0m\u001b[1;33m(\u001b[0m\u001b[1;33m*\u001b[0m\u001b[0mlists\u001b[0m\u001b[1;33m)\u001b[0m\u001b[1;33m\u001b[0m\u001b[0m\n\u001b[0m",
      "\u001b[1;31mTypeError\u001b[0m: zip argument #1 must support iteration"
     ]
    }
   ],
   "source": [
    "zip(*lists)"
   ]
  },
  {
   "cell_type": "markdown",
   "metadata": {},
   "source": [
    "# itertools.combinations() and itertools.permutation()"
   ]
  },
  {
   "cell_type": "code",
   "execution_count": 40,
   "metadata": {},
   "outputs": [
    {
     "data": {
      "text/plain": [
       "[('1', '2'), ('1', '3'), ('2', '3')]"
      ]
     },
     "execution_count": 40,
     "metadata": {},
     "output_type": "execute_result"
    }
   ],
   "source": [
    "list(itertools.combinations(['1', '2', '3'], 2))"
   ]
  },
  {
   "cell_type": "code",
   "execution_count": 43,
   "metadata": {
    "scrolled": true
   },
   "outputs": [
    {
     "name": "stdout",
     "output_type": "stream",
     "text": [
      "()\n",
      "(50,)\n",
      "(20,)\n",
      "(10,)\n",
      "(5,)\n",
      "(1,)\n",
      "(50, 20)\n",
      "(50, 10)\n",
      "(50, 5)\n",
      "(50, 1)\n",
      "(20, 10)\n",
      "(20, 5)\n",
      "(20, 1)\n",
      "(10, 5)\n",
      "(10, 1)\n",
      "(5, 1)\n",
      "(50, 20, 10)\n",
      "(50, 20, 5)\n",
      "(50, 20, 1)\n",
      "(50, 10, 5)\n",
      "(50, 10, 1)\n",
      "(50, 5, 1)\n",
      "(20, 10, 5)\n",
      "(20, 10, 1)\n",
      "(20, 5, 1)\n",
      "(10, 5, 1)\n",
      "(50, 20, 10, 5)\n",
      "(50, 20, 10, 1)\n",
      "(50, 20, 5, 1)\n",
      "(50, 10, 5, 1)\n",
      "(20, 10, 5, 1)\n"
     ]
    }
   ],
   "source": [
    "bills = [50, 20, 10, 5, 1]\n",
    "for n in range(len(bills)):\n",
    "    for combination in itertools.combinations(bills, n):\n",
    "        print(combination)\n",
    "# print(len(combination))"
   ]
  },
  {
   "cell_type": "code",
   "execution_count": 46,
   "metadata": {},
   "outputs": [
    {
     "data": {
      "text/plain": [
       "[(20, 20, 20, 10, 10, 10, 10),\n",
       " (20, 20, 20, 10, 10, 10, 10),\n",
       " (20, 20, 20, 10, 10, 10, 10),\n",
       " (20, 20, 20, 10, 10, 10, 10),\n",
       " (20, 20, 20, 10, 10, 10, 10),\n",
       " (20, 20, 20, 10, 10, 10, 5, 5),\n",
       " (20, 20, 20, 10, 10, 10, 5, 5),\n",
       " (20, 20, 20, 10, 10, 10, 5, 5),\n",
       " (20, 20, 20, 10, 10, 10, 5, 5),\n",
       " (20, 20, 20, 10, 10, 10, 5, 5),\n",
       " (20, 20, 20, 10, 10, 10, 5, 5),\n",
       " (20, 20, 20, 10, 10, 10, 5, 5),\n",
       " (20, 20, 20, 10, 10, 10, 5, 5),\n",
       " (20, 20, 20, 10, 10, 10, 5, 5),\n",
       " (20, 20, 20, 10, 10, 10, 5, 5),\n",
       " (20, 20, 10, 10, 10, 10, 10, 5, 5),\n",
       " (20, 20, 10, 10, 10, 10, 10, 5, 5),\n",
       " (20, 20, 10, 10, 10, 10, 10, 5, 5),\n",
       " (20, 20, 20, 10, 10, 10, 5, 1, 1, 1, 1, 1),\n",
       " (20, 20, 20, 10, 10, 10, 5, 1, 1, 1, 1, 1),\n",
       " (20, 20, 20, 10, 10, 10, 5, 1, 1, 1, 1, 1),\n",
       " (20, 20, 20, 10, 10, 10, 5, 1, 1, 1, 1, 1),\n",
       " (20, 20, 20, 10, 10, 10, 5, 1, 1, 1, 1, 1),\n",
       " (20, 20, 20, 10, 10, 10, 5, 1, 1, 1, 1, 1),\n",
       " (20, 20, 20, 10, 10, 10, 5, 1, 1, 1, 1, 1),\n",
       " (20, 20, 20, 10, 10, 10, 5, 1, 1, 1, 1, 1),\n",
       " (20, 20, 20, 10, 10, 10, 5, 1, 1, 1, 1, 1),\n",
       " (20, 20, 20, 10, 10, 10, 5, 1, 1, 1, 1, 1),\n",
       " (20, 20, 20, 10, 10, 10, 5, 1, 1, 1, 1, 1),\n",
       " (20, 20, 20, 10, 10, 10, 5, 1, 1, 1, 1, 1),\n",
       " (20, 20, 20, 10, 10, 10, 5, 1, 1, 1, 1, 1),\n",
       " (20, 20, 20, 10, 10, 10, 5, 1, 1, 1, 1, 1),\n",
       " (20, 20, 20, 10, 10, 10, 5, 1, 1, 1, 1, 1),\n",
       " (20, 20, 20, 10, 10, 10, 5, 1, 1, 1, 1, 1),\n",
       " (20, 20, 20, 10, 10, 10, 5, 1, 1, 1, 1, 1),\n",
       " (20, 20, 20, 10, 10, 10, 5, 1, 1, 1, 1, 1),\n",
       " (20, 20, 20, 10, 10, 10, 5, 1, 1, 1, 1, 1),\n",
       " (20, 20, 20, 10, 10, 10, 5, 1, 1, 1, 1, 1),\n",
       " (20, 20, 10, 10, 10, 10, 10, 5, 1, 1, 1, 1, 1),\n",
       " (20, 20, 10, 10, 10, 10, 10, 5, 1, 1, 1, 1, 1),\n",
       " (20, 20, 10, 10, 10, 10, 10, 5, 1, 1, 1, 1, 1),\n",
       " (20, 20, 10, 10, 10, 10, 10, 5, 1, 1, 1, 1, 1),\n",
       " (20, 20, 10, 10, 10, 10, 10, 5, 1, 1, 1, 1, 1),\n",
       " (20, 20, 10, 10, 10, 10, 10, 5, 1, 1, 1, 1, 1)]"
      ]
     },
     "execution_count": 46,
     "metadata": {},
     "output_type": "execute_result"
    }
   ],
   "source": [
    "bills = [20, 20, 20, 10, 10, 10, 10, 10, 5, 5, 1, 1, 1, 1, 1]\n",
    "mk_100 = []\n",
    "for n in range(len(bills)):\n",
    "    for combination in itertools.combinations(bills, n):\n",
    "        if sum(combination) == 100:\n",
    "            mk_100.append(combination)\n",
    "mk_100"
   ]
  },
  {
   "cell_type": "code",
   "execution_count": 51,
   "metadata": {},
   "outputs": [
    {
     "data": {
      "text/plain": [
       "[('a', 'b', 'c'),\n",
       " ('a', 'c', 'b'),\n",
       " ('b', 'a', 'c'),\n",
       " ('b', 'c', 'a'),\n",
       " ('c', 'a', 'b'),\n",
       " ('c', 'b', 'a')]"
      ]
     },
     "execution_count": 51,
     "metadata": {},
     "output_type": "execute_result"
    }
   ],
   "source": [
    "list(itertools.permutations('abc'))"
   ]
  },
  {
   "cell_type": "markdown",
   "metadata": {},
   "source": [
    "## some exp with odd and evens:"
   ]
  },
  {
   "cell_type": "code",
   "execution_count": 8,
   "metadata": {},
   "outputs": [
    {
     "data": {
      "text/plain": [
       "[0, 2, 4, 6, 8]"
      ]
     },
     "execution_count": 8,
     "metadata": {},
     "output_type": "execute_result"
    }
   ],
   "source": [
    "def evens():\n",
    "    n = 0\n",
    "    while True:\n",
    "        yield n\n",
    "        n += 2\n",
    "evens = evens()\n",
    "[next(evens) for _ in range(5)]"
   ]
  },
  {
   "cell_type": "code",
   "execution_count": 2,
   "metadata": {},
   "outputs": [
    {
     "data": {
      "text/plain": [
       "[1, 3, 5, 7, 9]"
      ]
     },
     "execution_count": 2,
     "metadata": {},
     "output_type": "execute_result"
    }
   ],
   "source": [
    "def odds():\n",
    "    n = 1\n",
    "    while True:\n",
    "        yield n\n",
    "        n +=2\n",
    "odds = odds()\n",
    "[next(odds) for i in range(5)]"
   ]
  },
  {
   "cell_type": "markdown",
   "metadata": {},
   "source": [
    "## even and odd using itertools.count(): "
   ]
  },
  {
   "cell_type": "code",
   "execution_count": 7,
   "metadata": {
    "scrolled": true
   },
   "outputs": [
    {
     "data": {
      "text/plain": [
       "[0, 2, 4, 6, 8]"
      ]
     },
     "execution_count": 7,
     "metadata": {},
     "output_type": "execute_result"
    }
   ],
   "source": [
    "even_it = itertools.count(start = 0, step = 2)\n",
    "[next(even_it) for i in range(5)]"
   ]
  },
  {
   "cell_type": "code",
   "execution_count": 9,
   "metadata": {},
   "outputs": [
    {
     "data": {
      "text/plain": [
       "[1, 3, 5, 7, 9]"
      ]
     },
     "execution_count": 9,
     "metadata": {},
     "output_type": "execute_result"
    }
   ],
   "source": [
    "odd_it = itertools.count(start = 1, step = 2)\n",
    "[next(odd_it) for i in range(5)]"
   ]
  },
  {
   "cell_type": "code",
   "execution_count": 18,
   "metadata": {},
   "outputs": [
    {
     "name": "stdout",
     "output_type": "stream",
     "text": [
      "count(1)\n"
     ]
    },
    {
     "data": {
      "text/plain": [
       "[1, 2, 3, 4, 5]"
      ]
     },
     "execution_count": 18,
     "metadata": {},
     "output_type": "execute_result"
    }
   ],
   "source": [
    "a = itertools.count(1)\n",
    "print(a)\n",
    "[next(a) for i in range(5)]"
   ]
  },
  {
   "cell_type": "code",
   "execution_count": 17,
   "metadata": {},
   "outputs": [
    {
     "data": {
      "text/plain": [
       "count(6)"
      ]
     },
     "execution_count": 17,
     "metadata": {},
     "output_type": "execute_result"
    }
   ],
   "source": [
    "a"
   ]
  },
  {
   "cell_type": "code",
   "execution_count": 21,
   "metadata": {},
   "outputs": [
    {
     "data": {
      "text/plain": [
       "[(1, 'a'), (2, 'b'), (3, 'c')]"
      ]
     },
     "execution_count": 21,
     "metadata": {},
     "output_type": "execute_result"
    }
   ],
   "source": [
    "list(zip(itertools.count(1), ['a', 'b', 'c']))"
   ]
  },
  {
   "cell_type": "markdown",
   "metadata": {},
   "source": [
    "## Fibbonaci series "
   ]
  },
  {
   "cell_type": "code",
   "execution_count": 37,
   "metadata": {},
   "outputs": [
    {
     "data": {
      "text/plain": [
       "[0,\n",
       " 1,\n",
       " 1,\n",
       " 2,\n",
       " 3,\n",
       " 5,\n",
       " 8,\n",
       " 13,\n",
       " 21,\n",
       " 34,\n",
       " 55,\n",
       " 89,\n",
       " 144,\n",
       " 233,\n",
       " 377,\n",
       " 610,\n",
       " 987,\n",
       " 1597,\n",
       " 2584,\n",
       " 4181]"
      ]
     },
     "execution_count": 37,
     "metadata": {},
     "output_type": "execute_result"
    }
   ],
   "source": [
    "def fibo():\n",
    "    a, b = 0, 1 \n",
    "    while True:\n",
    "        yield a\n",
    "        a, b = b, a+b\n",
    "fibo = fibo()\n",
    "[next(fibo) for i in range(20)]\n",
    "    "
   ]
  },
  {
   "cell_type": "code",
   "execution_count": 35,
   "metadata": {},
   "outputs": [
    {
     "data": {
      "text/plain": [
       "[0, 1, 2, 3, 4, 5, 6, 7, 8, 9]"
      ]
     },
     "execution_count": 35,
     "metadata": {},
     "output_type": "execute_result"
    }
   ],
   "source": [
    "def prints():\n",
    "    i = 0\n",
    "    while True:\n",
    "        yield i\n",
    "        i += 1\n",
    "pri = prints()\n",
    "[next(pri) for i in range(10)]"
   ]
  },
  {
   "cell_type": "code",
   "execution_count": null,
   "metadata": {},
   "outputs": [],
   "source": []
  }
 ],
 "metadata": {
  "kernelspec": {
   "display_name": "Python 3",
   "language": "python",
   "name": "python3"
  },
  "language_info": {
   "codemirror_mode": {
    "name": "ipython",
    "version": 3
   },
   "file_extension": ".py",
   "mimetype": "text/x-python",
   "name": "python",
   "nbconvert_exporter": "python",
   "pygments_lexer": "ipython3",
   "version": "3.7.0"
  }
 },
 "nbformat": 4,
 "nbformat_minor": 2
}
