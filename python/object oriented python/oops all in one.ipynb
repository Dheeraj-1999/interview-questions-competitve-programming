{
 "cells": [
  {
   "cell_type": "code",
   "execution_count": 6,
   "metadata": {},
   "outputs": [],
   "source": [
    "class point:\n",
    "    pass\n",
    "point()\n",
    "point.x = 1\n",
    "# p1.y = 2"
   ]
  },
  {
   "cell_type": "code",
   "execution_count": 7,
   "metadata": {},
   "outputs": [
    {
     "data": {
      "text/plain": [
       "1"
      ]
     },
     "execution_count": 7,
     "metadata": {},
     "output_type": "execute_result"
    }
   ],
   "source": [
    "(point.x)"
   ]
  },
  {
   "cell_type": "markdown",
   "metadata": {},
   "source": [
    "# Add method to Class"
   ]
  },
  {
   "cell_type": "code",
   "execution_count": 13,
   "metadata": {},
   "outputs": [
    {
     "name": "stdout",
     "output_type": "stream",
     "text": [
      "1 45\n"
     ]
    }
   ],
   "source": [
    "class point:\n",
    "    #self is type of instance or refernce to object which is invoking the variables\n",
    "    \n",
    "    \n",
    "    def assign(self, x, y):\n",
    "        self.x = x\n",
    "        self.y = y\n",
    "    def print(self):\n",
    "        print(self.x, self.y)\n",
    "p1 = point()\n",
    "p1.assign(1,45)\n",
    "p1.print()\n",
    "             "
   ]
  },
  {
   "cell_type": "markdown",
   "metadata": {},
   "source": [
    "# Initliazer MEthod"
   ]
  },
  {
   "cell_type": "code",
   "execution_count": 16,
   "metadata": {},
   "outputs": [
    {
     "name": "stdout",
     "output_type": "stream",
     "text": [
      "1 45.0\n"
     ]
    }
   ],
   "source": [
    "class point:\n",
    "    #self is type of instance or refernce to object which is invoking the variables\n",
    "    \n",
    "    def __init__(self, x, y):\n",
    "        self.x = x\n",
    "        self.y = y\n",
    "        \n",
    "    def print(self):\n",
    "        print(self.x, self.y)\n",
    "p1 = point('1',45.0)\n",
    "# p1.assign()\n",
    "p1.print()\n",
    "             "
   ]
  },
  {
   "cell_type": "code",
   "execution_count": 22,
   "metadata": {},
   "outputs": [
    {
     "name": "stdout",
     "output_type": "stream",
     "text": [
      "1 45.0\n"
     ]
    }
   ],
   "source": [
    "class point:\n",
    "    #self is type of instance or refernce to object which is invoking the variables\n",
    "    \n",
    "    def __init__(self, x, y):\n",
    "        self.assign(x,y)\n",
    "    def assign(self, x, y):\n",
    "        self.x = x\n",
    "        self.y = y   \n",
    "    def print(self):\n",
    "        print(self.x, self.y)\n",
    "p1 = point('1',45.0)\n",
    "# p1.assign()\n",
    "p1.print()\n",
    "             "
   ]
  },
  {
   "cell_type": "markdown",
   "metadata": {},
   "source": [
    "# class MEthod and functions"
   ]
  },
  {
   "cell_type": "code",
   "execution_count": null,
   "metadata": {},
   "outputs": [],
   "source": [
    "#function in class is method\n",
    "#also method contain a self method in it"
   ]
  },
  {
   "cell_type": "markdown",
   "metadata": {},
   "source": [
    "# Doc Strings: documnet strings"
   ]
  },
  {
   "cell_type": "code",
   "execution_count": 28,
   "metadata": {
    "collapsed": true
   },
   "outputs": [
    {
     "name": "stdout",
     "output_type": "stream",
     "text": [
      "this isoutside doc\n",
      "this inside doc\n",
      "this assign doc\n",
      "Help on point in module __main__ object:\n",
      "\n",
      "class point(builtins.object)\n",
      " |  point(x, y)\n",
      " |  \n",
      " |  this inside doc\n",
      " |  \n",
      " |  Methods defined here:\n",
      " |  \n",
      " |  __init__(self, x, y)\n",
      " |      Initialize self.  See help(type(self)) for accurate signature.\n",
      " |  \n",
      " |  assign(self, x, y)\n",
      " |      this assign doc\n",
      " |  \n",
      " |  print(self)\n",
      " |      this print doc\n",
      " |  \n",
      " |  ----------------------------------------------------------------------\n",
      " |  Data descriptors defined here:\n",
      " |  \n",
      " |  __dict__\n",
      " |      dictionary for instance variables (if defined)\n",
      " |  \n",
      " |  __weakref__\n",
      " |      list of weak references to the object (if defined)\n",
      "\n",
      "None\n",
      "1 45.0\n"
     ]
    }
   ],
   "source": [
    "\n",
    "\"this isoutside doc\"\n",
    "class point:\n",
    "    #self is type of instance or refernce to object which is invoking the variables\n",
    "    \"this inside doc\"\n",
    "    def __init__(self, x, y):\n",
    "        self.assign(x,y)\n",
    "    def assign(self, x, y):\n",
    "        \"this assign doc\"\n",
    "        self.x = x\n",
    "        self.y = y   \n",
    "    def print(self):\n",
    "        \"this print doc\"\n",
    "        print(self.x, self.y)\n",
    "print(__doc__)\n",
    "p1 = point('1',45.0)\n",
    "print(p1.__doc__)\n",
    "print(p1.assign.__doc__)\n",
    "print(help(p1))\n",
    "# p1.assign()\n",
    "p1.print()\n",
    "             "
   ]
  },
  {
   "cell_type": "markdown",
   "metadata": {},
   "source": [
    "# Multiline Docstrings"
   ]
  },
  {
   "cell_type": "code",
   "execution_count": 30,
   "metadata": {},
   "outputs": [
    {
     "name": "stdout",
     "output_type": "stream",
     "text": [
      "\"\"this isoutside doc\n",
      "        multiline\n",
      "this inside doc\n",
      "this assign doc\n",
      "1 45.0\n"
     ]
    }
   ],
   "source": [
    "\n",
    "\"\"\"\"\"this isoutside doc\n",
    "        multiline\"\"\"\n",
    "class point:\n",
    "    #self is type of instance or refernce to object which is invoking the variables\n",
    "    \"this inside doc\"\n",
    "    def __init__(self, x, y):\n",
    "        self.assign(x,y)\n",
    "    def assign(self, x, y):\n",
    "        \"this assign doc\"\n",
    "        self.x = x\n",
    "        self.y = y   \n",
    "    def print(self):\n",
    "        \"this print doc\"\n",
    "        print(self.x, self.y)\n",
    "print(__doc__)\n",
    "p1 = point('1',45.0)\n",
    "print(p1.__doc__)\n",
    "print(p1.assign.__doc__)\n",
    "# print(help(p1))\n",
    "# p1.assign()\n",
    "p1.print()\n",
    "             "
   ]
  },
  {
   "cell_type": "markdown",
   "metadata": {},
   "source": [
    "# want to use of clss in other package using import"
   ]
  },
  {
   "cell_type": "code",
   "execution_count": null,
   "metadata": {},
   "outputs": [],
   "source": [
    "class class01:\n",
    "    \n",
    "    def __init__(self, x, y):\n",
    "        self.x = x\n",
    "        self.y = y\n",
    "    def printing(self):\n",
    "        print(self.x, self.y)\n",
    "class class01:\n",
    "    def __init__(self):\n",
    "        print(\"created an object class02\")\n",
    "    "
   ]
  },
  {
   "cell_type": "markdown",
   "metadata": {},
   "source": [
    "# Super() function in Inheritance"
   ]
  },
  {
   "cell_type": "code",
   "execution_count": 4,
   "metadata": {},
   "outputs": [
    {
     "name": "stdout",
     "output_type": "stream",
     "text": [
      "1\n",
      "2\n"
     ]
    }
   ],
   "source": [
    "class A:\n",
    "    def spam(self):\n",
    "        print(1)\n",
    "\n",
    "class B(A):\n",
    "    def spam(self):\n",
    "        super().spam()      \n",
    "        print(2)\n",
    "#         \n",
    "B().spam()"
   ]
  },
  {
   "cell_type": "code",
   "execution_count": 15,
   "metadata": {},
   "outputs": [
    {
     "name": "stdout",
     "output_type": "stream",
     "text": [
      "1 2 3\n"
     ]
    },
    {
     "data": {
      "text/plain": [
       "1"
      ]
     },
     "execution_count": 15,
     "metadata": {},
     "output_type": "execute_result"
    }
   ],
   "source": [
    "class person:\n",
    "    def __init__(self, a, b, c):\n",
    "        self.a = a\n",
    "        self.b = b\n",
    "        self.c = c\n",
    "    def assign(self):\n",
    "        self.var1 = self.a\n",
    "        self.var2 = self.b\n",
    "        self.var3 = self.c\n",
    "        \n",
    "    def print(self):\n",
    "        print(self.a, self.b, self.c)\n",
    "tommy = person(1,2,3)\n",
    "tommy.assign()\n",
    "tommy.print()\n",
    "tommy.a\n",
    "tommy.assign"
   ]
  },
  {
   "cell_type": "markdown",
   "metadata": {},
   "source": [
    "# Some fun with oop's"
   ]
  },
  {
   "cell_type": "code",
   "execution_count": 24,
   "metadata": {},
   "outputs": [],
   "source": [
    "class employee:\n",
    "    increment_amount = 5\n",
    "    employee_no = 0\n",
    "    def __init__(self, fname, lname, sal):\n",
    "        self.fname = fname\n",
    "        self.lanme = lname\n",
    "        self.sal = sal\n",
    "        employee.employee_no += 1 \n",
    "    def increment(self):\n",
    "        self.sal = int(self.sal * employee.increment_amount)\n",
    "dheeraj = employee('dheeraj', 'nagpal', 44000)\n",
    "rohan = employee('rohan', 'das', 40000)"
   ]
  },
  {
   "cell_type": "code",
   "execution_count": 26,
   "metadata": {},
   "outputs": [
    {
     "data": {
      "text/plain": [
       "1100000"
      ]
     },
     "execution_count": 26,
     "metadata": {},
     "output_type": "execute_result"
    }
   ],
   "source": [
    "dheeraj.increment()\n",
    "dheeraj.sal"
   ]
  },
  {
   "cell_type": "markdown",
   "metadata": {},
   "source": [
    "# Use of classMethod"
   ]
  },
  {
   "cell_type": "code",
   "execution_count": 30,
   "metadata": {},
   "outputs": [
    {
     "name": "stdout",
     "output_type": "stream",
     "text": [
      "80000 84000\n"
     ]
    }
   ],
   "source": [
    "class employee:\n",
    "    increment_amount = 5\n",
    "    employee_no = 0\n",
    "    def __init__(self, fname, lname, sal):\n",
    "        self.fname = fname\n",
    "        self.lanme = lname\n",
    "        self.sal = sal\n",
    "        employee.employee_no += 1 \n",
    "    def increment(self):\n",
    "        self.sal = int(self.sal + employee.increment_amount)\n",
    "    @classmethod\n",
    "    def change_sal(cls, amount):\n",
    "        cls.increment_amount = amount\n",
    "dheeraj = employee('dheeraj', 'nagpal', 44000)\n",
    "rohan = employee('rohan', 'das', 40000)\n",
    "employee.change_sal(40000)  #NOTE THIS POINT\n",
    "\n",
    "rohan.increment()\n",
    "dheeraj.increment()\n",
    "print(rohan.sal, dheeraj.sal)"
   ]
  },
  {
   "cell_type": "markdown",
   "metadata": {},
   "source": [
    "# Class method as alterntive constructor"
   ]
  },
  {
   "cell_type": "code",
   "execution_count": 37,
   "metadata": {},
   "outputs": [
    {
     "name": "stdout",
     "output_type": "stream",
     "text": [
      "40000 44000 lovish\n"
     ]
    }
   ],
   "source": [
    "class employee:\n",
    "    increment_amount = 5\n",
    "    employee_no = 0\n",
    "    def __init__(self, fname, lname, sal):\n",
    "        self.fname = fname\n",
    "        self.lanme = lname\n",
    "        self.sal = sal\n",
    "        employee.employee_no += 1 \n",
    "    def increment(self):\n",
    "        self.sal = int(self.sal + employee.increment_amount)\n",
    "    \n",
    "    @classmethod\n",
    "    def change_sal(cls, amount):\n",
    "        cls.increment_amount = amount\n",
    "    @classmethod\n",
    "    def parse_employee(cls, employee_as_string):\n",
    "        fname, lname, sal = employee_as_string.split('-')\n",
    "        return cls(fname, lname, sal)\n",
    "\n",
    "\n",
    "dheeraj = employee('dheeraj', 'nagpal', 44000)\n",
    "rohan = employee('rohan', 'das', 40000)\n",
    "lovish = employee.parse_employee('lovish-balana-76000')\n",
    "print(rohan.sal, dheeraj.sal, lovish.fname)"
   ]
  },
  {
   "cell_type": "code",
   "execution_count": 41,
   "metadata": {},
   "outputs": [
    {
     "name": "stdout",
     "output_type": "stream",
     "text": [
      "40000 44000 lovish\n"
     ]
    }
   ],
   "source": [
    "class employee:\n",
    "    increment_amount = 5\n",
    "    employee_no = 0\n",
    "    def __init__(self, fname, lname, sal):\n",
    "        self.fname = fname\n",
    "        self.lanme = lname\n",
    "        self.sal = sal\n",
    "        employee.employee_no += 1 \n",
    "    def increment(self):\n",
    "        self.sal = int(self.sal + employee.increment_amount)\n",
    "    \n",
    "    @classmethod\n",
    "    def change_sal(cls, amount):\n",
    "        cls.increment_amount = amount\n",
    "    @classmethod\n",
    "    def initialize(cls, firstname, lastname, salary):\n",
    "        fname = firstname\n",
    "        lname = lastname\n",
    "        sal = salary\n",
    "        return cls(fname, lname, sal)\n",
    "\n",
    "\n",
    "dheeraj = employee('dheeraj', 'nagpal', 44000)\n",
    "rohan = employee('rohan', 'das', 40000)\n",
    "lovish = employee.initialize('lovish','balana',76000)\n",
    "print(rohan.sal, dheeraj.sal, lovish.fname)"
   ]
  },
  {
   "cell_type": "markdown",
   "metadata": {},
   "source": [
    "# Static Methods"
   ]
  },
  {
   "cell_type": "code",
   "execution_count": 44,
   "metadata": {},
   "outputs": [
    {
     "data": {
      "text/plain": [
       "False"
      ]
     },
     "execution_count": 44,
     "metadata": {},
     "output_type": "execute_result"
    }
   ],
   "source": [
    "class employee:\n",
    "    increment_amount = 5\n",
    "    employee_no = 0\n",
    "    def __init__(self, fname, lname, sal):\n",
    "        self.fname = fname\n",
    "        self.lanme = lname\n",
    "        self.sal = sal\n",
    "        employee.employee_no += 1 \n",
    "    def increment(self):\n",
    "        self.sal = int(self.sal + employee.increment_amount)\n",
    "    \n",
    "    @classmethod\n",
    "    def change_sal(cls, amount):\n",
    "        cls.increment_amount = amount\n",
    "    @classmethod\n",
    "    def initialize(cls, firstname, lastname, salary):\n",
    "        fname = firstname\n",
    "        lname = lastname\n",
    "        sal = salary\n",
    "        return cls(fname, lname, sal)\n",
    "    @staticmethod\n",
    "    def is_open(day):\n",
    "        if day == 'sunday':\n",
    "            return False\n",
    "        else:\n",
    "            return True\n",
    "# dheeraj = employee('dheeraj', 'nagpal', 44000)\n",
    "employee.is_open('sunday')\n",
    "# rohan = employee('rohan', 'das', 40000)\n",
    "# lovish = employee.initialize('lovish','balana',76000)\n",
    "# print(rohan.sal, dheeraj.sal, lovish.fname)"
   ]
  },
  {
   "cell_type": "markdown",
   "metadata": {},
   "source": [
    "# __dict__\n"
   ]
  },
  {
   "cell_type": "code",
   "execution_count": 6,
   "metadata": {},
   "outputs": [
    {
     "name": "stdout",
     "output_type": "stream",
     "text": [
      "52\n"
     ]
    }
   ],
   "source": [
    "class Geeks: \n",
    "    def __init__(self, id): \n",
    "        self.id = id\n",
    "        self.__id = id\n",
    "manager = Geeks(100) \n",
    "manager.__dict__['life'] = 49\n",
    "print(manager.life + len(manager.__dict__) )"
   ]
  },
  {
   "cell_type": "code",
   "execution_count": 7,
   "metadata": {},
   "outputs": [
    {
     "name": "stdout",
     "output_type": "stream",
     "text": [
      "{'id': 100, '_Geeks__id': 100, 'life': 49}\n"
     ]
    }
   ],
   "source": [
    "print(manager.__dict__)"
   ]
  },
  {
   "cell_type": "code",
   "execution_count": 9,
   "metadata": {},
   "outputs": [
    {
     "name": "stdout",
     "output_type": "stream",
     "text": [
      "counter 2\n"
     ]
    },
    {
     "ename": "TypeError",
     "evalue": "catching classes that do not inherit from BaseException is not allowed",
     "output_type": "error",
     "traceback": [
      "\u001b[1;31m---------------------------------------------------------------------------\u001b[0m",
      "\u001b[1;31mTypeError\u001b[0m                                 Traceback (most recent call last)",
      "\u001b[1;32m<ipython-input-9-17208bc94d69>\u001b[0m in \u001b[0;36mperform_test\u001b[1;34m(temp_list, n)\u001b[0m\n\u001b[0;32m     10\u001b[0m                 \u001b[0mtemp_list\u001b[0m\u001b[1;33m[\u001b[0m\u001b[0mn\u001b[0m\u001b[1;33m]\u001b[0m \u001b[1;33m-=\u001b[0m \u001b[1;36m2\u001b[0m\u001b[1;33m\u001b[0m\u001b[1;33m\u001b[0m\u001b[0m\n\u001b[1;32m---> 11\u001b[1;33m                 \u001b[1;32mraise\u001b[0m \u001b[0mExceptionOne\u001b[0m\u001b[1;33m(\u001b[0m\u001b[1;33m)\u001b[0m\u001b[1;33m\u001b[0m\u001b[1;33m\u001b[0m\u001b[0m\n\u001b[0m\u001b[0;32m     12\u001b[0m                 \u001b[0mtemp_list\u001b[0m\u001b[1;33m[\u001b[0m\u001b[0mn\u001b[0m\u001b[1;33m]\u001b[0m \u001b[1;33m=\u001b[0m \u001b[1;36m5\u001b[0m\u001b[1;33m\u001b[0m\u001b[1;33m\u001b[0m\u001b[0m\n",
      "\u001b[1;31mTypeError\u001b[0m: exceptions must derive from BaseException",
      "\nDuring handling of the above exception, another exception occurred:\n",
      "\u001b[1;31mTypeError\u001b[0m                                 Traceback (most recent call last)",
      "\u001b[1;32m<ipython-input-9-17208bc94d69>\u001b[0m in \u001b[0;36m<module>\u001b[1;34m\u001b[0m\n\u001b[0;32m     21\u001b[0m \u001b[1;32mtry\u001b[0m\u001b[1;33m:\u001b[0m\u001b[1;33m\u001b[0m\u001b[1;33m\u001b[0m\u001b[0m\n\u001b[0;32m     22\u001b[0m     \u001b[0mt\u001b[0m \u001b[1;33m=\u001b[0m \u001b[0mtest\u001b[0m\u001b[1;33m(\u001b[0m\u001b[1;33m)\u001b[0m\u001b[1;33m\u001b[0m\u001b[1;33m\u001b[0m\u001b[0m\n\u001b[1;32m---> 23\u001b[1;33m     \u001b[0mt\u001b[0m\u001b[1;33m.\u001b[0m\u001b[0mperform_test\u001b[0m\u001b[1;33m(\u001b[0m\u001b[1;33m[\u001b[0m\u001b[1;36m2\u001b[0m\u001b[1;33m,\u001b[0m\u001b[1;36m4\u001b[0m\u001b[1;33m,\u001b[0m\u001b[1;36m7\u001b[0m\u001b[1;33m,\u001b[0m\u001b[1;36m5\u001b[0m\u001b[1;33m,\u001b[0m\u001b[1;36m1\u001b[0m\u001b[1;33m]\u001b[0m\u001b[1;33m,\u001b[0m \u001b[1;36m3\u001b[0m\u001b[1;33m)\u001b[0m\u001b[1;33m\u001b[0m\u001b[1;33m\u001b[0m\u001b[0m\n\u001b[0m\u001b[0;32m     24\u001b[0m \u001b[1;32mfinally\u001b[0m\u001b[1;33m:\u001b[0m\u001b[1;33m\u001b[0m\u001b[1;33m\u001b[0m\u001b[0m\n\u001b[0;32m     25\u001b[0m     \u001b[0mprint\u001b[0m\u001b[1;33m(\u001b[0m\u001b[1;34m\"counter\"\u001b[0m\u001b[1;33m,\u001b[0m \u001b[0mtest\u001b[0m\u001b[1;33m.\u001b[0m\u001b[0mcounter\u001b[0m\u001b[1;33m)\u001b[0m\u001b[1;33m\u001b[0m\u001b[1;33m\u001b[0m\u001b[0m\n",
      "\u001b[1;32m<ipython-input-9-17208bc94d69>\u001b[0m in \u001b[0;36mperform_test\u001b[1;34m(temp_list, n)\u001b[0m\n\u001b[0;32m     13\u001b[0m             \u001b[1;32melse\u001b[0m\u001b[1;33m:\u001b[0m\u001b[1;33m\u001b[0m\u001b[1;33m\u001b[0m\u001b[0m\n\u001b[0;32m     14\u001b[0m                 \u001b[1;32mraise\u001b[0m \u001b[0mException\u001b[0m\u001b[1;33m(\u001b[0m\u001b[1;33m)\u001b[0m\u001b[1;33m\u001b[0m\u001b[1;33m\u001b[0m\u001b[0m\n\u001b[1;32m---> 15\u001b[1;33m         \u001b[1;32mexcept\u001b[0m \u001b[0mExceptionOne\u001b[0m\u001b[1;33m:\u001b[0m\u001b[1;33m\u001b[0m\u001b[1;33m\u001b[0m\u001b[0m\n\u001b[0m\u001b[0;32m     16\u001b[0m             \u001b[0mtest\u001b[0m\u001b[1;33m.\u001b[0m\u001b[0mcounter\u001b[0m \u001b[1;33m+=\u001b[0m \u001b[1;36m5\u001b[0m\u001b[1;33m\u001b[0m\u001b[1;33m\u001b[0m\u001b[0m\n\u001b[0;32m     17\u001b[0m         \u001b[1;32mexcept\u001b[0m \u001b[0mException\u001b[0m\u001b[1;33m:\u001b[0m\u001b[1;33m\u001b[0m\u001b[1;33m\u001b[0m\u001b[0m\n",
      "\u001b[1;31mTypeError\u001b[0m: catching classes that do not inherit from BaseException is not allowed"
     ]
    }
   ],
   "source": []
  },
  {
   "cell_type": "markdown",
   "metadata": {},
   "source": [
    "# Exception Handling  "
   ]
  },
  {
   "cell_type": "code",
   "execution_count": 10,
   "metadata": {},
   "outputs": [
    {
     "name": "stdout",
     "output_type": "stream",
     "text": [
      "data 3\n",
      "counter -3\n"
     ]
    }
   ],
   "source": [
    "# class ExceptionOne:\n",
    "#     pass\n",
    "class test:\n",
    "    counter = 1\n",
    "    @staticmethod\n",
    "    def perform_test(temp_list, n):\n",
    "        try:\n",
    "            if(temp_list[n] >= 5):\n",
    "                test.counter += 1\n",
    "                temp_list[n] -= 2\n",
    "                raise ExceptionOne()\n",
    "                temp_list[n] = 5\n",
    "            else:\n",
    "                raise Exception()\n",
    "        except Exception:\n",
    "            test.counter -= 5\n",
    "        except ExceptionOne:\n",
    "            test.counter += 5\n",
    "       \n",
    "        print(\"data\", temp_list[n])\n",
    "try:\n",
    "    t = test()\n",
    "    t.perform_test([2,4,7,5,1], 3)\n",
    "finally:\n",
    "    print(\"counter\", test.counter)"
   ]
  },
  {
   "cell_type": "code",
   "execution_count": 22,
   "metadata": {},
   "outputs": [
    {
     "name": "stdout",
     "output_type": "stream",
     "text": [
      "201\n"
     ]
    }
   ],
   "source": [
    "class base:\n",
    "    def __init__(self):\n",
    "        self.__value = 200\n",
    "    def get_value(self):\n",
    "        return(self.__value+1)\n",
    "class child(base):\n",
    "#     def __init__(self):\n",
    "        \n",
    "    def get_num(self):\n",
    "        num = 100\n",
    "        return num\n",
    "class grchild(child):\n",
    "    def __init__(self):\n",
    "        self.num = 200\n",
    "        super().__init__()\n",
    "child = child()\n",
    "grandchild = grchild()\n",
    "print(grandchild.get_value())"
   ]
  },
  {
   "cell_type": "code",
   "execution_count": 31,
   "metadata": {},
   "outputs": [
    {
     "ename": "NameError",
     "evalue": "name 'num' is not defined",
     "output_type": "error",
     "traceback": [
      "\u001b[1;31m---------------------------------------------------------------------------\u001b[0m",
      "\u001b[1;31mNameError\u001b[0m                                 Traceback (most recent call last)",
      "\u001b[1;32m<ipython-input-31-a2434832aec0>\u001b[0m in \u001b[0;36m<module>\u001b[1;34m\u001b[0m\n\u001b[0;32m     10\u001b[0m \u001b[0ma\u001b[0m \u001b[1;33m=\u001b[0m \u001b[0msample\u001b[0m\u001b[1;33m(\u001b[0m\u001b[1;36m200\u001b[0m\u001b[1;33m)\u001b[0m\u001b[1;33m\u001b[0m\u001b[1;33m\u001b[0m\u001b[0m\n\u001b[0;32m     11\u001b[0m \u001b[0ma\u001b[0m\u001b[1;33m.\u001b[0m\u001b[0mset_value\u001b[0m\u001b[1;33m(\u001b[0m\u001b[1;36m10\u001b[0m\u001b[1;33m)\u001b[0m\u001b[1;33m\u001b[0m\u001b[1;33m\u001b[0m\u001b[0m\n\u001b[1;32m---> 12\u001b[1;33m \u001b[0ma\u001b[0m\u001b[1;33m.\u001b[0m\u001b[0mget_value\u001b[0m\u001b[1;33m(\u001b[0m\u001b[1;33m)\u001b[0m\u001b[1;33m\u001b[0m\u001b[1;33m\u001b[0m\u001b[0m\n\u001b[0m",
      "\u001b[1;32m<ipython-input-31-a2434832aec0>\u001b[0m in \u001b[0;36mget_value\u001b[1;34m(self)\u001b[0m\n\u001b[0;32m      6\u001b[0m         \u001b[0mvalue\u001b[0m \u001b[1;33m=\u001b[0m \u001b[0mnum\u001b[0m\u001b[1;33m\u001b[0m\u001b[1;33m\u001b[0m\u001b[0m\n\u001b[0;32m      7\u001b[0m     \u001b[1;32mdef\u001b[0m \u001b[0mget_value\u001b[0m\u001b[1;33m(\u001b[0m\u001b[0mself\u001b[0m\u001b[1;33m)\u001b[0m\u001b[1;33m:\u001b[0m\u001b[1;33m\u001b[0m\u001b[1;33m\u001b[0m\u001b[0m\n\u001b[1;32m----> 8\u001b[1;33m         \u001b[0mself\u001b[0m\u001b[1;33m.\u001b[0m\u001b[0mvalue\u001b[0m \u001b[1;33m=\u001b[0m \u001b[0mnum\u001b[0m\u001b[1;33m\u001b[0m\u001b[1;33m\u001b[0m\u001b[0m\n\u001b[0m\u001b[0;32m      9\u001b[0m         \u001b[1;32mreturn\u001b[0m \u001b[0mself\u001b[0m\u001b[1;33m.\u001b[0m\u001b[0mvalue\u001b[0m\u001b[1;33m\u001b[0m\u001b[1;33m\u001b[0m\u001b[0m\n\u001b[0;32m     10\u001b[0m \u001b[0ma\u001b[0m \u001b[1;33m=\u001b[0m \u001b[0msample\u001b[0m\u001b[1;33m(\u001b[0m\u001b[1;36m200\u001b[0m\u001b[1;33m)\u001b[0m\u001b[1;33m\u001b[0m\u001b[1;33m\u001b[0m\u001b[0m\n",
      "\u001b[1;31mNameError\u001b[0m: name 'num' is not defined"
     ]
    }
   ],
   "source": [
    "class sample:\n",
    "    num = 100\n",
    "    def __init__(self,num):\n",
    "        self.value = None\n",
    "    def set_value(self,num):\n",
    "        value = num\n",
    "    def get_value(self):\n",
    "        self.value = num\n",
    "        return self.value\n",
    "a = sample(200)\n",
    "a.set_value(10)\n",
    "a.get_value() "
   ]
  },
  {
   "cell_type": "code",
   "execution_count": null,
   "metadata": {},
   "outputs": [],
   "source": []
  }
 ],
 "metadata": {
  "kernelspec": {
   "display_name": "Python 3",
   "language": "python",
   "name": "python3"
  },
  "language_info": {
   "codemirror_mode": {
    "name": "ipython",
    "version": 3
   },
   "file_extension": ".py",
   "mimetype": "text/x-python",
   "name": "python",
   "nbconvert_exporter": "python",
   "pygments_lexer": "ipython3",
   "version": "3.7.5"
  }
 },
 "nbformat": 4,
 "nbformat_minor": 2
}
