{
 "cells": [
  {
   "cell_type": "code",
   "execution_count": null,
   "metadata": {},
   "outputs": [],
   "source": [
    "import re\n",
    "mystr = '''Tata Limited\n",
    "Dr. David Landsman, executive director\n",
    "18, Grosvenor Place\n",
    "London SW1X 7HSc\n",
    "Phone: +44 (20) 7235 8281\n",
    "Fax: +44 (20) 7235 8727\n",
    "Email: tata@tata.co.uk\n",
    "Website: www.europe.tata.com\n",
    "Directions: View map\n",
    "\n",
    "Tata Sons, North America\n",
    "1700 North Moore St, Suite 1520\n",
    "Arlington, VA 22209-1911\n",
    "USA\n",
    "Phone: +1 (703) 243 9787\n",
    "Fax: +1 (703) 243 9791\n",
    "66-66\n",
    "455-4545\n",
    "Email: northamerica@tata.com \n",
    "Website: www.northamerica.tata.com\n",
    "Directions: View map fass\n",
    "harry bhai lekin\n",
    "bahut hi badia aadmi haiaiinaiiiiiiiiiiii'''\n",
    "\n",
    "# findall, search, split, sub, finditer\n",
    "# patt = re.compile(r'fass')\n",
    "# patt = re.compile(r'.adm')\n",
    "# patt = re.compile(r'^Tata')\n",
    "# patt = re.compile(r'iin$')\n",
    "# patt = re.compile(r'ai{2}')\n",
    "# patt = re.compile(r'(ai){1}')\n",
    "# patt = re.compile(r'ai{1}|Fax')\n",
    "\n",
    "\n",
    "# Special Sequences\n",
    "# patt = re.compile(r'Fax\\b')\n",
    "# patt = re.compile(r'27\\b')\n",
    "patt = re.compile(r'\\d{5}-\\d{4}')\n",
    "# Task\n",
    "# Given a string with a lot of indian phone numbers starting from +91\n",
    "\n",
    "matches = patt.finditer(mystr)\n",
    "for match in matches:\n",
    "    print(match)"
   ]
  }
 ],
 "metadata": {
  "kernelspec": {
   "display_name": "Python 3",
   "language": "python",
   "name": "python3"
  },
  "language_info": {
   "codemirror_mode": {
    "name": "ipython",
    "version": 3
   },
   "file_extension": ".py",
   "mimetype": "text/x-python",
   "name": "python",
   "nbconvert_exporter": "python",
   "pygments_lexer": "ipython3",
   "version": "3.7.5"
  }
 },
 "nbformat": 4,
 "nbformat_minor": 2
}
