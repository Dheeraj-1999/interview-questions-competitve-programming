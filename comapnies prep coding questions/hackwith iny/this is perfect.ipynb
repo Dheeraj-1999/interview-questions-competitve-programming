{
 "nbformat": 4,
 "nbformat_minor": 2,
 "metadata": {
  "language_info": {
   "name": "python",
   "codemirror_mode": {
    "name": "ipython",
    "version": 3
   },
   "version": "3.7.5-final"
  },
  "orig_nbformat": 2,
  "file_extension": ".py",
  "mimetype": "text/x-python",
  "name": "python",
  "npconvert_exporter": "python",
  "pygments_lexer": "ipython3",
  "version": 3,
  "kernelspec": {
   "name": "python37564bitanacondaconda8fdae7da735b42e8bb5614c179ca1693",
   "display_name": "Python 3.7.5 64-bit ('anaconda': conda)"
  }
 },
 "cells": [
  {
   "cell_type": "markdown",
   "metadata": {},
   "source": [
    "# o(n) solution"
   ]
  },
  {
   "cell_type": "code",
   "execution_count": 21,
   "metadata": {},
   "outputs": [],
   "source": [
    "t = int(input())\n",
    "while(t>0):\n",
    "    n = int(input())\n",
    "    sums = 0\n",
    "    for i in range(1, n):\n",
    "        if(n%i == 0):\n",
    "            sums += i\n",
    "    # if(sums+1 == n):\n",
    "    #     print('tue')\n",
    "    # else:\n",
    "    #     print('false')\n",
    "    t -= 1\n",
    ""
   ]
  },
  {
   "cell_type": "markdown",
   "metadata": {},
   "source": [
    "# o(sqrt(n)) solution"
   ]
  },
  {
   "cell_type": "code",
   "execution_count": 25,
   "metadata": {},
   "outputs": [
    {
     "output_type": "stream",
     "name": "stdout",
     "text": "2\n20.0\n23.0\n35.0\n39.0\n48.0\nfalse\n"
    }
   ],
   "source": [
    "import math\n",
    "t = int(input())\n",
    "while(t>0):\n",
    "    n = int(input())\n",
    "    sums = 0\n",
    "    last = int(math.sqrt(n))\n",
    "    for i in range(2, last):\n",
    "        if(n%i == 0):\n",
    "            sums += i\n",
    "            print(sums)\n",
    "            sums += (n/i)\n",
    "            print(sums)\n",
    "    if(n % last == 0):\n",
    "            sums += last\n",
    "    # if(sums+1 == n):\n",
    "    #     print('tue')\n",
    "    # else:\n",
    "    #     print('false')\n",
    "    t -= 1\n"
   ]
  },
  {
   "cell_type": "code",
   "execution_count": null,
   "metadata": {},
   "outputs": [],
   "source": []
  }
 ]
}