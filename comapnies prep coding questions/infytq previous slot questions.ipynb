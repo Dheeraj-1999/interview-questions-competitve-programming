{
 "cells": [
  {
   "cell_type": "markdown",
   "metadata": {},
   "source": [
    "# Question1 : Encryption through code "
   ]
  },
  {
   "cell_type": "code",
   "execution_count": 19,
   "metadata": {},
   "outputs": [
    {
     "name": "stdout",
     "output_type": "stream",
     "text": [
      "abhishek:34848,mayur:4739,yeah:9889\n",
      "3 3\n",
      "4 4\n",
      "8 8\n",
      "4 4\n",
      "kuX\n"
     ]
    }
   ],
   "source": [
    "main = input().split(\",\")\n",
    "output = ''\n",
    "for i in range(len(main)):\n",
    "    temp  = main[i].split(':')\n",
    "    length = len(temp[0])\n",
    "    previous = -1\n",
    "    for i in temp[1]:\n",
    "        if(int(i) <= length and int(i) > previous):\n",
    "            previous = int(i)\n",
    "            print(i, previous)\n",
    "    if(previous != -1):\n",
    "        output += (temp[0])[previous-1]\n",
    "    else:\n",
    "        output += 'X'\n",
    "print(output)"
   ]
  },
  {
   "cell_type": "code",
   "execution_count": 3,
   "metadata": {},
   "outputs": [
    {
     "data": {
      "text/plain": [
       "('fdajf', '4579')"
      ]
     },
     "execution_count": 3,
     "metadata": {},
     "output_type": "execute_result"
    }
   ],
   "source": [
    "string, digit"
   ]
  },
  {
   "cell_type": "code",
   "execution_count": 8,
   "metadata": {},
   "outputs": [
    {
     "data": {
      "text/plain": [
       "['dfkaj', '4532']"
      ]
     },
     "execution_count": 8,
     "metadata": {},
     "output_type": "execute_result"
    }
   ],
   "source": [
    "string = \"dfkaj:4532\"\n",
    "string.split(':')"
   ]
  },
  {
   "cell_type": "markdown",
   "metadata": {},
   "source": [
    "# question 2: odd digit otp generation\n"
   ]
  },
  {
   "cell_type": "code",
   "execution_count": 5,
   "metadata": {},
   "outputs": [
    {
     "name": "stdout",
     "output_type": "stream",
     "text": [
      "4365188\n",
      "9256\n"
     ]
    }
   ],
   "source": [
    "string = input()\n",
    "output = ''\n",
    "for i in range(1, len(string), 2):\n",
    "    output += str(int(string[i])**2)\n",
    "print(output[:4])"
   ]
  },
  {
   "cell_type": "code",
   "execution_count": null,
   "metadata": {},
   "outputs": [],
   "source": []
  }
 ],
 "metadata": {
  "kernelspec": {
   "display_name": "Python 3",
   "language": "python",
   "name": "python3"
  }
 },
 "nbformat": 4,
 "nbformat_minor": 2
}
