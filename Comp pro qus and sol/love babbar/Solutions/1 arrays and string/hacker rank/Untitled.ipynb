{
 "cells": [
  {
   "cell_type": "code",
   "execution_count": 7,
   "metadata": {},
   "outputs": [
    {
     "name": "stdout",
     "output_type": "stream",
     "text": [
      "dkhc\n",
      "hcdk\n"
     ]
    }
   ],
   "source": [
    "string1 = input()\n",
    "string2 = input()"
   ]
  },
  {
   "cell_type": "code",
   "execution_count": 8,
   "metadata": {},
   "outputs": [
    {
     "data": {
      "text/plain": [
       "True"
      ]
     },
     "execution_count": 8,
     "metadata": {},
     "output_type": "execute_result"
    }
   ],
   "source": [
    "string1 < string2"
   ]
  },
  {
   "cell_type": "code",
   "execution_count": 18,
   "metadata": {},
   "outputs": [
    {
     "name": "stdout",
     "output_type": "stream",
     "text": [
      "d d False\n",
      "0 0 d d False\n",
      "0 1 d h True\n",
      "0 2 d c False\n",
      "0 3 d k True\n",
      "1 0 h d False\n",
      "1 1 h h False\n",
      "1 2 h c False\n",
      "1 3 h k True\n",
      "2 0 c d True\n",
      "2 1 c h True\n",
      "2 2 c c False\n",
      "2 3 c k True\n",
      "3 0 k d False\n",
      "3 1 k h False\n",
      "3 2 k c False\n",
      "3 3 k k False\n"
     ]
    }
   ],
   "source": [
    "print(string1[0], string2[0], string1[0] < string2[0])\n",
    "for i in range(0, len(string1)):\n",
    "    for j in range(0,len(string1)):\n",
    "        print(i, j, string1[i], string1[j], string1[i] < string1[j])"
   ]
  },
  {
   "cell_type": "code",
   "execution_count": 14,
   "metadata": {},
   "outputs": [
    {
     "name": "stdout",
     "output_type": "stream",
     "text": [
      "dhck\n",
      "dhkc\n"
     ]
    }
   ],
   "source": [
    "string1 = input()\n",
    "string2 = input()"
   ]
  },
  {
   "cell_type": "code",
   "execution_count": 15,
   "metadata": {},
   "outputs": [
    {
     "name": "stdout",
     "output_type": "stream",
     "text": [
      "d d False\n",
      "h h False d h True\n",
      "c k True h c False\n",
      "k c False c k True\n"
     ]
    }
   ],
   "source": [
    "print(string1[0], string2[0], string1[0] < string2[0])\n",
    "for i in range(1, len(string1)):\n",
    "    print(string1[i], string2[i], string1[i] < string2[i], string1[i-1], string1[i], string1[i-1] < string1[i])"
   ]
  },
  {
   "cell_type": "code",
   "execution_count": null,
   "metadata": {},
   "outputs": [],
   "source": []
  }
 ],
 "metadata": {
  "kernelspec": {
   "display_name": "Python 3",
   "language": "python",
   "name": "python3"
  },
  "language_info": {
   "codemirror_mode": {
    "name": "ipython",
    "version": 3
   },
   "file_extension": ".py",
   "mimetype": "text/x-python",
   "name": "python",
   "nbconvert_exporter": "python",
   "pygments_lexer": "ipython3",
   "version": "3.7.5"
  }
 },
 "nbformat": 4,
 "nbformat_minor": 2
}
