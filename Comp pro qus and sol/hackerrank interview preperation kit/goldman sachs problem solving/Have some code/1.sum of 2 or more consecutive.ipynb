{
 "cells": [
  {
   "cell_type": "markdown",
   "metadata": {},
   "source": [
    "# 1. number sum of 2 or more consecutive natural number"
   ]
  },
  {
   "cell_type": "code",
   "execution_count": 13,
   "metadata": {},
   "outputs": [
    {
     "name": "stdout",
     "output_type": "stream",
     "text": [
      "enter9\n",
      "0\n"
     ]
    }
   ],
   "source": [
    "n = int(input(\"enter\"))\n",
    "count = 0\n",
    "b, i = 1, 2\n",
    "j = b+i\n",
    "while j<=n:\n",
    "    i+=1\n",
    "    j = b+i\n",
    "    b = j\n",
    "    while j<=n:\n",
    "        if j == n:\n",
    "            count+=1\n",
    "        j+=i\n",
    "print(count)"
   ]
  },
  {
   "cell_type": "code",
   "execution_count": 5,
   "metadata": {},
   "outputs": [
    {
     "name": "stdout",
     "output_type": "stream",
     "text": [
      "enter16\n",
      "0\n"
     ]
    }
   ],
   "source": [
    "i, k, count = 2, 0, 0\n",
    "n = int(input(\"enter\"))\n",
    "b=3\n",
    "while b<=n:\n",
    "    k = b\n",
    "    while b<=n:\n",
    "        #print(b)\n",
    "        if (b == n):\n",
    "            count+=1\n",
    "        b = b+i\n",
    "    i += 1\n",
    "    b = k+i\n",
    "print(count)\n"
   ]
  },
  {
   "cell_type": "code",
   "execution_count": null,
   "metadata": {},
   "outputs": [],
   "source": []
  }
 ],
 "metadata": {
  "kernelspec": {
   "display_name": "Python 3",
   "language": "python",
   "name": "python3"
  },
  "language_info": {
   "codemirror_mode": {
    "name": "ipython",
    "version": 3
   },
   "file_extension": ".py",
   "mimetype": "text/x-python",
   "name": "python",
   "nbconvert_exporter": "python",
   "pygments_lexer": "ipython3",
   "version": "3.7.0"
  }
 },
 "nbformat": 4,
 "nbformat_minor": 2
}
