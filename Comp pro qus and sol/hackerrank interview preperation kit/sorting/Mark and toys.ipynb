{
 "cells": [
  {
   "cell_type": "code",
   "execution_count": null,
   "metadata": {},
   "outputs": [],
   "source": [
    "7 50\n",
    "1 12 5 111 200 1000 10"
   ]
  },
  {
   "cell_type": "code",
   "execution_count": 25,
   "metadata": {},
   "outputs": [
    {
     "name": "stdout",
     "output_type": "stream",
     "text": [
      "4 7\n",
      "1 2 3 4\n"
     ]
    }
   ],
   "source": [
    "n, bal = input().split(' ')\n",
    "toys = [int(i) for i in input().split(' ')]\n"
   ]
  },
  {
   "cell_type": "code",
   "execution_count": 27,
   "metadata": {},
   "outputs": [],
   "source": [
    "n, bal = 7, 50\n",
    "toys = [1, 5, 10, 12, 111, 200, 1000]"
   ]
  },
  {
   "cell_type": "code",
   "execution_count": 28,
   "metadata": {},
   "outputs": [
    {
     "name": "stdout",
     "output_type": "stream",
     "text": [
      "[1, 5, 10, 12, 111, 200, 1000] 50\n",
      "49 1\n",
      "44 2\n",
      "34 3\n",
      "22 4\n",
      "4\n"
     ]
    }
   ],
   "source": [
    "n, bal = int(n), int(bal)\n",
    "count = 0\n",
    "toys = sorted(toys)\n",
    "print(toys, bal)\n",
    "for i in toys:\n",
    "    bal -= (i)\n",
    "    if(bal > 0) :\n",
    "        count += 1\n",
    "    else:\n",
    "        print(count)\n",
    "        break\n",
    "#     print(bal, count)\n",
    "    "
   ]
  },
  {
   "cell_type": "code",
   "execution_count": null,
   "metadata": {},
   "outputs": [],
   "source": []
  }
 ],
 "metadata": {
  "kernelspec": {
   "display_name": "Python 3",
   "language": "python",
   "name": "python3"
  },
  "language_info": {
   "codemirror_mode": {
    "name": "ipython",
    "version": 3
   },
   "file_extension": ".py",
   "mimetype": "text/x-python",
   "name": "python",
   "nbconvert_exporter": "python",
   "pygments_lexer": "ipython3",
   "version": "3.7.5"
  }
 },
 "nbformat": 4,
 "nbformat_minor": 2
}
