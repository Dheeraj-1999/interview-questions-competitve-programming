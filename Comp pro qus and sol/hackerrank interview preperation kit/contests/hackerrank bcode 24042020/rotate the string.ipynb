{
 "nbformat": 4,
 "nbformat_minor": 2,
 "metadata": {
  "language_info": {
   "name": "python",
   "codemirror_mode": {
    "name": "ipython",
    "version": 3
   },
   "version": "3.7.5-final"
  },
  "orig_nbformat": 2,
  "file_extension": ".py",
  "mimetype": "text/x-python",
  "name": "python",
  "npconvert_exporter": "python",
  "pygments_lexer": "ipython3",
  "version": 3,
  "kernelspec": {
   "name": "python37564bitanacondaconda8fdae7da735b42e8bb5614c179ca1693",
   "display_name": "Python 3.7.5 64-bit ('anaconda': conda)"
  }
 },
 "cells": [
  {
   "cell_type": "code",
   "execution_count": 1,
   "metadata": {},
   "outputs": [],
   "source": [
    "string = \"hello\"\n",
    "string = \"world\""
   ]
  },
  {
   "cell_type": "code",
   "execution_count": 2,
   "metadata": {},
   "outputs": [
    {
     "output_type": "execute_result",
     "data": {
      "text/plain": "'world'"
     },
     "metadata": {},
     "execution_count": 2
    }
   ],
   "source": [
    "string\n",
    ""
   ]
  },
  {
   "cell_type": "code",
   "execution_count": 9,
   "metadata": {},
   "outputs": [
    {
     "output_type": "stream",
     "name": "stdout",
     "text": "fgabcde\nf\ne\nbcdefga\nc\n"
    }
   ],
   "source": [
    "t= int(input())\n",
    "while(t > 0):\n",
    "    n, q = [int(i) for i in input().split(' ')]\n",
    "    string = input()\n",
    "    for i in range(q):\n",
    "        query, index = [int(i) for i in input().split(' ')]\n",
    "        temp = \"\"\n",
    "        # newString = string\n",
    "        if(query == 1):\n",
    "            temp = string[-index:]\n",
    "            temp += string[:len(string)-index]\n",
    "            string = temp\n",
    "            print(string)\n",
    "        if(query == 2):\n",
    "            print(string[index])\n",
    "    t -= 1"
   ]
  },
  {
   "cell_type": "code",
   "execution_count": 6,
   "metadata": {},
   "outputs": [],
   "source": [
    "1\n",
    "7 5\n",
    "abcdefg\n",
    "1 2\n",
    "2 0\n",
    "2 6\n",
    "1 4\n",
    "2 1"
   ]
  },
  {
   "cell_type": "code",
   "execution_count": 7,
   "metadata": {},
   "outputs": [
    {
     "output_type": "stream",
     "name": "stdout",
     "text": "fgabcde\n"
    }
   ],
   "source": [
    "print(string)"
   ]
  },
  {
   "cell_type": "code",
   "execution_count": null,
   "metadata": {},
   "outputs": [],
   "source": []
  }
 ]
}