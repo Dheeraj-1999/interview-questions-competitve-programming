{
 "cells": [
  {
   "cell_type": "code",
   "execution_count": 19,
   "metadata": {},
   "outputs": [
    {
     "name": "stdout",
     "output_type": "stream",
     "text": [
      "0 0 1 0 0 1 0\n",
      "7\n",
      "4\n"
     ]
    }
   ],
   "source": [
    "a = [int(c_temp) for c_temp in input().strip().split(' ')]\n",
    "n = int(input().strip())\n",
    "i, jump = 0, 0\n",
    "while(i<n):\n",
    "    if i < n-2 and arr[i+2] == 0:\n",
    "        i += 2\n",
    "        jump += 1\n",
    "    else :\n",
    "        i += 1\n",
    "        jump += 1\n",
    "    \n",
    "print(jump-1)"
   ]
  },
  {
   "cell_type": "code",
   "execution_count": 15,
   "metadata": {},
   "outputs": [
    {
     "name": "stdout",
     "output_type": "stream",
     "text": [
      "7\n",
      "0 0 1 0 0 1 0\n",
      "4\n"
     ]
    }
   ],
   "source": [
    "n = int(input().strip())\n",
    "a = [int(c_temp) for c_temp in input().strip().split(' ')]\n",
    "c = -1\n",
    "i = 0\n",
    "while i < n:\n",
    "    if i < n-2 and a[i+2] == 0: i += 1\n",
    "    c += 1\n",
    "    i += 1\n",
    "print(c)"
   ]
  },
  {
   "cell_type": "code",
   "execution_count": null,
   "metadata": {},
   "outputs": [],
   "source": []
  },
  {
   "cell_type": "code",
   "execution_count": null,
   "metadata": {},
   "outputs": [],
   "source": []
  }
 ],
 "metadata": {
  "kernelspec": {
   "display_name": "Python 3",
   "language": "python",
   "name": "python3"
  },
  "language_info": {
   "codemirror_mode": {
    "name": "ipython",
    "version": 3
   },
   "file_extension": ".py",
   "mimetype": "text/x-python",
   "name": "python",
   "nbconvert_exporter": "python",
   "pygments_lexer": "ipython3",
   "version": "3.7.0"
  }
 },
 "nbformat": 4,
 "nbformat_minor": 2
}
