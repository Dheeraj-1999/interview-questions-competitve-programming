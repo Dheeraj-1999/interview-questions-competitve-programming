{
 "cells": [
  {
   "cell_type": "code",
   "execution_count": 11,
   "metadata": {},
   "outputs": [
    {
     "name": "stdout",
     "output_type": "stream",
     "text": [
      "enter the stringaba\n",
      "enter the number10\n"
     ]
    },
    {
     "data": {
      "text/plain": [
       "['a', 'b', 'a', 'a', 'b', 'a', 'a', 'b', 'a', 'a', 'b', 'a']"
      ]
     },
     "execution_count": 11,
     "metadata": {},
     "output_type": "execute_result"
    }
   ],
   "source": [
    "s = list(input(\"enter the string\"))\n",
    "n = int(input(\"enter the number\"))\n",
    "# i, count = 0, 0\n",
    "s*(n//len(s)+1)\n",
    "\n",
    "# while(len(s) <= n-1):\n",
    "#     s.append(s[i])\n",
    "#     i +=1\n",
    "# print(s)\n",
    "# s.count('a')\n",
    "# for i in s:\n",
    "#     if i is 'a':\n",
    "#         count += 1\n",
    "# print(count)\n",
    "# print(s)"
   ]
  },
  {
   "cell_type": "code",
   "execution_count": 14,
   "metadata": {},
   "outputs": [
    {
     "data": {
      "text/plain": [
       "1"
      ]
     },
     "execution_count": 14,
     "metadata": {},
     "output_type": "execute_result"
    }
   ],
   "source": [
    "a = 'abc'\n",
    "a.count('a')"
   ]
  },
  {
   "cell_type": "code",
   "execution_count": 22,
   "metadata": {},
   "outputs": [
    {
     "name": "stdout",
     "output_type": "stream",
     "text": [
      "enter the stringaba\n",
      "enter the number10\n"
     ]
    },
    {
     "data": {
      "text/plain": [
       "7"
      ]
     },
     "execution_count": 22,
     "metadata": {},
     "output_type": "execute_result"
    }
   ],
   "source": [
    "s = input(\"enter the string\")\n",
    "n = int(input(\"enter the number\"))\n",
    "s.count('a')*(n//len(s))+(s[:n%len(s)]).count('a')\n",
    "# s = s*(n//len(s))\n",
    "# i = 0\n",
    "# while len(s)<n:\n",
    "#     s += s[i]\n",
    "#     i += 1\n",
    "# print(s.count('a'))"
   ]
  },
  {
   "cell_type": "code",
   "execution_count": null,
   "metadata": {},
   "outputs": [],
   "source": []
  }
 ],
 "metadata": {
  "kernelspec": {
   "display_name": "Python 3",
   "language": "python",
   "name": "python3"
  },
  "language_info": {
   "codemirror_mode": {
    "name": "ipython",
    "version": 3
   },
   "file_extension": ".py",
   "mimetype": "text/x-python",
   "name": "python",
   "nbconvert_exporter": "python",
   "pygments_lexer": "ipython3",
   "version": "3.7.0"
  }
 },
 "nbformat": 4,
 "nbformat_minor": 2
}
