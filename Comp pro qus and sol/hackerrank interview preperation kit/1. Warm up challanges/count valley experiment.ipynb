{
 "cells": [
  {
   "cell_type": "code",
   "execution_count": 6,
   "metadata": {},
   "outputs": [],
   "source": [
    "def make_arr(leng):\n",
    "    arr = []\n",
    "    for i in range(leng):\n",
    "        arr.append(input('enter the input'))\n",
    "    return (arr)"
   ]
  },
  {
   "cell_type": "code",
   "execution_count": 10,
   "metadata": {},
   "outputs": [
    {
     "name": "stdout",
     "output_type": "stream",
     "text": [
      "enter the inputu\n",
      "enter the inputd\n",
      "enter the inputd\n",
      "enter the inputd\n",
      "enter the inputu\n",
      "enter the inputd\n",
      "enter the inputu\n",
      "enter the inputu\n",
      "1\n"
     ]
    }
   ],
   "source": [
    "# arr = make_arr(8)\n",
    "s = input()\n",
    "count, valley = 0, 0\n",
    "for i in s:\n",
    "    if i == 'U':\n",
    "        count +=1\n",
    "        if count == 0:\n",
    "            continue \n",
    "    if i == 'D':\n",
    "        if count == 0:\n",
    "            valley +=1\n",
    "            count -= 1\n",
    "        else:\n",
    "            count -= 1 \n",
    "print( valley)\n"
   ]
  },
  {
   "cell_type": "code",
   "execution_count": 14,
   "metadata": {},
   "outputs": [
    {
     "name": "stdout",
     "output_type": "stream",
     "text": [
      "8\n",
      "UDDDUDUU\n",
      "1\n"
     ]
    }
   ],
   "source": [
    "import math\n",
    "import os\n",
    "import random\n",
    "import re\n",
    "import sys\n",
    "\n",
    "# Complete the countingValleys function below.\n",
    "def countingValleys(n, arr):\n",
    "    count, valley = 0, 0\n",
    "    for i in arr:\n",
    "        if i == 'U':\n",
    "            count +=1\n",
    "            if count == 0:\n",
    "                continue\n",
    "        if i == 'D':\n",
    "            if count == 0:\n",
    "                valley +=1\n",
    "                count -= 1\n",
    "            else:\n",
    "                count -= 1 \n",
    "    return( valley)\n",
    "\n",
    "\n",
    "if __name__ == '__main__':\n",
    "\n",
    "    n = int(input())\n",
    "\n",
    "    s = input()\n",
    "\n",
    "    result = countingValleys(n, s)\n",
    "    print(result)\n"
   ]
  },
  {
   "cell_type": "code",
   "execution_count": null,
   "metadata": {},
   "outputs": [],
   "source": []
  }
 ],
 "metadata": {
  "kernelspec": {
   "display_name": "Python 3",
   "language": "python",
   "name": "python3"
  },
  "language_info": {
   "codemirror_mode": {
    "name": "ipython",
    "version": 3
   },
   "file_extension": ".py",
   "mimetype": "text/x-python",
   "name": "python",
   "nbconvert_exporter": "python",
   "pygments_lexer": "ipython3",
   "version": "3.7.0"
  }
 },
 "nbformat": 4,
 "nbformat_minor": 2
}
