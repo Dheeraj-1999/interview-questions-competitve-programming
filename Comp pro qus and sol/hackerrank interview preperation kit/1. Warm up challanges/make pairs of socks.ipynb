{
 "cells": [
  {
   "cell_type": "code",
   "execution_count": 2,
   "metadata": {},
   "outputs": [],
   "source": [
    "def make_arr(leng):\n",
    "    arr = []\n",
    "    for i in range(leng):\n",
    "        arr.append(int(input('enter the input')))\n",
    "    return sorted(arr)"
   ]
  },
  {
   "cell_type": "code",
   "execution_count": 6,
   "metadata": {
    "scrolled": true
   },
   "outputs": [
    {
     "name": "stdout",
     "output_type": "stream",
     "text": [
      "enter the input353\n",
      "enter the input345\n",
      "enter the input54\n",
      "enter the input45\n",
      "enter the input454\n",
      "enter the input453\n",
      "enter the input43534\n",
      "enter the input3543\n",
      "enter the input453\n"
     ]
    },
    {
     "data": {
      "text/plain": [
       "[45, 54, 345, 353, 453, 453, 454, 3543, 43534]"
      ]
     },
     "execution_count": 6,
     "metadata": {},
     "output_type": "execute_result"
    }
   ],
   "source": [
    "make_arr(9)"
   ]
  },
  {
   "cell_type": "code",
   "execution_count": 9,
   "metadata": {},
   "outputs": [],
   "source": [
    "def socks_pair(arr):\n",
    "    print(arr)\n",
    "#     arr = sorted(arr)\n",
    "    i, sums = 0, 0\n",
    "    while(i<len(arr)):\n",
    "        count, j = 1, i+1\n",
    "        while j<len(arr):\n",
    "            if arr[j] == arr[i]:\n",
    "                count = count+1\n",
    "                j+=1\n",
    "                continue\n",
    "            else:\n",
    "                sums = (int(count / 2))+ sums\n",
    "\n",
    "            i = j\n",
    "            break\n",
    "        if j == len(arr):\n",
    "            sums = (int(count / 2))+ sums\n",
    "            break\n",
    "    return(sums)    "
   ]
  },
  {
   "cell_type": "code",
   "execution_count": 10,
   "metadata": {},
   "outputs": [
    {
     "name": "stdout",
     "output_type": "stream",
     "text": [
      "enter the input1\n",
      "enter the input1\n",
      "enter the input3\n",
      "enter the input2\n",
      "enter the input3\n",
      "enter the input1\n",
      "enter the input1\n",
      "enter the input3\n",
      "enter the input3\n",
      "enter the input3\n",
      "[1, 1, 1, 1, 2, 3, 3, 3, 3, 3]\n"
     ]
    },
    {
     "data": {
      "text/plain": [
       "4"
      ]
     },
     "execution_count": 10,
     "metadata": {},
     "output_type": "execute_result"
    }
   ],
   "source": [
    "arr = make_arr(10)\n",
    "socks_pair(arr)"
   ]
  },
  {
   "cell_type": "markdown",
   "metadata": {},
   "source": []
  },
  {
   "cell_type": "code",
   "execution_count": 17,
   "metadata": {},
   "outputs": [
    {
     "name": "stdout",
     "output_type": "stream",
     "text": [
      "5\n",
      "enter the input1\n",
      "enter the input1\n",
      "enter the input1\n",
      "enter the input1\n",
      "enter the input1\n",
      "{1: 0}\n",
      "{1: 0}\n",
      "{1: 0}\n",
      "{1: 0}\n",
      "{1: 0}\n",
      "{1: 1}\n",
      "{1: 2}\n",
      "{1: 3}\n",
      "{1: 4}\n",
      "{1: 5}\n",
      "2\n"
     ]
    }
   ],
   "source": [
    "n = int(input())\n",
    "temp = make_arr(n)\n",
    "graph = {}\n",
    "for item in temp:\n",
    "    graph[item] = 0\n",
    "for item in temp:\n",
    "    graph[item] += 1\n",
    "count = 0\n",
    "for item in graph:\n",
    "    count += int(graph[item]/2)\n",
    "print(count)"
   ]
  },
  {
   "cell_type": "markdown",
   "metadata": {},
   "source": []
  },
  {
   "cell_type": "code",
   "execution_count": null,
   "metadata": {},
   "outputs": [
    {
     "name": "stdout",
     "output_type": "stream",
     "text": [
      "10\n",
      "enter the input1\n",
      "enter the input1\n",
      "enter the input1\n"
     ]
    }
   ],
   "source": [
    "n = int(input())\n",
    "sums = 0\n",
    "temp = make_arr(n)\n",
    "sums, sets = 0, {}\n",
    "for i in temp:\n",
    "    sets[i] = temp.count(i) \n",
    "for count in sets:\n",
    "    print(count)\n",
    "    if count>=2:\n",
    "        sums = (count//2)+ sums\n",
    "print(sums)"
   ]
  },
  {
   "cell_type": "code",
   "execution_count": null,
   "metadata": {},
   "outputs": [],
   "source": []
  }
 ],
 "metadata": {
  "kernelspec": {
   "display_name": "Python 3",
   "language": "python",
   "name": "python3"
  },
  "language_info": {
   "codemirror_mode": {
    "name": "ipython",
    "version": 3
   },
   "file_extension": ".py",
   "mimetype": "text/x-python",
   "name": "python",
   "nbconvert_exporter": "python",
   "pygments_lexer": "ipython3",
   "version": "3.7.0"
  }
 },
 "nbformat": 4,
 "nbformat_minor": 2
}
