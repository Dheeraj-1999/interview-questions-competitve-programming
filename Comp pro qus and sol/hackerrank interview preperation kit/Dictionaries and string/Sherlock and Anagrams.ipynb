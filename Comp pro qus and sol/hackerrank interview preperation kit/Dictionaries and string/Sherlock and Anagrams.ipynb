{
 "cells": [
  {
   "cell_type": "code",
   "execution_count": 14,
   "metadata": {},
   "outputs": [
    {
     "data": {
      "text/plain": [
       "''"
      ]
     },
     "execution_count": 14,
     "metadata": {},
     "output_type": "execute_result"
    }
   ],
   "source": [
    "string= \"ifailuhkqq\"\n",
    "''.join(sorted(string[0:0]))"
   ]
  },
  {
   "cell_type": "code",
   "execution_count": 35,
   "metadata": {},
   "outputs": [
    {
     "name": "stdout",
     "output_type": "stream",
     "text": [
      "kkkk\n",
      "0 0 k\n",
      "0 1 kk\n",
      "0 2 kkk\n",
      "0 3 kkkk\n",
      "1 1 k\n",
      "1 2 kk\n",
      "1 3 kkk\n",
      "2 2 k\n",
      "2 3 kk\n",
      "3 3 k\n"
     ]
    }
   ],
   "source": [
    "string = input()\n",
    "d1 = {}\n",
    "for i in range(len(string)):\n",
    "    for j in range(i, len(string)):\n",
    "        d1[''.join(sorted(string[i:j+1]))] = 0\n",
    "for i in range(len(string)):\n",
    "    for j in range(i, len(string)):\n",
    "        print(i, j, string[i:j+1])\n",
    "        d1[''.join(sorted(string[i:j+1]))] += 1"
   ]
  },
  {
   "cell_type": "code",
   "execution_count": 36,
   "metadata": {},
   "outputs": [
    {
     "name": "stdout",
     "output_type": "stream",
     "text": [
      "k 4\n",
      "kk 3\n",
      "kkk 2\n"
     ]
    }
   ],
   "source": [
    "for i in d1:\n",
    "    if(d1[i] > 1):\n",
    "        print(i, d1[i])"
   ]
  },
  {
   "cell_type": "code",
   "execution_count": 11,
   "metadata": {},
   "outputs": [
    {
     "data": {
      "text/plain": [
       "{'': 10, 'k': 3, 'kk': 2, 'kkk': 1}"
      ]
     },
     "execution_count": 11,
     "metadata": {},
     "output_type": "execute_result"
    }
   ],
   "source": [
    "d1"
   ]
  },
  {
   "cell_type": "code",
   "execution_count": 34,
   "metadata": {},
   "outputs": [
    {
     "name": "stdout",
     "output_type": "stream",
     "text": [
      "1 0 3 i i\n",
      "1 8 9 q q\n",
      "3 0 1 ifa fai\n",
      "3\n"
     ]
    }
   ],
   "source": [
    "stringexp = \"ifailuhkqq\"\n",
    "string= \"ifailuhkqq\"\n",
    "def checkPair(s1, s2):\n",
    "    if(s1 == s2):\n",
    "        return True\n",
    "    else:\n",
    "        return False\n",
    "count  = 0\n",
    "for i in range(1, len(stringexp)):\n",
    "    for j in range(0, len(stringexp)):\n",
    "        for k in range(j+1, len(stringexp)):\n",
    "            pair = checkPair(''.join(sorted(stringexp[j:j+i])), ''.join(sorted(stringexp[k:k+i])))\n",
    "            if(pair == True):\n",
    "                print(i, j, k, stringexp[j:j+i], stringexp[k:k+i])\n",
    "                count += 1\n",
    "print(count)"
   ]
  },
  {
   "cell_type": "code",
   "execution_count": 76,
   "metadata": {},
   "outputs": [
    {
     "name": "stdout",
     "output_type": "stream",
     "text": [
      "ifailuhkqq\n",
      "['i', 'f', 'a', 'i', 'l', 'u', 'h', 'k', 'q', 'q']\n",
      "Counter({'i': 2, 'q': 2, 'f': 1, 'a': 1, 'l': 1, 'u': 1, 'h': 1, 'k': 1})\n",
      "['fi', 'af', 'ai', 'il', 'lu', 'hu', 'hk', 'kq', 'qq']\n",
      "Counter({'fi': 1, 'af': 1, 'ai': 1, 'il': 1, 'lu': 1, 'hu': 1, 'hk': 1, 'kq': 1, 'qq': 1})\n",
      "['afi', 'afi', 'ail', 'ilu', 'hlu', 'hku', 'hkq', 'kqq']\n",
      "Counter({'afi': 2, 'ail': 1, 'ilu': 1, 'hlu': 1, 'hku': 1, 'hkq': 1, 'kqq': 1})\n",
      "['afii', 'afil', 'ailu', 'hilu', 'hklu', 'hkqu', 'hkqq']\n",
      "Counter({'afii': 1, 'afil': 1, 'ailu': 1, 'hilu': 1, 'hklu': 1, 'hkqu': 1, 'hkqq': 1})\n",
      "['afiil', 'afilu', 'ahilu', 'hiklu', 'hklqu', 'hkqqu']\n",
      "Counter({'afiil': 1, 'afilu': 1, 'ahilu': 1, 'hiklu': 1, 'hklqu': 1, 'hkqqu': 1})\n",
      "['afiilu', 'afhilu', 'ahiklu', 'hiklqu', 'hklqqu']\n",
      "Counter({'afiilu': 1, 'afhilu': 1, 'ahiklu': 1, 'hiklqu': 1, 'hklqqu': 1})\n",
      "['afhiilu', 'afhiklu', 'ahiklqu', 'hiklqqu']\n",
      "Counter({'afhiilu': 1, 'afhiklu': 1, 'ahiklqu': 1, 'hiklqqu': 1})\n",
      "['afhiiklu', 'afhiklqu', 'ahiklqqu']\n",
      "Counter({'afhiiklu': 1, 'afhiklqu': 1, 'ahiklqqu': 1})\n",
      "['afhiiklqu', 'afhiklqqu']\n",
      "Counter({'afhiiklqu': 1, 'afhiklqqu': 1})\n",
      "['afhiiklqqu']\n",
      "Counter({'afhiiklqqu': 1})\n",
      "3\n"
     ]
    }
   ],
   "source": [
    "from collections import Counter\n",
    "count = 0\n",
    "s = input()\n",
    "for i in range(1,len(s)+1):\n",
    "    a = [\"\".join(sorted(s[j:j+i])) for j in range(len(s)-i+1)]\n",
    "    print(a)\n",
    "    b = Counter(a)\n",
    "    print(b)\n",
    "    for j in b:\n",
    "#         print(j, b[j])\n",
    "        count+=b[j]*(b[j]-1)/2\n",
    "print(int(count))"
   ]
  },
  {
   "cell_type": "code",
   "execution_count": 78,
   "metadata": {},
   "outputs": [
    {
     "name": "stdout",
     "output_type": "stream",
     "text": [
      "kkkk\n",
      "['k', 'k', 'k', 'k']\n",
      "4 \n",
      "['kk', 'kk', 'kk']\n",
      "3 \n",
      "['kkk', 'kkk']\n",
      "2 \n",
      "['kkkk']\n",
      "1 \n",
      "3\n"
     ]
    }
   ],
   "source": [
    "stringexp = input() \n",
    "count = 0\n",
    "for i in range(1, len(stringexp)+1):\n",
    "    a = []\n",
    "    for j in range(0, len(stringexp)-i+1):\n",
    "        a.append(''.join(sorted(stringexp[j:j+i])))\n",
    "    print(a)\n",
    "    for k in Counter(a):\n",
    "        print(Counter(a)[k], end = ' ')\n",
    "        if(Counter(a)[k] > 1):\n",
    "            count += 1\n",
    "    print()\n",
    "print(count)"
   ]
  },
  {
   "cell_type": "code",
   "execution_count": null,
   "metadata": {},
   "outputs": [],
   "source": []
  }
 ],
 "metadata": {
  "kernelspec": {
   "display_name": "Python 3",
   "language": "python",
   "name": "python3"
  },
  "language_info": {
   "codemirror_mode": {
    "name": "ipython",
    "version": 3
   },
   "file_extension": ".py",
   "mimetype": "text/x-python",
   "name": "python",
   "nbconvert_exporter": "python",
   "pygments_lexer": "ipython3",
   "version": "3.7.0"
  }
 },
 "nbformat": 4,
 "nbformat_minor": 2
}
