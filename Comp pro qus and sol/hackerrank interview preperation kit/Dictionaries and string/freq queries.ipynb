{
 "cells": [
  {
   "cell_type": "code",
   "execution_count": null,
   "metadata": {},
   "outputs": [],
   "source": [
    "number = int(input())\n",
    "def isDivisor(number, checker):\n",
    "    if(checker % number == 0):\n",
    "        return True\n",
    "\n",
    "go(number)"
   ]
  },
  {
   "cell_type": "code",
   "execution_count": null,
   "metadata": {},
   "outputs": [],
   "source": [
    "array = [1, 1, 2, 3, 1]\n",
    "array.count(1)"
   ]
  },
  {
   "cell_type": "code",
   "execution_count": null,
   "metadata": {},
   "outputs": [],
   "source": [
    "#!/bin/python3\n",
    "\n",
    "import math\n",
    "import os\n",
    "import random\n",
    "import re\n",
    "import sys\n",
    "\n",
    "# Complete the freqQuery function below.\n",
    "def freqQuery(queries):\n",
    "    array = []\n",
    "    for i in queries:\n",
    "        if(i[0] == 1):\n",
    "            array.append(i[1])\n",
    "            print(array)\n",
    "            # insert\n",
    "        elif(i[0] == 2):\n",
    "            array.remove(i[1])\n",
    "            #delete\n",
    "\n",
    "        elif(i[0] == 3):\n",
    "            for _ in array:\n",
    "                if(array.count(_ > i[1])):\n",
    "                    \n",
    "            # check freq\n",
    "\n",
    "if __name__ == '__main__':\n",
    "#     fptr = open(os.environ['OUTPUT_PATH'], 'w')\n",
    "\n",
    "#     q = int(input().strip())\n",
    "\n",
    "    queries = [[1, 1], [1, 1], [3, 2]]\n",
    "\n",
    "#     for _ in range(q):\n",
    "#         queries.append(list(map(int, input().rstrip().split())))\n",
    "\n",
    "    ans = freqQuery(queries)\n",
    "    print(queries)\n",
    "    print(ans)\n",
    "#     fptr.write('\\n'.join(map(str, ans)))\n",
    "#     fptr.write('\\n')\n",
    "\n",
    "#     fptr.close()\n"
   ]
  },
  {
   "cell_type": "code",
   "execution_count": 1,
   "metadata": {},
   "outputs": [],
   "source": [
    "def freqQuery(queries):\n",
    "    array = []\n",
    "    freq = {}\n",
    "    flag = True\n",
    "    for command, key in queries:\n",
    "        if(command == 1):\n",
    "            array.append(key)\n",
    "            freq[key] += 1\n",
    "            # insert\n",
    "        elif(i[0] == 2):\n",
    "            if(key in array):\n",
    "                array.remove(i[1])\n",
    "                freq[i[1]] -= 1\n",
    "            #delete\n",
    "\n",
    "        elif(i[0] == 3):\n",
    "            for key in array:\n",
    "                if(freq[key] >= i[1])\n",
    "# #                 print(j, array.count(j), i[1])\n",
    "#                 if(array.count(j) >= i[1] and flag = True):\n",
    "#                     print('1')\n",
    "#                     flag = False\n",
    "#             print('0')\n",
    "# #         print(array)"
   ]
  },
  {
   "cell_type": "code",
   "execution_count": 2,
   "metadata": {},
   "outputs": [
    {
     "name": "stdout",
     "output_type": "stream",
     "text": [
      "8\n",
      "1 2\n",
      "1 5\n",
      "1 6\n",
      "3 2\n",
      "1 10\n",
      "1 6\n",
      "2 5\n",
      "3 2\n",
      "2 1 2\n",
      "5 1 2\n",
      "6 1 2\n",
      "0\n",
      "2 1 2\n",
      "6 2 2\n",
      "1\n",
      "10 1 2\n",
      "6 2 2\n",
      "1\n",
      "0\n"
     ]
    }
   ],
   "source": [
    "queries = []\n",
    "q = int(input())\n",
    "for _ in range(q):\n",
    "    queries.append(list(map(int, input().rstrip().split())))\n",
    "freqQuery(queries)"
   ]
  },
  {
   "cell_type": "code",
   "execution_count": null,
   "metadata": {},
   "outputs": [],
   "source": [
    "def freqQuery(queries):\n",
    "    d = defaultdict(lambda: 0)\n",
    "    f = defaultdict(lambda: 0)\n",
    "    output = []\n",
    "    for command, key in queries: # O(n) queries\n",
    "        if command == 1:\n",
    "            f[d[key]] = max(0, f[d[key]] - 1)\n",
    "            d[key] += 1\n",
    "            f[d[key]] += 1\n",
    "        elif command == 2:\n",
    "            f[d[key]] = max(0, f[d[key]] - 1)\n",
    "            d[key]= max(0, d[key] - 1)\n",
    "            if d[key] > 0:\n",
    "                f[d[key]] += 1\n",
    "        else:\n",
    "            if f[key] > 0: # O(1)\n",
    "                output.append(1)\n",
    "            else:\n",
    "                output.append(0)\n",
    "    return output"
   ]
  }
 ],
 "metadata": {
  "kernelspec": {
   "display_name": "Python 3",
   "language": "python",
   "name": "python3"
  },
  "language_info": {
   "codemirror_mode": {
    "name": "ipython",
    "version": 3
   },
   "file_extension": ".py",
   "mimetype": "text/x-python",
   "name": "python",
   "nbconvert_exporter": "python",
   "pygments_lexer": "ipython3",
   "version": "3.7.0"
  }
 },
 "nbformat": 4,
 "nbformat_minor": 2
}
