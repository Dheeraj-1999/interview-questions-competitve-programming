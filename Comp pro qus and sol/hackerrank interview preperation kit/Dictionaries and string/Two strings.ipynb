{
 "cells": [
  {
   "cell_type": "code",
   "execution_count": 10,
   "metadata": {},
   "outputs": [],
   "source": [
    "import itertools"
   ]
  },
  {
   "cell_type": "code",
   "execution_count": 5,
   "metadata": {},
   "outputs": [],
   "source": [
    "s =\" mynameiskhan\"\n",
    "ss = \"mykhan\""
   ]
  },
  {
   "cell_type": "code",
   "execution_count": 6,
   "metadata": {},
   "outputs": [
    {
     "data": {
      "text/plain": [
       "False"
      ]
     },
     "execution_count": 6,
     "metadata": {},
     "output_type": "execute_result"
    }
   ],
   "source": [
    "ss in s"
   ]
  },
  {
   "cell_type": "code",
   "execution_count": 8,
   "metadata": {
    "collapsed": true
   },
   "outputs": [
    {
     "name": "stdout",
     "output_type": "stream",
     "text": [
      "m m\n",
      "m y\n",
      "m k\n",
      "m h\n",
      "m a\n",
      "m n\n",
      "y m\n",
      "y y\n",
      "y k\n",
      "y h\n",
      "y a\n",
      "y n\n",
      "k m\n",
      "k y\n",
      "k k\n",
      "k h\n",
      "k a\n",
      "k n\n",
      "h m\n",
      "h y\n",
      "h k\n",
      "h h\n",
      "h a\n",
      "h n\n",
      "a m\n",
      "a y\n",
      "a k\n",
      "a h\n",
      "a a\n",
      "a n\n",
      "n m\n",
      "n y\n",
      "n k\n",
      "n h\n",
      "n a\n",
      "n n\n"
     ]
    }
   ],
   "source": [
    "for i in ss:\n",
    "    for j in ss:\n",
    "        print(i, j)\n",
    "        "
   ]
  },
  {
   "cell_type": "code",
   "execution_count": 34,
   "metadata": {},
   "outputs": [
    {
     "name": "stdout",
     "output_type": "stream",
     "text": [
      "[('m',), ('y',), ('k',), ('h',), ('a',), ('n',)]\n",
      "[('m', 'y'), ('m', 'k'), ('m', 'h'), ('m', 'a'), ('m', 'n'), ('y', 'm'), ('y', 'k'), ('y', 'h'), ('y', 'a'), ('y', 'n'), ('k', 'm'), ('k', 'y'), ('k', 'h'), ('k', 'a'), ('k', 'n'), ('h', 'm'), ('h', 'y'), ('h', 'k'), ('h', 'a'), ('h', 'n'), ('a', 'm'), ('a', 'y'), ('a', 'k'), ('a', 'h'), ('a', 'n'), ('n', 'm'), ('n', 'y'), ('n', 'k'), ('n', 'h'), ('n', 'a')]\n"
     ]
    }
   ],
   "source": [
    "for j in range(1,3):\n",
    "    a = list(itertools.permutations(ss, j))\n",
    "    print(a[0]+a[j])"
   ]
  },
  {
   "cell_type": "code",
   "execution_count": 27,
   "metadata": {},
   "outputs": [
    {
     "data": {
      "text/plain": [
       "[('m',), ('y',), ('k',), ('h',), ('a',), ('n',)]"
      ]
     },
     "execution_count": 27,
     "metadata": {},
     "output_type": "execute_result"
    }
   ],
   "source": [
    "list(itertools.permutations(ss, 1))"
   ]
  },
  {
   "cell_type": "code",
   "execution_count": 11,
   "metadata": {},
   "outputs": [
    {
     "name": "stdout",
     "output_type": "stream",
     "text": [
      "hello\n",
      "world\n"
     ]
    }
   ],
   "source": [
    "string1 = input().strip()\n",
    "string2 = input().strip()\n",
    "\n",
    "d1 = {}\n",
    "d2 = {}\n",
    "\n",
    "for i in string1:\n",
    "    d1[i] = 0\n",
    "    d2[i] = 0\n",
    "for i in string2:\n",
    "    d1[i] = 0\n",
    "    d2[i] = 0\n",
    "for i in string1:\n",
    "    d1[i] += 1\n",
    "for i in string2:\n",
    "    d2[i] += 1"
   ]
  },
  {
   "cell_type": "code",
   "execution_count": 12,
   "metadata": {},
   "outputs": [
    {
     "name": "stdout",
     "output_type": "stream",
     "text": [
      "{'h': 1, 'e': 1, 'l': 2, 'o': 1, 'w': 0, 'r': 0, 'd': 0} {'h': 0, 'e': 0, 'l': 1, 'o': 1, 'w': 1, 'r': 1, 'd': 1}\n"
     ]
    }
   ],
   "source": [
    "print(d1, d2)"
   ]
  },
  {
   "cell_type": "code",
   "execution_count": 13,
   "metadata": {},
   "outputs": [
    {
     "name": "stdout",
     "output_type": "stream",
     "text": [
      "yes\n"
     ]
    }
   ],
   "source": [
    "temp  =False\n",
    "for i in d1:\n",
    "    if(d2[i] > 0 and d1[i] > 0):\n",
    "        temp = True\n",
    "        break\n",
    "if(temp == True):\n",
    "    print('yes')\n",
    "else:\n",
    "    print('No')"
   ]
  },
  {
   "cell_type": "code",
   "execution_count": null,
   "metadata": {},
   "outputs": [],
   "source": []
  }
 ],
 "metadata": {
  "kernelspec": {
   "display_name": "Python 3",
   "language": "python",
   "name": "python3"
  },
  "language_info": {
   "codemirror_mode": {
    "name": "ipython",
    "version": 3
   },
   "file_extension": ".py",
   "mimetype": "text/x-python",
   "name": "python",
   "nbconvert_exporter": "python",
   "pygments_lexer": "ipython3",
   "version": "3.7.0"
  }
 },
 "nbformat": 4,
 "nbformat_minor": 2
}
