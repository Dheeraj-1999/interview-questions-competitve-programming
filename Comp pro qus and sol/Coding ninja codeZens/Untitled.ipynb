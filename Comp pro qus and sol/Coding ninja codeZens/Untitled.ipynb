{
 "cells": [
  {
   "cell_type": "code",
   "execution_count": 59,
   "metadata": {},
   "outputs": [
    {
     "name": "stdout",
     "output_type": "stream",
     "text": [
      "13\n",
      "2\n",
      "10\n"
     ]
    }
   ],
   "source": [
    "n = int(input())\n",
    "m = int(input())\n",
    "k = int(input())\n",
    "temp = []"
   ]
  },
  {
   "cell_type": "code",
   "execution_count": 40,
   "metadata": {},
   "outputs": [],
   "source": [
    "temp = []\n",
    "n = 10\n",
    "m = 1\n",
    "k = 2\n"
   ]
  },
  {
   "cell_type": "code",
   "execution_count": 60,
   "metadata": {
    "scrolled": true
   },
   "outputs": [
    {
     "name": "stdout",
     "output_type": "stream",
     "text": [
      "1\n",
      "-9 11\n",
      "2\n",
      "-8 12\n"
     ]
    }
   ],
   "source": [
    "temp.append(0)\n",
    "while(m > 0):\n",
    "    ta = int(input())\n",
    "    first = ta - k\n",
    "    second = ta + k\n",
    "    print(first, second)\n",
    "    if(first < 0):\n",
    "        first = 0\n",
    "    if(second > n):\n",
    "        second = n+1    \n",
    "    temp.append(first)\n",
    "    temp.append(second)\n",
    "#     print(temp)\n",
    "    m -= 1\n",
    "temp.append(n+1)\n",
    "temp = list(set(temp))\n"
   ]
  },
  {
   "cell_type": "code",
   "execution_count": 61,
   "metadata": {},
   "outputs": [
    {
     "data": {
      "text/plain": [
       "[0, 11, 12, 14]"
      ]
     },
     "execution_count": 61,
     "metadata": {},
     "output_type": "execute_result"
    }
   ],
   "source": [
    "temp"
   ]
  },
  {
   "cell_type": "code",
   "execution_count": 62,
   "metadata": {},
   "outputs": [
    {
     "name": "stdout",
     "output_type": "stream",
     "text": [
      "1 1\n",
      "2 1\n",
      "3 2\n"
     ]
    }
   ],
   "source": [
    "count = 0\n",
    "for i in range(1, len(temp)):\n",
    "    if((temp[i] - temp[i-1]) > 2*(k+1)):\n",
    "        a = (temp[i] - temp[i-1])- 2*(k+1)\n",
    "        print(\"a\", temp[i], temp[i-1], a)\n",
    "        count += 1\n",
    "        \n",
    "        while(a > 0):\n",
    "            count += 1\n",
    "            a -= (temp[i] - temp[i-1])- 2*(k+1)\n",
    "    elif((temp[i] - temp[i-1]) > 1):\n",
    "        count += 1\n",
    "    print(i, count)"
   ]
  },
  {
   "cell_type": "code",
   "execution_count": 52,
   "metadata": {},
   "outputs": [
    {
     "data": {
      "text/plain": [
       "6"
      ]
     },
     "execution_count": 52,
     "metadata": {},
     "output_type": "execute_result"
    }
   ],
   "source": [
    "count"
   ]
  },
  {
   "cell_type": "code",
   "execution_count": null,
   "metadata": {},
   "outputs": [],
   "source": []
  }
 ],
 "metadata": {
  "kernelspec": {
   "display_name": "Python 3",
   "language": "python",
   "name": "python3"
  },
  "language_info": {
   "codemirror_mode": {
    "name": "ipython",
    "version": 3
   },
   "file_extension": ".py",
   "mimetype": "text/x-python",
   "name": "python",
   "nbconvert_exporter": "python",
   "pygments_lexer": "ipython3",
   "version": "3.7.0"
  }
 },
 "nbformat": 4,
 "nbformat_minor": 2
}
