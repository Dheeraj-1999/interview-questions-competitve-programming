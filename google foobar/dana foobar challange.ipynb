{
 "cells": [
  {
   "cell_type": "markdown",
   "metadata": {},
   "source": [
    "# "
   ]
  },
  {
   "cell_type": "code",
   "execution_count": 65,
   "metadata": {},
   "outputs": [],
   "source": [
    "def sample(leng, split_list):\n",
    "    for i in range(0, leng-1):\n",
    "\n",
    "        if(split_list[i] == split_list[i+1]):\n",
    "            if(i == leng-2):\n",
    "                return leng\n",
    "            else:\n",
    "                continue\n",
    "        else:\n",
    "            return 1\n",
    "\n",
    "def solution(s):\n",
    "    inputString=s\n",
    "    sample_num=1\n",
    "    length=len(inputString)\n",
    "    \n",
    "    for dividing_number in range(1,length):\n",
    "        part_list=[]\n",
    "        if(length % dividing_number==0):\n",
    "            for match in range(0,length,dividing_number):\n",
    "                part_list.append(inputString[match:match+dividing_number])\n",
    "            part_list_len=len(part_list)\n",
    "            \n",
    "            sample_num=sample(part_list_len, part_list)\n",
    "            if(sample_num != 1):\n",
    "                return sample_num\n",
    "    return sample_num"
   ]
  },
  {
   "cell_type": "code",
   "execution_count": 66,
   "metadata": {
    "scrolled": true
   },
   "outputs": [
    {
     "name": "stdout",
     "output_type": "stream",
     "text": [
      "3\n",
      "10\n"
     ]
    }
   ],
   "source": [
    "print(solution('ababab'))\n",
    "print(solution('abcabcabcabcabcabcabcabcabcabc'))"
   ]
  },
  {
   "cell_type": "markdown",
   "metadata": {},
   "source": [
    "# Minion Labor Shifts\n",
    "\n",
    "Commander Lambda's minions are upset! They're given the worst jobs on the whole space station, and some of them are starting to complain that even those worst jobs are being allocated unfairly. If you can fix this problem, it'll prove your chops to Commander Lambda so you can get promoted!\n",
    "\n",
    "Minions' tasks are assigned by putting their ID numbers into a list, one time for each day they'll work that task. As shifts are planned well in advance, the lists for each task will contain up to 99 integers. When a minion is scheduled for the same task too many times, they'll complain about it until they're taken off the task completely. Some tasks are worse than others, so the number of scheduled assignments before a minion will refuse to do a task varies depending on the task. You figure you can speed things up by automating the removal of the minions who have been assigned a task too many times before they even get a chance to start complaining.\n",
    "\n",
    "Write a function called answer(data, n) that takes in a list of less than 100 integers and a number n, and returns that same list but with all of the numbers that occur more than n times removed entirely. The returned list should retain the same ordering as the original list - you don't want to mix up those carefully-planned shift rotations! For instance, if data was [5, 10, 15, 10, 7] and n was 1, answer(data, n) would return the list [5, 15, 7] because 10 occurs twice, and thus was removed from the list entirely."
   ]
  },
  {
   "cell_type": "code",
   "execution_count": 35,
   "metadata": {},
   "outputs": [
    {
     "name": "stdout",
     "output_type": "stream",
     "text": [
      "[5, 7]\n",
      "[]\n",
      "[1, 4]\n",
      "[1, 2, 3]\n"
     ]
    }
   ],
   "source": [
    "def answer(data, n):\n",
    "    dictionary_count_each = {}\n",
    "    for number in data:\n",
    "        if number in dictionary_count_each:\n",
    "            dictionary_count_each[number]+=1\n",
    "        else:\n",
    "            dictionary_count_each[number]=1\n",
    "    for each_num in dictionary_count_each:\n",
    "        if dictionary_count_each[each_num] > n:\n",
    "            for i in range(dictionary_count_each[each_num]):\n",
    "                data.remove(each_num)\n",
    "    return data\n",
    "print(answer([5, 10, 15, 10, 15, 7], 1))\n",
    "print(answer([1, 2, 3], 0))\n",
    "print(answer([1, 2, 2, 3, 3, 3, 4, 5, 5], 1))\n",
    "print(answer([1, 2, 3], 6))"
   ]
  },
  {
   "cell_type": "markdown",
   "metadata": {},
   "source": [
    "# Numbers Station Coded Messages\n",
    "\n",
    "Description\n",
    "When you went undercover in Commander Lambda's organization, you set up a coded messaging system with Bunny Headquarters to allow them to send you important mission updates. Now that you're here and promoted to Henchman, you need to make sure you can receive those messages - but since you need to sneak them past Commander Lambda's spies, it won't be easy!\n",
    "\n",
    "Bunny HQ has secretly taken control of two of the galaxy's more obscure numbers stations, and will use them to broadcast lists of numbers. They've given you a numerical key, and their messages will be encrypted within the first sequence of numbers that adds up to that key within any given list of numbers.\n",
    "\n",
    "Given a non-empty list of positive integers l and a target positive integer t, write a function answer(l, t) which verifies if there is at least one consecutive sequence of positive integers within the list l (i.e. a contiguous sub-list) that can be summed up to the given target positive integer t (the key) and returns the lexicographically smallest list containing the smallest start and end indexes where this sequence can be found, or returns the array [-1, -1] in the case that there is no such sequence (to throw off Lambda's spies, not all number broadcasts will contain a coded message).\n",
    "\n",
    "For example, given the broadcast list l as [4, 3, 5, 7, 8] and the key t as 12, the function answer(l, t) would return the list [0, 2] because the list l contains the sub-list [4, 3, 5] starting at index 0 and ending at index 2, for which 4 + 3 + 5 = 12, even though there is a shorter sequence that happens later in the list (5 + 7). On the other hand, given the list l as [1, 2, 3, 4] and the key t as 15, the function answer(l, t) would return [-1, -1] because there is no sub-list of list l that can be summed up to the given target value t = 15.\n",
    "\n",
    "To help you identify the coded broadcasts, Bunny HQ has agreed to the following standards:\n",
    "\n",
    "Each list l will contain at least 1 element but never more than 100.\n",
    "Each element of l will be between 1 and 100.\n",
    "It will be a positive integer, not exceeding 250.\n",
    "The first element of the list l has index 0.\n",
    "For the list returned by answer(l, t), the start index must be equal or smaller than the end index.\n",
    "Remember, to throw off Lambda's spies, Bunny HQ might include more than one contiguous sublist of a number broadcast that can be summed up to the key. You know that the message will always be hidden in the first sublist that sums up to the key, so answer(l, t) should only return that sublist."
   ]
  },
  {
   "cell_type": "code",
   "execution_count": 44,
   "metadata": {},
   "outputs": [],
   "source": [
    "def solution(l,s):\n",
    "    length=len(l)\n",
    "    for index_start in range(length):\n",
    "        checksum=0\n",
    "        for index_end in range(index_start+1,length):\n",
    "            if sum(l[index_start:index_end+1])==s:\n",
    "                return index_start,index_end\n",
    "            if sum(l[index_start:index_end+1])>s:\n",
    "                break\n",
    "    return -1,-1\n",
    "    "
   ]
  },
  {
   "cell_type": "code",
   "execution_count": 51,
   "metadata": {},
   "outputs": [
    {
     "data": {
      "text/plain": [
       "(1, 2)"
      ]
     },
     "execution_count": 51,
     "metadata": {},
     "output_type": "execute_result"
    }
   ],
   "source": [
    "solution([10,2,30,4,5],32)"
   ]
  },
  {
   "cell_type": "markdown",
   "metadata": {},
   "source": [
    "# En-Route-Salute\n",
    "\n",
    "Commander Lambda loves efficiency and hates anything that wastes time. She's a busy lamb, after all! She generously rewards henchmen who identify sources of inefficiency and come up with ways to remove them. You've spotted one such source, and you think solving it will help you build the reputation you need to get promoted.\n",
    "\n",
    "Every time the Commander's employees pass each other in the hall, each of them must stop and salute each other - one at a time - before resuming their path. A salute is five seconds long, so each exchange of salutes takes a full ten seconds (Commander Lambda's salute is a bit, er, involved). You think that by removing the salute requirement, you could save several collective hours of employee time per day. But first, you need to show her how bad the problem really is.\n",
    "\n",
    "Write a program that counts how many salutes are exchanged during a typical walk along a hallway. The hall is represented by a string. For example: \"--->-><-><-->-\"\n",
    "\n",
    "Each hallway string will contain three different types of characters: '>', an employee walking to the right; '<', an employee walking to the left; and '-', an empty space. Every employee walks at the same speed either to right or to the left, according to their direction. Whenever two employees cross, each of them salutes the other. They then continue walking until they reach the end, finally leaving the hallway. In the above example, they salute 10 times.\n",
    "\n",
    "Write a function answer(s) which takes a string representing employees walking along a hallway and returns the number of times the employees will salute. s will contain at least 1 and at most 100 characters, each one of -, >, or <."
   ]
  },
  {
   "cell_type": "code",
   "execution_count": 104,
   "metadata": {},
   "outputs": [],
   "source": [
    "def solution(s):\n",
    "    right_counter=0\n",
    "    left_counter=0\n",
    "    for char in s:\n",
    "        if char=='>':\n",
    "            right_counter+=1\n",
    "        elif char=='<':\n",
    "            left_counter+=right_counter\n",
    "    return 2*left_counter\n",
    "            "
   ]
  },
  {
   "cell_type": "code",
   "execution_count": 105,
   "metadata": {},
   "outputs": [
    {
     "name": "stdout",
     "output_type": "stream",
     "text": [
      "--->-><-><-->- : 10\n",
      ">----< : 2\n",
      " : 0\n",
      "<<>>< : 4\n"
     ]
    }
   ],
   "source": [
    "print(\"--->-><-><-->- :\",solution(\"--->-><-><-->-\"))\n",
    "print(\">----< :\",solution(\">----<\"))\n",
    "print(\" :\",solution(\"\"))\n",
    "print(\"<<>>< :\",solution(\"<<>><\"))"
   ]
  },
  {
   "cell_type": "markdown",
   "metadata": {},
   "source": [
    "# Lovely Lucky LAMBs\n",
    "\n",
    "Being a henchman isn't all drudgery. Occasionally, when Commander Lambda is feeling generous, she'll hand out Lucky LAMBs (Lambda's All-purpose Money Bucks). Henchmen can use Lucky LAMBs to buy things like a second pair of socks, a pillow for their bunks, or even a third daily meal!\n",
    "\n",
    "However, actually passing out LAMBs isn't easy. Each henchman squad has a strict seniority ranking which must be respected - or else the henchmen will revolt and you'll all get demoted back to minions again!\n",
    "\n",
    "There are 4 key rules which you must follow in order to avoid a revolt: 1. The most junior henchman (with the least seniority) gets exactly 1 LAMB. (There will always be at least 1 henchman on a team.) 2. A henchman will revolt if the person who ranks immediately above them gets more than double the number of LAMBs they do. 3. A henchman will revolt if the amount of LAMBs given to their next two subordinates combined is more than the number of LAMBs they get. (Note that the two most junior henchmen won't have two subordinates, so this rule doesn't apply to them. The 2nd most junior henchman would require at least as many LAMBs as the most junior henchman.) 4. You can always find more henchmen to pay - the Commander has plenty of employees. If there are enough LAMBs left over such that another henchman could be added as the most senior while obeying the other rules, you must always add and pay that henchman.\n",
    "\n",
    "Note that you may not be able to hand out all the LAMBs. A single LAMB cannot be subdivided. That is, all henchmen must get a positive integer number of LAMBs.\n",
    "\n",
    "Write a function called answer(total_lambs), where total_lambs is the integer number of LAMBs in the handout you are trying to divide. It should return an integer which represents the difference between the minimum and maximum number of henchmen who can share the LAMBs (that is, being as generous as possible to those you pay and as stingy as possible, respectively) while still obeying all of the above rules to avoid a revolt. For instance, if you had 10 LAMBs and were as generous as possible, you could only pay 3 henchmen (1, 2, and 4 LAMBs, in order of ascending seniority), whereas if you were as stingy as possible, you could pay 4 henchmen (1, 1, 2, and 3 LAMBs). Therefore, answer(10) should return 4-3 = 1.\n",
    "\n",
    "To keep things interesting, Commander Lambda varies the sizes of the Lucky LAMB payouts: you can expect total_lambs to always be between 10 and 1 billion (10 ^ 9)."
   ]
  },
  {
   "cell_type": "code",
   "execution_count": 63,
   "metadata": {},
   "outputs": [
    {
     "name": "stdout",
     "output_type": "stream",
     "text": [
      "1\n",
      "3\n"
     ]
    }
   ],
   "source": [
    "def generous(n):\n",
    "    lambs_distribution = 1\n",
    "    count_generous = 1\n",
    "    henchmen_levels= 1\n",
    "    while lambs_distribution + henchmen_levels* 2 <= n:\n",
    "        lambs_distribution+= henchmen_levels* 2\n",
    "        henchmen_levels*= 2\n",
    "        count_generous += 1\n",
    "    return count_generous\n",
    "\n",
    "def stingy(n):\n",
    "    count_stingy = 2\n",
    "    level_count_1 = 1\n",
    "    level_count_2 = 1\n",
    "    lambs = level_count_1 + level_count_2\n",
    "    while s + level_count_1 + level_count_2 <= n:\n",
    "        s += level_count_1 + level_count_2\n",
    "        count_stingy += 1\n",
    "        htemp_var= level_count_1\n",
    "        level_count_1 = level_count_2\n",
    "        level_count_2 = htemp_var + level_count_2\n",
    "    return count_stingy\n",
    "\n",
    "def solution(n):\n",
    "    g = generous(n) \n",
    "    s = stingy(n)\n",
    "    return g-s if g > s else s-g\n",
    "\n",
    "print(answer(10))\n",
    "print(answer(143))"
   ]
  },
  {
   "cell_type": "markdown",
   "metadata": {},
   "source": [
    "# Don't Get Volunteered!\n",
    "\n",
    "As a henchman on Commander Lambda's space station, you're expected to be resourceful, smart, and a quick thinker. It's not easy building a doomsday device and capturing bunnies at the same time, after all! In order to make sure that everyone working for her is sufficiently quick-witted, Commander Lambda has installed new flooring outside the henchman dormitories. It looks like a chessboard, and every morning and evening you have to solve a new movement puzzle in order to cross the floor. That would be fine if you got to be the rook or the queen, but instead, you have to be the knight. Worse, if you take too much time solving the puzzle, you get \"volunteered\" as a test subject for the LAMBCHOP doomsday device!\n",
    "\n",
    "To help yourself get to and from your bunk every day, write a function called answer(src, dest) which takes in two parameters: the source square, on which you start, and the destination square, which is where you need to land to solve the puzzle. The function should return an integer representing the smallest number of moves it will take for you to travel from the source square to the destination square using a chess knight's moves (that is, two squares in any direction immediately followed by one square perpendicular to that direction, or vice versa, in an \"L\" shape). Both the source and destination squares will be an integer between 0 and 63, inclusive, and are numbered like the example chessboard below:\n",
    "\n",
    "| 0| 1| 2| 3| 4| 5| 6| 7|\n",
    "\n",
    "| 8| 9|10|11|12|13|14|15|\n",
    "\n",
    "|16|17|18|19|20|21|22|23|\n",
    "\n",
    "|24|25|26|27|28|29|30|31|\n",
    "\n",
    "|32|33|34|35|36|37|38|39|\n",
    "\n",
    "|40|41|42|43|44|45|46|47|\n",
    "\n",
    "|48|49|50|51|52|53|54|55|\n",
    "\n",
    "|56|57|58|59|60|61|62|63|"
   ]
  },
  {
   "cell_type": "code",
   "execution_count": 84,
   "metadata": {},
   "outputs": [
    {
     "name": "stdout",
     "output_type": "stream",
     "text": [
      "1\n",
      "3\n",
      "6\n",
      "3\n",
      "0\n"
     ]
    }
   ],
   "source": [
    "from collections import deque\n",
    "def isValidMove(chess, a, b):\n",
    "    if a >= 0 and a < 8 and b >= 0 and b < 8:\n",
    "        if chess[a][b] == 0:\n",
    "            return True\n",
    "        return False\n",
    "    return False\n",
    " \n",
    "def getPoint(n):\n",
    "    return divmod(n, 8);\n",
    "\n",
    "def answer(a, b):\n",
    "    start = getPoint(a)\n",
    "    end = getPoint(b)\n",
    "    chess = []\n",
    "    for i in range(0, 8):\n",
    "        t = []\n",
    "        for j in range(0, 8):\n",
    "            t.append(0)\n",
    "        chess.append(t)\n",
    "    q = deque()\n",
    "    q.append(start)\n",
    "    moves= 0\n",
    "    t = 0\n",
    "    while len(q) > 0:\n",
    "        s = len(q)\n",
    "        for i in range(0, s):\n",
    "            r = q.popleft()\n",
    "            chess[r[0]][r[1]] = 1\n",
    "            if r[0] == end[0] and r[1] == end[1]:\n",
    "                return moves\n",
    "            horizonal = r[0]\n",
    "            vertical = r[1]\n",
    "            if isValidMove(chess, horizonal+2, vertical+1):\n",
    "                q.append([horizonal+2, vertical+1])\n",
    "            if isValidMove(chess, horizonal-2, vertical+1):\n",
    "                q.append([horizonal-2, vertical+1])\n",
    "            if isValidMove(chess, horizonal+2, vertical-1):\n",
    "                q.append([horizonal+2, vertical-1])\n",
    "            if isValidMove(chess, horizonal-2, vertical-1):\n",
    "                q.append([horizonal-2, vertical-1])\n",
    "            if isValidMove(chess, horizonal+1, vertical+2):\n",
    "                q.append([horizonal+1, vertical+2])\n",
    "            if isValidMove(chess, horizonal-1, vertical+2):\n",
    "                q.append([horizonal-1, vertical+2])\n",
    "            if isValidMove(chess, horizonal+1, vertical-2):\n",
    "                q.append([horizonal+1, vertical-2])\n",
    "            if isValidMove(chess, horizonal-1, vertical-2):\n",
    "                q.append([horizonal-1, vertical-2])\n",
    "        moves= moves+ 1\n",
    "    return moves\n",
    "\n",
    "print(answer(19, 36))\n",
    "print(answer(0, 1))\n",
    "print(answer(0, 63))\n",
    "print(answer(0, 8))\n",
    "print(answer(0, 0))"
   ]
  },
  {
   "cell_type": "code",
   "execution_count": 85,
   "metadata": {},
   "outputs": [
    {
     "ename": "SyntaxError",
     "evalue": "invalid syntax (<ipython-input-85-37969e3e97cf>, line 7)",
     "output_type": "error",
     "traceback": [
      "\u001b[1;36m  File \u001b[1;32m\"<ipython-input-85-37969e3e97cf>\"\u001b[1;36m, line \u001b[1;32m7\u001b[0m\n\u001b[1;33m    numbers=\u001b[0m\n\u001b[1;37m            ^\u001b[0m\n\u001b[1;31mSyntaxError\u001b[0m\u001b[1;31m:\u001b[0m invalid syntax\n"
     ]
    }
   ],
   "source": [
    "class BinaryTreeNode:\n",
    "    def __init__(self, data):\n",
    "        self.data = data\n",
    "        self.left = None\n",
    "        self.right = None\n",
    "def bulidTree(h):\n",
    "    numbers="
   ]
  },
  {
   "cell_type": "code",
   "execution_count": 86,
   "metadata": {},
   "outputs": [],
   "source": [
    "def get_parent_index(h, idx):\n",
    "    ## calculate the maximum index first\n",
    "    ## if the input is too large, return a negative 1\n",
    "    max_idx = 2**h - 1\n",
    "    if max_idx < idx:\n",
    "        return -1\n",
    "    \n",
    "    # otherwise, carry on\n",
    "    else:\n",
    "        node_offset = 0\n",
    "        continue_flag = True\n",
    "        subtree_size = max_idx\n",
    "        result = -1 # default result\n",
    "        \n",
    "        while continue_flag:\n",
    "            if subtree_size == 0:\n",
    "                continue_flag = False\n",
    "                \n",
    "            # right shift is equivalent to dividing by 2 and discarding the remainder.\n",
    "            subtree_size = subtree_size >> 1\n",
    "            \n",
    "            # predict the left node\n",
    "            left_node = node_offset + subtree_size\n",
    "            \n",
    "            # predict the right node\n",
    "            right_node = left_node + subtree_size\n",
    "            \n",
    "            # calculate my node value\n",
    "            my_node = right_node + 1\n",
    "            \n",
    "            # if either child is a match, return my node value\n",
    "            if (left_node == idx) or (right_node == idx):\n",
    "                result = my_node\n",
    "                continue_flag = False\n",
    "            \n",
    "            # Make the current left child the offset if the index is greater than the left.\n",
    "            # This effectively searches down the right subtree.\n",
    "            if (idx > left_node):\n",
    "                node_offset = left_node\n",
    "   \n",
    "        return result\n",
    "\n",
    "def answer(h, q):\n",
    "    return [ get_parent_index(h, x) for x in q ]"
   ]
  },
  {
   "cell_type": "code",
   "execution_count": 87,
   "metadata": {},
   "outputs": [
    {
     "data": {
      "text/plain": [
       "[21, 15, 29]"
      ]
     },
     "execution_count": 87,
     "metadata": {},
     "output_type": "execute_result"
    }
   ],
   "source": [
    "answer(5,[19,14,28])"
   ]
  },
  {
   "cell_type": "code",
   "execution_count": 96,
   "metadata": {},
   "outputs": [],
   "source": [
    "def solution(l, t):\n",
    "    # Your code here \n",
    "    length_of_message=len(l)\n",
    "    for index_start in range(length_of_message):\n",
    "        checksum=0\n",
    "        for index_end in range(index_start+1,length_of_message):\n",
    "            if sum(l[index_start:index_end+1])==t:\n",
    "                return index_start,index_end\n",
    "            if sum(l[index_start:index_end+1])>t:\n",
    "                break\n",
    "    return -1,-1"
   ]
  },
  {
   "cell_type": "code",
   "execution_count": 101,
   "metadata": {},
   "outputs": [
    {
     "data": {
      "text/plain": [
       "(1, 2)"
      ]
     },
     "execution_count": 101,
     "metadata": {},
     "output_type": "execute_result"
    }
   ],
   "source": [
    "solution([10,2,30,4,5],32)"
   ]
  },
  {
   "cell_type": "code",
   "execution_count": 100,
   "metadata": {},
   "outputs": [],
   "source": [
    "def solution(l, t):\n",
    "    length_of_message=len(l)\n",
    "    for index_start in range(length_of_message):\n",
    "        checksum=0\n",
    "        for index_end in range(index_start+1,length_of_message):\n",
    "            if sum(l[index_start:index_end+1])==t:\n",
    "                return index_start,index_end\n",
    "            if sum(l[index_start:index_end+1])>t:\n",
    "                break\n",
    "    return -1,-1\n",
    "  "
   ]
  },
  {
   "cell_type": "code",
   "execution_count": 102,
   "metadata": {},
   "outputs": [],
   "source": [
    "def solution(l,t):\n",
    "    initial_sum=0\n",
    "    index_list=0\n",
    "    for index,value in enumrate(l):\n",
    "        initial_sum+=value\n",
    "        while(initial_sum>t and index_list<index):\n",
    "            initial_sum-=l[index_list]\n",
    "            index_list+=1\n",
    "        if initial_sum==t:\n",
    "            return index_list,index\n",
    "    return -1,-1"
   ]
  },
  {
   "cell_type": "code",
   "execution_count": 103,
   "metadata": {},
   "outputs": [
    {
     "ename": "NameError",
     "evalue": "name 'enumrate' is not defined",
     "output_type": "error",
     "traceback": [
      "\u001b[1;31m---------------------------------------------------------------------------\u001b[0m",
      "\u001b[1;31mNameError\u001b[0m                                 Traceback (most recent call last)",
      "\u001b[1;32m<ipython-input-103-88f3dede3965>\u001b[0m in \u001b[0;36m<module>\u001b[1;34m\u001b[0m\n\u001b[1;32m----> 1\u001b[1;33m \u001b[0msolution\u001b[0m\u001b[1;33m(\u001b[0m\u001b[1;33m[\u001b[0m\u001b[1;36m10\u001b[0m\u001b[1;33m,\u001b[0m\u001b[1;36m2\u001b[0m\u001b[1;33m,\u001b[0m\u001b[1;36m30\u001b[0m\u001b[1;33m,\u001b[0m\u001b[1;36m4\u001b[0m\u001b[1;33m,\u001b[0m\u001b[1;36m5\u001b[0m\u001b[1;33m]\u001b[0m\u001b[1;33m,\u001b[0m\u001b[1;36m32\u001b[0m\u001b[1;33m)\u001b[0m\u001b[1;33m\u001b[0m\u001b[1;33m\u001b[0m\u001b[0m\n\u001b[0m",
      "\u001b[1;32m<ipython-input-102-7f6164d61c15>\u001b[0m in \u001b[0;36msolution\u001b[1;34m(l, t)\u001b[0m\n\u001b[0;32m      2\u001b[0m     \u001b[0minitial_sum\u001b[0m\u001b[1;33m=\u001b[0m\u001b[1;36m0\u001b[0m\u001b[1;33m\u001b[0m\u001b[1;33m\u001b[0m\u001b[0m\n\u001b[0;32m      3\u001b[0m     \u001b[0mindex_list\u001b[0m\u001b[1;33m=\u001b[0m\u001b[1;36m0\u001b[0m\u001b[1;33m\u001b[0m\u001b[1;33m\u001b[0m\u001b[0m\n\u001b[1;32m----> 4\u001b[1;33m     \u001b[1;32mfor\u001b[0m \u001b[0mindex\u001b[0m\u001b[1;33m,\u001b[0m\u001b[0mvalue\u001b[0m \u001b[1;32min\u001b[0m \u001b[0menumrate\u001b[0m\u001b[1;33m(\u001b[0m\u001b[0ml\u001b[0m\u001b[1;33m)\u001b[0m\u001b[1;33m:\u001b[0m\u001b[1;33m\u001b[0m\u001b[1;33m\u001b[0m\u001b[0m\n\u001b[0m\u001b[0;32m      5\u001b[0m         \u001b[0minitial_sum\u001b[0m\u001b[1;33m+=\u001b[0m\u001b[0mvalue\u001b[0m\u001b[1;33m\u001b[0m\u001b[1;33m\u001b[0m\u001b[0m\n\u001b[0;32m      6\u001b[0m         \u001b[1;32mwhile\u001b[0m\u001b[1;33m(\u001b[0m\u001b[0minitial_sum\u001b[0m\u001b[1;33m>\u001b[0m\u001b[0mt\u001b[0m \u001b[1;32mand\u001b[0m \u001b[0mindex_list\u001b[0m\u001b[1;33m<\u001b[0m\u001b[0mindex\u001b[0m\u001b[1;33m)\u001b[0m\u001b[1;33m:\u001b[0m\u001b[1;33m\u001b[0m\u001b[1;33m\u001b[0m\u001b[0m\n",
      "\u001b[1;31mNameError\u001b[0m: name 'enumrate' is not defined"
     ]
    }
   ],
   "source": [
    "solution([10,2,30,4,5],32)"
   ]
  },
  {
   "cell_type": "code",
   "execution_count": 106,
   "metadata": {},
   "outputs": [
    {
     "ename": "SyntaxError",
     "evalue": "invalid syntax (<ipython-input-106-259b4c5ffeeb>, line 7)",
     "output_type": "error",
     "traceback": [
      "\u001b[1;36m  File \u001b[1;32m\"<ipython-input-106-259b4c5ffeeb>\"\u001b[1;36m, line \u001b[1;32m7\u001b[0m\n\u001b[1;33m    elif char=='<':\u001b[0m\n\u001b[1;37m       ^\u001b[0m\n\u001b[1;31mSyntaxError\u001b[0m\u001b[1;31m:\u001b[0m invalid syntax\n"
     ]
    }
   ],
   "source": [
    "def solution(s):\n",
    "    right_counter=0\n",
    "    left_counter=0\n",
    "    for char in s:\n",
    "        if char=='>':\n",
    "            right_counter+=1\n",
    "            elif char=='<':\n",
    "                left_counter+=right_counter\n",
    "    return 2*left_counter"
   ]
  },
  {
   "cell_type": "code",
   "execution_count": 107,
   "metadata": {},
   "outputs": [],
   "source": [
    "#Let's discuss the solution first\n",
    "#We will create a function to find parent node for each index\n",
    "    #If we found the parent node we can return the node\n",
    "    #else we will return -1\n",
    "    \n",
    "#Function find_parent_index_for_each_given_index(hieght_of_tree,index)\n",
    "\n",
    "\n",
    "\n",
    "\n",
    "def find_parent_index_for_each_given_index(height,index):\n",
    "    maximum_index_of_tree = 2**height - 1\n",
    "    #if the index is greater than the maximum we don't do any thing\n",
    "    #We just want to return -1\n",
    "    if maximum_index_of_tree<index:\n",
    "        return -1\n",
    "        #if index is less than the maximum we can continue\n",
    "        #Now we know of we right shift a bit we can get the left child at each level\n",
    "    else:\n",
    "        node_bit_shift = 0\n",
    "        flag_to_continue_loop = True\n",
    "        size_of_tree = maximum_index_of_tree\n",
    "        index_value_found = -1\n",
    "        \n",
    "        while flag_to_continue_loop:\n",
    "            if size_of_tree == 0 :\n",
    "                flag_to_continue_loop = False\n",
    "            size_of_tree = size_of_tree >> 1\n",
    "            left_child = node_bit_shift + size_of_tree\n",
    "            right_child = left_child + size_of_tree\n",
    "            index_value_can_be = right_child + 1\n",
    "            \n",
    "            if left_child == index or right_child == index:\n",
    "                index_value_found = index_value_can_be\n",
    "                flag_to_continue_loop = False\n",
    "            \n",
    "            if index > left_child:\n",
    "                node_bit_shift = left_child\n",
    "        return index_value_found\n",
    "            \n",
    "def solution(h, q):\n",
    "    return [find_parent_index_for_each_given_index(h,index) for index in q]\n",
    "\n",
    "    "
   ]
  },
  {
   "cell_type": "code",
   "execution_count": 108,
   "metadata": {},
   "outputs": [
    {
     "data": {
      "text/plain": [
       "[21, 15, 29]"
      ]
     },
     "execution_count": 108,
     "metadata": {},
     "output_type": "execute_result"
    }
   ],
   "source": [
    "solution(5,[19,14,28])"
   ]
  },
  {
   "cell_type": "code",
   "execution_count": 109,
   "metadata": {},
   "outputs": [
    {
     "ename": "NameError",
     "evalue": "name 'reduce' is not defined",
     "output_type": "error",
     "traceback": [
      "\u001b[1;31m---------------------------------------------------------------------------\u001b[0m",
      "\u001b[1;31mNameError\u001b[0m                                 Traceback (most recent call last)",
      "\u001b[1;32m<ipython-input-109-f95f5833ed4c>\u001b[0m in \u001b[0;36m<module>\u001b[1;34m\u001b[0m\n\u001b[0;32m    154\u001b[0m         \u001b[1;32mreturn\u001b[0m \u001b[0mende\u001b[0m \u001b[1;33m+\u001b[0m \u001b[1;33m[\u001b[0m\u001b[0mlcm1\u001b[0m\u001b[1;33m]\u001b[0m\u001b[1;33m\u001b[0m\u001b[1;33m\u001b[0m\u001b[0m\n\u001b[0;32m    155\u001b[0m \u001b[1;33m\u001b[0m\u001b[0m\n\u001b[1;32m--> 156\u001b[1;33m \u001b[0mprint\u001b[0m\u001b[1;33m(\u001b[0m\u001b[0manswer\u001b[0m\u001b[1;33m(\u001b[0m\u001b[0mm\u001b[0m\u001b[1;33m)\u001b[0m\u001b[1;33m)\u001b[0m\u001b[1;33m\u001b[0m\u001b[1;33m\u001b[0m\u001b[0m\n\u001b[0m",
      "\u001b[1;32m<ipython-input-109-f95f5833ed4c>\u001b[0m in \u001b[0;36manswer\u001b[1;34m(m)\u001b[0m\n\u001b[0;32m    148\u001b[0m \u001b[1;33m\u001b[0m\u001b[0m\n\u001b[0;32m    149\u001b[0m \u001b[1;33m\u001b[0m\u001b[0m\n\u001b[1;32m--> 150\u001b[1;33m         \u001b[0mlcm1\u001b[0m \u001b[1;33m=\u001b[0m \u001b[0mlcmm\u001b[0m\u001b[1;33m(\u001b[0m\u001b[1;33m[\u001b[0m\u001b[0mi\u001b[0m\u001b[1;33m[\u001b[0m\u001b[1;36m1\u001b[0m\u001b[1;33m]\u001b[0m \u001b[1;32mfor\u001b[0m \u001b[0mi\u001b[0m \u001b[1;32min\u001b[0m \u001b[0malm\u001b[0m\u001b[1;33m]\u001b[0m\u001b[1;33m)\u001b[0m\u001b[1;33m\u001b[0m\u001b[1;33m\u001b[0m\u001b[0m\n\u001b[0m\u001b[0;32m    151\u001b[0m \u001b[1;33m\u001b[0m\u001b[0m\n\u001b[0;32m    152\u001b[0m         \u001b[1;31m# make fractions common denominator and return\u001b[0m\u001b[1;33m\u001b[0m\u001b[1;33m\u001b[0m\u001b[1;33m\u001b[0m\u001b[0m\n",
      "\u001b[1;32m<ipython-input-109-f95f5833ed4c>\u001b[0m in \u001b[0;36mlcmm\u001b[1;34m(l)\u001b[0m\n\u001b[0;32m     29\u001b[0m \u001b[1;33m\u001b[0m\u001b[0m\n\u001b[0;32m     30\u001b[0m \u001b[1;32mdef\u001b[0m \u001b[0mlcmm\u001b[0m\u001b[1;33m(\u001b[0m\u001b[0ml\u001b[0m\u001b[1;33m)\u001b[0m\u001b[1;33m:\u001b[0m\u001b[1;33m\u001b[0m\u001b[1;33m\u001b[0m\u001b[0m\n\u001b[1;32m---> 31\u001b[1;33m                 \u001b[1;32mreturn\u001b[0m \u001b[0mreduce\u001b[0m\u001b[1;33m(\u001b[0m\u001b[1;32mlambda\u001b[0m \u001b[0mx\u001b[0m\u001b[1;33m,\u001b[0m \u001b[0my\u001b[0m\u001b[1;33m:\u001b[0m \u001b[0mlcm\u001b[0m\u001b[1;33m(\u001b[0m\u001b[0mx\u001b[0m\u001b[1;33m,\u001b[0m \u001b[0my\u001b[0m\u001b[1;33m)\u001b[0m\u001b[1;33m,\u001b[0m \u001b[0ml\u001b[0m\u001b[1;33m)\u001b[0m\u001b[1;33m\u001b[0m\u001b[1;33m\u001b[0m\u001b[0m\n\u001b[0m\u001b[0;32m     32\u001b[0m \u001b[1;33m\u001b[0m\u001b[0m\n\u001b[0;32m     33\u001b[0m \u001b[1;32mdef\u001b[0m \u001b[0mmatmult\u001b[0m\u001b[1;33m(\u001b[0m\u001b[0ma\u001b[0m\u001b[1;33m,\u001b[0m\u001b[0mb\u001b[0m\u001b[1;33m)\u001b[0m\u001b[1;33m:\u001b[0m\u001b[1;33m\u001b[0m\u001b[1;33m\u001b[0m\u001b[0m\n",
      "\u001b[1;31mNameError\u001b[0m: name 'reduce' is not defined"
     ]
    }
   ],
   "source": [
    "from fractions import *\n",
    "\n",
    "m = [\n",
    "  [0,1,0,0,0,1,2,3,2,1],  \n",
    "  [4,0,0,3,2,0,9,2,2,3],  \n",
    "  [1,0,0,1,0,0,0,0,0,0],\n",
    "  [0,1,0,0,1,0,0,0,0,0],\n",
    "  [0,1,0,0,0,0,0,2,0,0],\n",
    "  [0,0,0,0,0,0,0,0,0,0],\n",
    "  [0,0,0,0,3,0,0,0,0,0],\n",
    "  [0,0,4,0,0,3,0,0,0,0],\n",
    "  [0,0,0,0,0,10,2,0,0,0],\n",
    "  [0,0,0,0,0,0,0,0,0,0],\n",
    "]\n",
    "\n",
    "m = [[1, 2, 3, 0, 0, 0], [4, 5, 6, 0, 0, 0], [7, 8, 9, 1, 0, 0], [0, 0, 0, 0, 1, 2], [0, 0, 0, 0, 0, 0], [0, 0, 0, 0, 0, 0]]\n",
    "\n",
    "\n",
    "################################################################\n",
    "### functions from s/o to find lcm, multiply/invert a matrix ###\n",
    "################################################################\n",
    "def gcd(a, b):\n",
    "    while b:      \n",
    "        a, b = b, a % b\n",
    "    return a\n",
    "    \n",
    "def lcm(a, b):\n",
    "    return a * b // gcd(a, b)\n",
    "\n",
    "def lcmm(l):\n",
    "\t\treturn reduce(lambda x, y: lcm(x, y), l)\n",
    "   \n",
    "def matmult(a,b):\n",
    "    zip_b = zip(*b)\n",
    "    return [[sum(ele_a*ele_b for ele_a, ele_b in zip(row_a, col_b)) \n",
    "             for col_b in zip_b] for row_a in a]\n",
    "\n",
    "def transposeMatrix(m):\n",
    "    t = []\n",
    "    for r in range(len(m)):\n",
    "        tRow = []\n",
    "        for c in range(len(m[r])):\n",
    "            if c == r:\n",
    "                tRow.append(m[r][c])\n",
    "            else:\n",
    "                tRow.append(m[c][r])\n",
    "        t.append(tRow)\n",
    "    return t\n",
    "\n",
    "def getMatrixMinor(m,i,j):\n",
    "    return [row[:j] + row[j+1:] for row in (m[:i]+m[i+1:])]\n",
    "\n",
    "def getMatrixDeterminant(m):\n",
    "    #base case for 2x2 matrix\n",
    "    if len(m) == 2:\n",
    "        return m[0][0]*m[1][1]-m[0][1]*m[1][0]\n",
    "\n",
    "    determinant = 0\n",
    "    for c in range(len(m)):\n",
    "        determinant += ((-1)**c)*m[0][c]*getMatrixDeterminant(getMatrixMinor(m,0,c))\n",
    "    return determinant\n",
    "\n",
    "def getMatrixInverse(m):\n",
    "    determinant = getMatrixDeterminant(m)\n",
    "    #special case for 2x2 matrix:\n",
    "    if len(m) == 2:\n",
    "        return [[m[1][1]/determinant, -1*m[0][1]/determinant],\n",
    "                [-1*m[1][0]/determinant, m[0][0]/determinant]]\n",
    "\n",
    "    #find matrix of cofactors\n",
    "    cofactors = []\n",
    "    for r in range(len(m)):\n",
    "        cofactorRow = []\n",
    "        for c in range(len(m)):\n",
    "            minor = getMatrixMinor(m,r,c)\n",
    "            cofactorRow.append(((-1)**(r+c)) * getMatrixDeterminant(minor))\n",
    "        cofactors.append(cofactorRow)\n",
    "    cofactors = transposeMatrix(cofactors)\n",
    "    for r in range(len(cofactors)):\n",
    "        for c in range(len(cofactors)):\n",
    "            cofactors[r][c] = cofactors[r][c]/determinant\n",
    "    return cofactors\n",
    "\n",
    "\n",
    "###################\n",
    "### actual code ###\n",
    "###################\n",
    "\n",
    "def answer(m):\n",
    "\tif len(m) == 1:\n",
    "\t\treturn [1,1]\n",
    "\tabso = []\n",
    "\tnabso = []\n",
    "\t#find absorbing states\n",
    "\tfor ind, val in enumerate(m):\n",
    "\t\tif sum(val) == 0:\n",
    "\t\t\tabso.append(ind)\n",
    "\t\telse:\n",
    "\t\t\tnabso.append(ind)\n",
    "\t\n",
    "\tif len(abso) == 1:\n",
    "\t\treturn [1,1]\n",
    "\n",
    "\torder = abso + nabso\n",
    "\t#prepare limiting matrix\n",
    "\tlimM = []\n",
    "\tn = 0\n",
    "\tfor i in abso:\n",
    "\t\tlimM.append(m[i])\n",
    "\t\tlimM[n][n] = 1\n",
    "\t\tn += 1\n",
    "\t\n",
    "\tfor i in nabso:\n",
    "\t\ttemp, temp2 = [], []\n",
    "\t\tfor n in order:\n",
    "\t\t\ttemp.append(m[i][n])\n",
    "\t\tfor ind, val in enumerate(temp):\n",
    "\t\t\ttemp2.append(Fraction(val, sum(temp) ))  \n",
    "\t\tlimM.append(temp2)\n",
    "\t\n",
    "\t#creating matrix subsets\n",
    "\tI, R, Q = [], [], []\n",
    "\n",
    "\tfor p in range(len(abso),len(limM)):\n",
    "\t\tR.append(limM[p][:len(abso)])\n",
    "\t\tQ.append(limM[p][len(abso):])\n",
    "\t\t\n",
    "\tfor u in range(0, len(Q)):\n",
    "\t\ttemp = [0] * len(Q)\n",
    "\t\ttemp[u] = 1\n",
    "\t\tI.append(temp)\n",
    "\n",
    "\tIQ = []\n",
    "\tfor p in range(0, len(I)):\n",
    "\t\ttemp = []\n",
    "\t\tfor o in range(0, len(I[0])):\n",
    "\t\t\ttemp.append(I[p][o]-Q[p][o])\n",
    "\t\tIQ.append(temp)\n",
    "\n",
    "\tF = getMatrixInverse(IQ)\n",
    "\t\n",
    "\tFR = matmult(F,R)\n",
    "\t\n",
    "\t#fraction to list\n",
    "\talm = []\n",
    "\tfor i in FR[0]:\n",
    "\t\talm.append([i.numerator, i.denominator])\n",
    "\t\n",
    "\n",
    "\tlcm1 = lcmm([i[1] for i in alm])\n",
    "\t\n",
    "\t# make fractions common denominator and return\n",
    "\tende = [ (lcm1/i[1]) * i[0] for i in alm ]\n",
    "\treturn ende + [lcm1]\n",
    "\n",
    "print(answer(m))"
   ]
  },
  {
   "cell_type": "code",
   "execution_count": null,
   "metadata": {},
   "outputs": [],
   "source": []
  },
  {
   "cell_type": "code",
   "execution_count": null,
   "metadata": {},
   "outputs": [],
   "source": []
  },
  {
   "cell_type": "code",
   "execution_count": null,
   "metadata": {},
   "outputs": [],
   "source": []
  },
  {
   "cell_type": "code",
   "execution_count": null,
   "metadata": {},
   "outputs": [],
   "source": []
  },
  {
   "cell_type": "code",
   "execution_count": null,
   "metadata": {},
   "outputs": [],
   "source": []
  },
  {
   "cell_type": "code",
   "execution_count": null,
   "metadata": {},
   "outputs": [],
   "source": []
  },
  {
   "cell_type": "code",
   "execution_count": null,
   "metadata": {},
   "outputs": [],
   "source": []
  },
  {
   "cell_type": "code",
   "execution_count": null,
   "metadata": {},
   "outputs": [],
   "source": []
  },
  {
   "cell_type": "code",
   "execution_count": null,
   "metadata": {},
   "outputs": [],
   "source": []
  },
  {
   "cell_type": "code",
   "execution_count": null,
   "metadata": {},
   "outputs": [],
   "source": []
  },
  {
   "cell_type": "code",
   "execution_count": null,
   "metadata": {},
   "outputs": [],
   "source": []
  },
  {
   "cell_type": "code",
   "execution_count": 115,
   "metadata": {},
   "outputs": [],
   "source": [
    "from fractions import gcd\n",
    "import unittest\n",
    "from fractions import Fraction\n",
    "\n",
    "\n",
    "def multiply_matrices(a, b):\n",
    "    # confirm dimensions\n",
    "    a_rows = len(a)\n",
    "    a_cols = len(a[0])\n",
    "    b_cols = len(b[0])\n",
    "    rows = a_rows\n",
    "    cols = b_cols\n",
    "    # create the result matrix c = a*b\n",
    "    c = make_2d_list(rows, cols)\n",
    "    # now find each value in turn in the result matrix\n",
    "    for row in range(rows):\n",
    "        for col in range(cols):\n",
    "            dot_product = Fraction(0, 1)\n",
    "            for i in range(a_cols):\n",
    "                dot_product += a[row][i]*b[i][col]\n",
    "            c[row][col] = dot_product\n",
    "    return c\n",
    "\n",
    "\n",
    "def multiply_row_of_square_matrix(m, row, k):\n",
    "    n = len(m)\n",
    "    row_operator = make_identity(n)\n",
    "    row_operator[row][row] = k\n",
    "    return multiply_matrices(row_operator, m)\n",
    "\n",
    "\n",
    "def make_2d_list(rows, cols):\n",
    "    a = []\n",
    "    for row in range(rows):\n",
    "        a += [[0] * cols]\n",
    "    return a\n",
    "\n",
    "\n",
    "def make_identity(n):\n",
    "    result = make_2d_list(n, n)\n",
    "    for i in range(n):\n",
    "        result[i][i] = Fraction(1, 1)\n",
    "    return result\n",
    "\n",
    "\n",
    "def add_multiple_of_row_of_square_matrix(m, source_row, k, target_row):\n",
    "    # add k * source_row to target_row of matrix m\n",
    "    n = len(m)\n",
    "    row_operator = make_identity(n)\n",
    "    row_operator[target_row][source_row] = k\n",
    "    return multiply_matrices(row_operator, m)\n",
    "\n",
    "\n",
    "def invert_matrix(m):\n",
    "    n = len(m)\n",
    "    assert(len(m) == len(m[0]))\n",
    "    inverse = make_identity(n)\n",
    "    for col in range(n):\n",
    "        diagonal_row = col\n",
    "        assert(m[diagonal_row][col] != 0)\n",
    "        k = Fraction(1, m[diagonal_row][col])\n",
    "        m = multiply_row_of_square_matrix(m, diagonal_row, k)\n",
    "        inverse = multiply_row_of_square_matrix(inverse, diagonal_row, k)\n",
    "        source_row = diagonal_row\n",
    "        for target_row in range(n):\n",
    "            if source_row != target_row:\n",
    "                k = -m[target_row][col]\n",
    "                m = add_multiple_of_row_of_square_matrix(m, source_row, k, target_row)\n",
    "                inverse = add_multiple_of_row_of_square_matrix(inverse, source_row, k, target_row)\n",
    "    # that's it!\n",
    "    return inverse\n",
    "\n",
    "\n",
    "def subtract_identity(q, denominator):\n",
    "    size = range(len(q))\n",
    "    for i in size:\n",
    "        for j in size:\n",
    "            if i == j:\n",
    "                q[i][j] = denominator - q[i][j]\n",
    "            else:\n",
    "                q[i][j] = - q[i][j]\n",
    "\n",
    "\n",
    "def transform_matrix(m):\n",
    "    for row_index, row in enumerate(m):\n",
    "        row_sum = sum(m[row_index])\n",
    "        if row_sum == 0:\n",
    "            m[row_index][row_index] = 1\n",
    "        else:\n",
    "            for col_index, col in enumerate(row):\n",
    "                m[row_index][col_index] = Fraction(col, row_sum)\n",
    "\n",
    "\n",
    "def get_submatrix(m, rows, cols):\n",
    "    new_matrix = []\n",
    "\n",
    "    for row in rows:\n",
    "        current_row = []\n",
    "        for col in cols:\n",
    "            current_row.append(m[row][col])\n",
    "        new_matrix.append(current_row)\n",
    "    return new_matrix\n",
    "\n",
    "\n",
    "def get_q(m, non_terminal_states):\n",
    "    return get_submatrix(m, non_terminal_states, non_terminal_states)\n",
    "\n",
    "\n",
    "def get_r(m, non_terminal_states, terminal_states):\n",
    "    return get_submatrix(m, non_terminal_states, terminal_states)\n",
    "\n",
    "\n",
    "def subtract_matrices(a, b):\n",
    "    new_matrix = []\n",
    "    for row_index, row in enumerate(a):\n",
    "        column = []\n",
    "        for col_index, col in enumerate(row):\n",
    "            column.append(a[row_index][col_index] - b[row_index][col_index])\n",
    "        new_matrix.append(column)\n",
    "\n",
    "    return new_matrix\n",
    "\n",
    "\n",
    "def lcm(a, b):\n",
    "    result = a * b / gcd(a, b)\n",
    "\n",
    "    return result\n",
    "\n",
    "\n",
    "def lcm_for_arrays(args):\n",
    "    array_length = len(args)\n",
    "    if array_length <= 2:\n",
    "        return lcm(*args)\n",
    "\n",
    "    initial = lcm(args[0], args[1])\n",
    "    i = 2\n",
    "    while i < array_length:\n",
    "        initial = lcm(initial, args[i])\n",
    "        i += 1\n",
    "    return initial\n",
    "\n",
    "\n",
    "def answer(m):\n",
    "    terminal_states = []\n",
    "    non_terminal_states = []\n",
    "    for index, row in enumerate(m):\n",
    "        if sum(row) == 0:\n",
    "            terminal_states.append(index)\n",
    "        else:\n",
    "            non_terminal_states.append(index)\n",
    "\n",
    "    if len(terminal_states) == 1:\n",
    "        return [1, 1]\n",
    "\n",
    "    transform_matrix(m)\n",
    "\n",
    "    q = get_q(m, non_terminal_states)\n",
    "    r = get_r(m, non_terminal_states, terminal_states)\n",
    "\n",
    "    result = multiply_matrices(invert_matrix(subtract_matrices(make_identity(len(q)), q)), r)\n",
    "\n",
    "    denominator = lcm_for_arrays([item.denominator for item in result[0]])\n",
    "\n",
    "    result = [item.numerator * denominator / item.denominator for item in result[0]]\n",
    "\n",
    "    result.append(denominator)\n",
    "\n",
    "    return [int(i) for i in result]"
   ]
  },
  {
   "cell_type": "code",
   "execution_count": 116,
   "metadata": {},
   "outputs": [
    {
     "name": "stderr",
     "output_type": "stream",
     "text": [
      "F:\\Anaconda\\lib\\site-packages\\ipykernel_launcher.py:125: DeprecationWarning: fractions.gcd() is deprecated. Use math.gcd() instead.\n"
     ]
    },
    {
     "data": {
      "text/plain": [
       "[0, 3, 2, 9, 14]"
      ]
     },
     "execution_count": 116,
     "metadata": {},
     "output_type": "execute_result"
    }
   ],
   "source": [
    "answer([[0, 1, 0, 0, 0, 1], [4, 0, 0, 3, 2, 0], [0, 0, 0, 0, 0, 0], [0, 0, 0, 0, 0, 0], [0, 0, 0, 0, 0, 0], [0, 0, 0, 0, 0, 0]])"
   ]
  },
  {
   "cell_type": "code",
   "execution_count": 117,
   "metadata": {},
   "outputs": [
    {
     "name": "stderr",
     "output_type": "stream",
     "text": [
      "F:\\Anaconda\\lib\\site-packages\\ipykernel_launcher.py:125: DeprecationWarning: fractions.gcd() is deprecated. Use math.gcd() instead.\n"
     ]
    },
    {
     "data": {
      "text/plain": [
       "[7, 6, 8, 21]"
      ]
     },
     "execution_count": 117,
     "metadata": {},
     "output_type": "execute_result"
    }
   ],
   "source": [
    "answer([[0, 2, 1, 0, 0], [0, 0, 0, 3, 4], [0, 0, 0, 0, 0], [0, 0, 0, 0,0], [0, 0, 0, 0, 0]])"
   ]
  },
  {
   "cell_type": "code",
   "execution_count": 118,
   "metadata": {},
   "outputs": [
    {
     "name": "stderr",
     "output_type": "stream",
     "text": [
      "F:\\Anaconda\\lib\\site-packages\\ipykernel_launcher.py:125: DeprecationWarning: fractions.gcd() is deprecated. Use math.gcd() instead.\n"
     ]
    },
    {
     "data": {
      "text/plain": [
       "[0, 3, 2, 9, 14]"
      ]
     },
     "execution_count": 118,
     "metadata": {},
     "output_type": "execute_result"
    }
   ],
   "source": [
    "answer([[0, 1, 0, 0, 0, 1], [4, 0, 0, 3, 2, 0], [0, 0, 0, 0, 0, 0], [0, 0, 0, 0, 0, 0], [0, 0, 0, 0, 0, 0], [0, 0, 0, 0, 0, 0]])"
   ]
  },
  {
   "cell_type": "code",
   "execution_count": 140,
   "metadata": {},
   "outputs": [],
   "source": [
    "from fractions import gcd\n",
    "from fractions import Fraction\n",
    "\n",
    "def makeList2D(rows,cols):\n",
    "    list2D=[]\n",
    "    for row in range(rows):\n",
    "        list2D+=[[0]*cols]\n",
    "    return list2D\n",
    "\n",
    "def matricesMultiplication(a,b):\n",
    "    rowsA=len(a)\n",
    "    colsA=len(a[0])\n",
    "    colsB=len(b[0])\n",
    "    rows=rowsA\n",
    "    cols=colsB\n",
    "    finalList=makeList2D(rows,cols)\n",
    "    for row in range(rows):\n",
    "        for col in range(cols):\n",
    "            dotProduct=Fraction(0,1)\n",
    "            for multiplier in range(colsA):\n",
    "                dotProduct+=a[row][multiplier]*b[multiplier][col]\n",
    "            finalList[row][col]=dotProduct\n",
    "    return finalList\n",
    "    \n",
    "def makeIdentityMatrix(n):\n",
    "    matrix=makeList2D(n,n)\n",
    "    for i in range(n):\n",
    "        matrix[i][i]=Fraction(1,1)\n",
    "    return matrix\n",
    "\n",
    "def rowMultiplicationSquareMatrix(m,row,k):\n",
    "    n=len(m)\n",
    "    rowOperator=makeIdentityMatrix(n)\n",
    "    rowOperator[row][row]=k\n",
    "    return matricesMultiplication(rowOperator,m)\n",
    "\n",
    "def addMultipleOfRowOfSquareMatrix(m, sourceRow, k, targetRow):\n",
    "    n=len(m)\n",
    "    rowOperator=makeIdentityMatrix(n)\n",
    "    rowOperator[targetRow][sourceRow]=k\n",
    "    return matricesMultiplication(rowOperator,m)\n",
    "\n",
    "def matrixInvert(m):\n",
    "    n = len(m)\n",
    "    assert(n == len(m[0]))\n",
    "    invertMatrix=makeIdentityMatrix(n)\n",
    "    for col in range(n):\n",
    "        diagonalRow = col\n",
    "        assert(m[diagonalRow][col] != 0)\n",
    "        k = Fraction(1,m[diagonalRow][col])\n",
    "        m = rowMultiplicationSquareMatrix(invertMatrix, diagonalRow, k)\n",
    "        sourceRow = diagonalRow \n",
    "        for targetRow in range(n):\n",
    "            if sourceRow != targetRow:\n",
    "                k = -m[targetRow][col]\n",
    "                m =  addMultipleOfRowOfSquareMatrix(m,sourceRow,k,targetRow)\n",
    "                invertMatrix = addMultipleOfRowOfSquareMatrix(invertMatrix,sourceRow,k,targetRow)\n",
    "    return invertMatrix     \n",
    "    \n",
    "def subtractIdentity(q,denominator):\n",
    "    size = range(len(q))\n",
    "    for i in size:\n",
    "        for j in size:\n",
    "            if i==j:\n",
    "                q[i][j] = denominator - q[i][j]\n",
    "            else:\n",
    "                q[i][j] = -q[i][j]\n",
    "\n",
    "def transformMatrix(m):\n",
    "    for index,value in enumerate(m):\n",
    "        rowSum = sum(m[index])\n",
    "        if rowSum == 0:\n",
    "            m[index][index] = 1\n",
    "        else:\n",
    "            for cindex,cvalue in enumerate(value):\n",
    "                m[index][cindex]=Fraction(cvalue, rowSum)\n",
    "\n",
    "def getSubMatrix(m, rows, cols):\n",
    "    newMatrix=[]\n",
    "    for row in rows:\n",
    "        currRow=[]\n",
    "        for col in cols:\n",
    "            currRow.append(m[row][col])\n",
    "        newMatrix.append(currRow)\n",
    "    return newMatrix\n",
    "    \n",
    "def getQ(m , nonTerminalStates):\n",
    "    return getSubMatrix(m, nonTerminalStates, nonTerminalStates)\n",
    "\n",
    "def getR(m , nonTerminalStates, terminalStates):\n",
    "    return getSubMatrix(m, nonTerminalStates, terminalStates)\n",
    "\n",
    "def subtractMatrices(a,b):\n",
    "    matrix=[]\n",
    "    for rindex, rvalue in enumerate(a):\n",
    "        column=[]\n",
    "        for cindex, cvalue in enumerate(rvalue):\n",
    "            column.append(a[rindex][cindex] - b[rindex][cindex])\n",
    "        matrix.append(column)\n",
    "    return matrix\n",
    "\n",
    "def lcm(a,b):\n",
    "    result = a*b/gcd(a,b)\n",
    "    return result\n",
    "    \n",
    "def lcmForArrays(args):\n",
    "    arrLen = len(args)\n",
    "    if arrLen <= 2:\n",
    "        return lcm(*args)\n",
    "    initial=lcm(args[0],args[1])\n",
    "    i=2\n",
    "    while i < arrLen:\n",
    "        initial=lcm(initial,args[i])\n",
    "        i+=1\n",
    "    return initial\n",
    "\n",
    "def solution(m):\n",
    "    terminalStates=[]\n",
    "    nonTerminalStates=[]\n",
    "    for index,row in enumerate(m):\n",
    "        if sum(row)==0:\n",
    "            terminalStates.append(index)\n",
    "        else:\n",
    "            nonTerminalStates.append(index)\n",
    "        \n",
    "    if len(terminalStates) ==1:\n",
    "        return 1,1\n",
    "    \n",
    "    transformMatrix(m)\n",
    "    q=getQ(m,nonTerminalStates)\n",
    "    r=getR(m,nonTerminalStates,terminalStates)\n",
    "    \n",
    "    result=matricesMultiplication(matrixInvert(subtractMatrices(makeIdentityMatrix(len(q)),q)),r)\n",
    "    denominator=lcmForArrays([item.denominator for item in result[0]])\n",
    "    result=[item.numerator*denominator/item.denominator for item in result[0]]\n",
    "    result.append(denominator)\n",
    "    return [int(i) for i in result]\n",
    "    "
   ]
  },
  {
   "cell_type": "code",
   "execution_count": 141,
   "metadata": {},
   "outputs": [
    {
     "name": "stderr",
     "output_type": "stream",
     "text": [
      "F:\\Anaconda\\lib\\site-packages\\ipykernel_launcher.py:103: DeprecationWarning: fractions.gcd() is deprecated. Use math.gcd() instead.\n"
     ]
    },
    {
     "data": {
      "text/plain": [
       "[0, 0, 0, 1, 2]"
      ]
     },
     "execution_count": 141,
     "metadata": {},
     "output_type": "execute_result"
    }
   ],
   "source": [
    "solution([[0, 1, 0, 0, 0, 1], [4, 0, 0, 3, 2, 0], [0, 0, 0, 0, 0, 0], [0, 0, 0, 0, 0, 0], [0, 0, 0, 0, 0, 0], [0, 0, 0, 0, 0, 0]])"
   ]
  },
  {
   "cell_type": "code",
   "execution_count": 147,
   "metadata": {},
   "outputs": [],
   "source": [
    "from fractions import gcd\n",
    "from fractions import Fraction\n",
    "\n",
    "def makeList2D(rows,cols):\n",
    "    list2D=[]\n",
    "    for row in range(rows):\n",
    "        list2D+=[[0]*cols]\n",
    "    return list2D\n",
    "\n",
    "def matricesMultiplication(a,b):\n",
    "    rowsA=len(a)\n",
    "    colsA=len(a[0])\n",
    "    colsB=len(b[0])\n",
    "    rows=rowsA\n",
    "    cols=colsB\n",
    "    finalList=makeList2D(rows,cols)\n",
    "    for row in range(rows):\n",
    "        for col in range(cols):\n",
    "            dotProduct=Fraction(0,1)\n",
    "            for multiplier in range(colsA):\n",
    "                dotProduct+=a[row][multiplier]*b[multiplier][col]\n",
    "            finalList[row][col]=dotProduct\n",
    "    return finalList\n",
    "    \n",
    "def makeIdentityMatrix(n):\n",
    "    matrix=makeList2D(n,n)\n",
    "    for i in range(n):\n",
    "        matrix[i][i]=Fraction(1,1)\n",
    "    return matrix\n",
    "\n",
    "def rowMultiplicationSquareMatrix(m,row,k):\n",
    "    n=len(m)\n",
    "    rowOperator=makeIdentityMatrix(n)\n",
    "    rowOperator[row][row]=k\n",
    "    return matricesMultiplication(rowOperator,m)\n",
    "\n",
    "def addMultipleOfRowOfSquareMatrix(m, sourceRow, k, targetRow):\n",
    "    n=len(m)\n",
    "    rowOperator=makeIdentityMatrix(n)\n",
    "    rowOperator[targetRow][sourceRow]=k\n",
    "    return matricesMultiplication(rowOperator,m)\n",
    "\n",
    "def matrixInvert(m):\n",
    "    n = len(m)\n",
    "    assert(len(m) == len(m[0]))\n",
    "    invertMatrix=makeIdentityMatrix(n)\n",
    "    for col in range(n):\n",
    "        diagonalRow = col\n",
    "        assert(m[diagonalRow][col] != 0)\n",
    "        k = Fraction(1,m[diagonalRow][col])\n",
    "        m = rowMultiplicationSquareMatrix(m, diagonalRow, k)\n",
    "        invertMatrix=rowMultiplicationSquareMatrix(invertMatrix,diagonalRow,k)\n",
    "        sourceRow = diagonalRow \n",
    "        for targetRow in range(n):\n",
    "            if sourceRow != targetRow:\n",
    "                k = -m[targetRow][col]\n",
    "                m =  addMultipleOfRowOfSquareMatrix(m,sourceRow,k,targetRow)\n",
    "                invertMatrix = addMultipleOfRowOfSquareMatrix(invertMatrix,sourceRow,k,targetRow)\n",
    "    return invertMatrix     \n",
    "    \n",
    "def subtractIdentity(q,denominator):\n",
    "    size = range(len(q))\n",
    "    for i in size:\n",
    "        for j in size:\n",
    "            if i==j:\n",
    "                q[i][j] = denominator - q[i][j]\n",
    "            else:\n",
    "                q[i][j] = -q[i][j]\n",
    "\n",
    "def transformMatrix(m):\n",
    "    for index,value in enumerate(m):\n",
    "        rowSum = sum(m[index])\n",
    "        if rowSum == 0:\n",
    "            m[index][index] = 1\n",
    "        else:\n",
    "            for cindex,cvalue in enumerate(value):\n",
    "                m[index][cindex]=Fraction(cvalue, rowSum)\n",
    "\n",
    "def getSubMatrix(m, rows, cols):\n",
    "    newMatrix=[]\n",
    "    for row in rows:\n",
    "        currRow=[]\n",
    "        for col in cols:\n",
    "            currRow.append(m[row][col])\n",
    "        newMatrix.append(currRow)\n",
    "    return newMatrix\n",
    "    \n",
    "def getQ(m , nonTerminalStates):\n",
    "    return getSubMatrix(m, nonTerminalStates, nonTerminalStates)\n",
    "\n",
    "def getR(m , nonTerminalStates, terminalStates):\n",
    "    return getSubMatrix(m, nonTerminalStates, terminalStates)\n",
    "\n",
    "def subtractMatrices(a,b):\n",
    "    matrix=[]\n",
    "    for rindex, rvalue in enumerate(a):\n",
    "        column=[]\n",
    "        for cindex, cvalue in enumerate(rvalue):\n",
    "            column.append(a[rindex][cindex] - b[rindex][cindex])\n",
    "        matrix.append(column)\n",
    "    return matrix\n",
    "\n",
    "def lcm(a,b):\n",
    "    result = a*b/gcd(a,b)\n",
    "    return result\n",
    "    \n",
    "def lcmForArrays(args):\n",
    "    arrLen = len(args)\n",
    "    if arrLen <= 2:\n",
    "        return lcm(*args)\n",
    "    initial=lcm(args[0],args[1])\n",
    "    i=2\n",
    "    while i < arrLen:\n",
    "        initial=lcm(initial,args[i])\n",
    "        i+=1\n",
    "    return initial\n",
    "\n",
    "def solution(m):\n",
    "    terminalStates=[]\n",
    "    nonTerminalStates=[]\n",
    "    for index,row in enumerate(m):\n",
    "        if sum(row)==0:\n",
    "            terminalStates.append(index)\n",
    "        else:\n",
    "            nonTerminalStates.append(index)\n",
    "    if len(terminalStates) ==1:\n",
    "        return 1,1\n",
    "    \n",
    "    transformMatrix(m)\n",
    "    q=getQ(m,nonTerminalStates)\n",
    "    r=getR(m,nonTerminalStates,terminalStates)\n",
    "    \n",
    "    result=matricesMultiplication(matrixInvert(subtractMatrices(makeIdentityMatrix(len(q)),q)),r)\n",
    "    denominator=lcmForArrays([item.denominator for item in result[0]])\n",
    "    result=[item.numerator*denominator/item.denominator for item in result[0]]\n",
    "    result.append(denominator)\n",
    "    return [int(i) for i in result]\n",
    "    "
   ]
  },
  {
   "cell_type": "code",
   "execution_count": 148,
   "metadata": {},
   "outputs": [
    {
     "name": "stderr",
     "output_type": "stream",
     "text": [
      "F:\\Anaconda\\lib\\site-packages\\ipykernel_launcher.py:104: DeprecationWarning: fractions.gcd() is deprecated. Use math.gcd() instead.\n"
     ]
    },
    {
     "data": {
      "text/plain": [
       "[7, 6, 8, 21]"
      ]
     },
     "execution_count": 148,
     "metadata": {},
     "output_type": "execute_result"
    }
   ],
   "source": [
    "solution([[0, 2, 1, 0, 0], [0, 0, 0, 3, 4], [0, 0, 0, 0, 0], [0, 0, 0, 0,0], [0, 0, 0, 0, 0]])"
   ]
  },
  {
   "cell_type": "code",
   "execution_count": 183,
   "metadata": {},
   "outputs": [],
   "source": [
    "def sht_pth(sx, sy, maze):\n",
    "    w = len(maze[0])\n",
    "    h = len(maze)\n",
    "    board = [[None for i in range(w)] for i in range(h)]\n",
    "    board[sx][sy] = 1\n",
    "\n",
    "    arr = [(sx, sy)]\n",
    "    while arr:\n",
    "        x, y = arr.pop(0)\n",
    "        for i in [[1,0],[-1,0],[0,-1],[0,1]]:\n",
    "          nx, ny = x + i[0], y + i[1]\n",
    "          if 0 <= nx < h and 0 <= ny < w:\n",
    "            if board[nx][ny] is None:\n",
    "                board[nx][ny] = board[x][y] + 1\n",
    "                if maze[nx][ny] == 1 :\n",
    "                  continue\n",
    "                arr.append((nx, ny)) \n",
    "                  \n",
    "    return board\n",
    "\n",
    "def answer(maze):\n",
    "  w = len(maze[0])\n",
    "  h = len(maze)\n",
    "  tb = sht_pth(0, 0, maze)\n",
    "  bt = sht_pth(h-1, w-1, maze)\n",
    "  board = []\n",
    "\n",
    "  ans = 2 ** 32-1\n",
    "  for i in range(h):\n",
    "      for j in range(w):\n",
    "          if tb[i][j] and bt[i][j]:\n",
    "              ans = min(tb[i][j] + bt[i][j] - 1, ans)\n",
    "  return ans"
   ]
  },
  {
   "cell_type": "code",
   "execution_count": 185,
   "metadata": {},
   "outputs": [
    {
     "data": {
      "text/plain": [
       "7"
      ]
     },
     "execution_count": 185,
     "metadata": {},
     "output_type": "execute_result"
    }
   ],
   "source": [
    "solution([[0, 1, 1, 0], [0, 0, 0, 1], [1, 1, 0, 0], [1, 1, 1, 0]])"
   ]
  },
  {
   "cell_type": "code",
   "execution_count": 201,
   "metadata": {},
   "outputs": [],
   "source": [
    "def shortest_path(pathx,pathy,maze):\n",
    "    width=len(maze[0])\n",
    "    height=len(maze)\n",
    "    board=[[None for i in range(width)] for i in range(height)]\n",
    "    board[pathx][pathy]=1\n",
    "    arr=[(pathx,pathy)]\n",
    "    while arr:\n",
    "        x,y=arr.pop(0)\n",
    "        for i in [[1,0],[-1,0],[0,-1],[0,1]]:\n",
    "            newX, newY=(x+i[0]),(y+i[1])\n",
    "            if 0<= newX< height and 0<= newY < width:\n",
    "                if board[newX][newY] is None:\n",
    "                    board[newX][newY]=board[x][y]+1\n",
    "                    if maze[newX][newY]==1:\n",
    "                        continue\n",
    "                    arr.append((newX,newY))\n",
    "    return board\n",
    "\n",
    "def solution(map1):\n",
    "    width=len(map1[0])\n",
    "    height=len(map1)\n",
    "    topBottom=shortest_path(0,0,map1)\n",
    "    bottomTop=shortest_path(height-1,width-1,map1)\n",
    "    board=[]\n",
    "    lengthPath=2**32-1\n",
    "    for i in range(height):\n",
    "        for j in range(width):\n",
    "            if topBottom[i][j] and bottomTop[i][j]:\n",
    "                lengthPath=min(topBottom[i][j]+bottomTop[i][j]-1,lengthPath)\n",
    "    return lengthPath"
   ]
  },
  {
   "cell_type": "code",
   "execution_count": 212,
   "metadata": {},
   "outputs": [
    {
     "data": {
      "text/plain": [
       "11"
      ]
     },
     "execution_count": 212,
     "metadata": {},
     "output_type": "execute_result"
    }
   ],
   "source": [
    "solution([[0, 0, 0, 0, 0, 0], [1, 1, 1, 1, 1, 0], [0, 0, 0, 0, 0, 0], [0, 1, 1, 1, 1, 1], [0, 1, 1, 1, 1, 1], [0, 0, 0, 0, 0, 0]])"
   ]
  },
  {
   "cell_type": "code",
   "execution_count": 203,
   "metadata": {},
   "outputs": [],
   "source": [
    "def shortest_path(pathx,pathy,maze):\n",
    "    width=len(maze[0])\n",
    "    height=len(maze)\n",
    "    board=[[None for i in range(width)] for i in range(height)]\n",
    "    board[pathx][pathy]=1\n",
    "    arr=[(pathx,pathy)]\n",
    "    while arr:\n",
    "        x,y=arr.pop(0)\n",
    "        for i in [[1,0],[-1,0],[0,1],[0,-1]]:\n",
    "            newX, newY=x+i[0],y+i[1]\n",
    "            if 0<=newX<height and 0<= newY < width:\n",
    "                if board[newX][newY] is None:\n",
    "                    board[newX][newY]=board[x][y]+1\n",
    "                    if maze[newX][newY]==1:\n",
    "                        continue\n",
    "                    arr.append((newX,newY))\n",
    "    return board\n",
    "\n",
    "def solution(map):\n",
    "    width=len(map[0])\n",
    "    height=len(map)\n",
    "    topBottom=shortest_path(0,0,map)\n",
    "    bottomTop=shortest_path(width-1,height-1,map)\n",
    "    board=[]\n",
    "    lengthPath=2**32-1\n",
    "    for i in range(height):\n",
    "        for j in range(width):\n",
    "            if topBottom[i][j] and bottomTop[i][j]:\n",
    "                lengthPath=min(topBottom[i][j]+bottomTop[i][j]-1,lengthPath)\n",
    "    return lengthPath"
   ]
  },
  {
   "cell_type": "code",
   "execution_count": null,
   "metadata": {},
   "outputs": [],
   "source": []
  },
  {
   "cell_type": "code",
   "execution_count": 211,
   "metadata": {},
   "outputs": [],
   "source": [
    "def solution(map):\n",
    "  if len(map) < 2 or len(map) > 20 or len(map[0]) < 2 or len(map[0]) > 20:\n",
    "    return 0  \n",
    "  map_start = breadth_first_search(map, [0,0])\n",
    "  map_end  = breadth_first_search(map, [len(map)-1, len(map[0])-1])\n",
    "  ones = getOnes(map)\n",
    "  min = 1000 * 1000 * 1000\n",
    "  for one in ones:\n",
    "    adj1 = getAdjacent(one, map_start)\n",
    "    adj2 = getAdjacent(one, map_end)\n",
    "    if not adj1 or not adj2:\n",
    "      continue    \n",
    "    sum = adj1 + adj2 + 1\n",
    "    if sum < min:\n",
    "      min = sum\n",
    "  return min\n",
    "\n",
    "def getAdjacent(one, map):\n",
    "  l = []\n",
    "  node = convertStringToNode(one)\n",
    "  x = node[0]\n",
    "  y = node[1]\n",
    "  a = convertNodeToString([x+1, y])\n",
    "  b = convertNodeToString([x-1, y])\n",
    "  c = convertNodeToString([x, y+1])\n",
    "  d = convertNodeToString([x, y-1])\n",
    "\n",
    "  if a in map:\n",
    "    l.append(map[a])\n",
    "  if b in map:\n",
    "    l.append(map[b])\n",
    "  if c in map:\n",
    "    l.append(map[c])\n",
    "  if d in map:\n",
    "    l.append(map[d])\n",
    "  if len(l) == 0:\n",
    "      return None\n",
    "  else:\n",
    "    return min(l)\n",
    "  \n",
    "  \n",
    "\n",
    "def getOnes(map):\n",
    "  l = []\n",
    "  for x in range(0,len(map)):\n",
    "    for y in range(0,len(map[0])):\n",
    "      if map[x][y] == 1:\n",
    "        l.append(convertNodeToString([x, y]))\n",
    "  return l\n",
    "\n",
    "def breadth_first_search(map, first):\n",
    "  \n",
    "  queue = []\n",
    "  dict = {}\n",
    "  queue.append(first)\n",
    "  dict[convertNodeToString(first)] = 1\n",
    "  \n",
    "  while len(queue) > 0:\n",
    "    \n",
    "    current = queue.pop(0)\n",
    "    for neighbor in findNeighbors(current, map):\n",
    "      if neighbor[0] < 0 or neighbor[0] > len(map)-1 or neighbor[1] < 0 or neighbor[1] > len(map[0])-1:\n",
    "        pass\n",
    "      else:\n",
    "        if map[neighbor[0]][neighbor[1]] == 0 and convertNodeToString(neighbor) not in dict:\n",
    "          queue.append(neighbor)\n",
    "          dict[convertNodeToString(neighbor)] = dict[convertNodeToString(current)] + 1\n",
    "        else:\n",
    "          pass\n",
    "  return dict\n",
    "\n",
    "def convertStringToNode(s):\n",
    "  a = s.split('-')\n",
    "  return[int(a[0]), int(a[1])]\n",
    "\n",
    "def convertNodeToString(node):\n",
    "    test = str(node[0]) + '-' + str(node[1])\n",
    "    return test\n",
    "\n",
    "def findNeighbors(current, map):\n",
    "  x = current[0]\n",
    "  y = current[1]\n",
    "  neighbors = []\n",
    "  \n",
    "  neighbors.append([x+1,y])\n",
    "  neighbors.append([x,y+1])\n",
    "  neighbors.append([x-1,y])\n",
    "  neighbors.append([x,y-1])\n",
    "  \n",
    "  return neighbors"
   ]
  },
  {
   "cell_type": "code",
   "execution_count": null,
   "metadata": {},
   "outputs": [],
   "source": []
  },
  {
   "cell_type": "code",
   "execution_count": null,
   "metadata": {},
   "outputs": [],
   "source": []
  },
  {
   "cell_type": "code",
   "execution_count": null,
   "metadata": {},
   "outputs": [],
   "source": []
  },
  {
   "cell_type": "code",
   "execution_count": null,
   "metadata": {},
   "outputs": [],
   "source": []
  },
  {
   "cell_type": "code",
   "execution_count": null,
   "metadata": {},
   "outputs": [],
   "source": []
  },
  {
   "cell_type": "code",
   "execution_count": 229,
   "metadata": {},
   "outputs": [],
   "source": [
    "def answer(Mach, Fachula):\n",
    "    mach, facula= int(Mach), int(Fachula)\n",
    "    sum = 0\n",
    "    while not (mach== 1 and facula== 1):\n",
    "        if facula <= 0 or mach<= 0:\n",
    "            return \"impossible\"\n",
    "        if facula== 1:\n",
    "            return str(sum + mach- 1)\n",
    "        else:\n",
    "            sum += int(mach/facula)\n",
    "            mach, facula= facula, mach% facula\n",
    "    return str(sum)"
   ]
  },
  {
   "cell_type": "code",
   "execution_count": 230,
   "metadata": {},
   "outputs": [
    {
     "data": {
      "text/plain": [
       "'4'"
      ]
     },
     "execution_count": 230,
     "metadata": {},
     "output_type": "execute_result"
    }
   ],
   "source": [
    "answer('4','7')"
   ]
  },
  {
   "cell_type": "code",
   "execution_count": null,
   "metadata": {},
   "outputs": [],
   "source": []
  }
 ],
 "metadata": {
  "kernelspec": {
   "display_name": "Python 3",
   "language": "python",
   "name": "python3"
  },
  "language_info": {
   "codemirror_mode": {
    "name": "ipython",
    "version": 3
   },
   "file_extension": ".py",
   "mimetype": "text/x-python",
   "name": "python",
   "nbconvert_exporter": "python",
   "pygments_lexer": "ipython3",
   "version": "3.7.4"
  }
 },
 "nbformat": 4,
 "nbformat_minor": 4
}
